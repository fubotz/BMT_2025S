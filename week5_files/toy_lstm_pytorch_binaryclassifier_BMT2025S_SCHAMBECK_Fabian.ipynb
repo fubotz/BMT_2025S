{
 "nbformat": 4,
 "nbformat_minor": 0,
 "metadata": {
  "colab": {
   "provenance": []
  },
  "kernelspec": {
   "name": "python3",
   "display_name": "Python 3"
  },
  "accelerator": "GPU"
 },
 "cells": [
  {
   "cell_type": "code",
   "metadata": {
    "id": "WSEZpJgvew2h",
    "colab": {
     "base_uri": "https://localhost:8080/"
    },
    "outputId": "82fffccb-8352-40c2-c0b4-bdd6dc0d429e"
   },
   "source": [
    "#import libraries\n",
    "import torch\n",
    "import torch.nn as nn\n",
    "import torch.optim as optim\n",
    "\n",
    "import numpy as np\n",
    "import matplotlib.pyplot as plt\n",
    "%matplotlib inline\n",
    "\n",
    "#for reproducibility\n",
    "torch.manual_seed(42)\n",
    "np.random.seed(42)\n",
    "\n",
    "# create data with positive instances (X2, Y2) and negative (X1, Y1)\n",
    "#[N, T, F] number of instances, time, features\n",
    "X1 = torch.randn(500, 5000, 100)\n",
    "X2 = torch.randn(500, 5000, 100) + 1.5\n",
    "X = torch.cat([X1, X2], dim=0)\n",
    "Y1 = torch.zeros(500, 1)\n",
    "Y2 = torch.ones(500, 1)\n",
    "Y = torch.cat([Y1, Y2], dim=0)\n",
    "#[N, F] instances, time, features\n",
    "print(X.size())\n",
    "#[N, 1] instances, label [0,1]\n",
    "print(Y.size())"
   ],
   "execution_count": 4,
   "outputs": [
    {
     "output_type": "stream",
     "name": "stdout",
     "text": [
      "torch.Size([1000, 5000, 100])\n",
      "torch.Size([1000, 1])\n"
     ]
    }
   ]
  },
  {
   "cell_type": "code",
   "metadata": {
    "id": "AP5rAdq-fn_X",
    "colab": {
     "base_uri": "https://localhost:8080/"
    },
    "outputId": "cf887073-d8a5-42c6-a1a3-2d1c22ea2e15"
   },
   "source": [
    "#define model\n",
    "class Net(nn.Module):\n",
    "\n",
    "    def __init__(self, feat_size=100, hidden_size=100, num_labels=1, dropout=0.2, bidirectional=False, feat_representation='mean'):\n",
    "        super().__init__()\n",
    "        self.feat_representation = feat_representation\n",
    "        self.bidirectional = bidirectional\n",
    "        self.fc1 = nn.Linear(feat_size, feat_size)\n",
    "        self.relu = nn.ReLU()\n",
    "        self.dout = nn.Dropout(dropout)\n",
    "        self.lstm = nn.LSTM(feat_size, hidden_size, batch_first=True,\n",
    "                            bidirectional=bidirectional)\n",
    "        encoding_size = hidden_size * 2 if bidirectional else hidden_size\n",
    "        self.fc2 = nn.Linear(encoding_size, hidden_size)\n",
    "        self.out = nn.Linear(hidden_size, num_labels)\n",
    "        self.out_act = nn.Sigmoid()\n",
    "\n",
    "    def forward(self, x):\n",
    "        #[B, T, F] batch, time, features\n",
    "        h1 = self.fc1(x)\n",
    "        h1 = self.relu(h1)\n",
    "        #[B, T, H] batch, time, hidden or hidden * 2\n",
    "        outputs, (final, _) = self.lstm(h1)   #mke gru!!\n",
    "\n",
    "        if self.feat_representation == 'mean':\n",
    "            #mean over hidden states of LSTM\n",
    "            outputs = self.dout(outputs)\n",
    "            h = self.relu(self.fc2(outputs))\n",
    "            #[B, H]\n",
    "            h = h.mean(dim=1)\n",
    "        elif self.feat_representation == 'last_state':\n",
    "            #last hidden state of the lstm or concat of bidirectional forward and backward states\n",
    "            if self.bidirectional:\n",
    "                h_T_fwd = final[0]\n",
    "                h_T_bwd = final[1]\n",
    "                h = torch.cat([h_T_fwd, h_T_bwd], dim=-1)\n",
    "            else:\n",
    "                h = final[-1]\n",
    "            h = self.relu(self.fc2(h))\n",
    "            h = self.dout(h)\n",
    "        #[B, 1]\n",
    "        logits = self.out(h)\n",
    "        probs = self.out_act(logits)\n",
    "        return logits, probs\n",
    "\n",
    "#model\n",
    "model = Net()\n",
    "#check for device\n",
    "device = torch.device(\"cuda:0\") if torch.cuda.is_available() else torch.device(\"cpu\")\n",
    "model = model.to(device)\n",
    "#print architecture\n",
    "print(model)\n",
    "#define adam optimizer\n",
    "opt = optim.Adam(model.parameters(), lr=1e-3)\n",
    "#define binary loss\n",
    "criterion = nn.BCEWithLogitsLoss()"
   ],
   "execution_count": 5,
   "outputs": [
    {
     "output_type": "stream",
     "name": "stdout",
     "text": [
      "Net(\n",
      "  (fc1): Linear(in_features=100, out_features=100, bias=True)\n",
      "  (relu): ReLU()\n",
      "  (dout): Dropout(p=0.2, inplace=False)\n",
      "  (lstm): LSTM(100, 100, batch_first=True)\n",
      "  (fc2): Linear(in_features=100, out_features=100, bias=True)\n",
      "  (out): Linear(in_features=100, out_features=1, bias=True)\n",
      "  (out_act): Sigmoid()\n",
      ")\n"
     ]
    }
   ]
  },
  {
   "cell_type": "code",
   "metadata": {
    "id": "NFJPqMFDhXvj",
    "colab": {
     "base_uri": "https://localhost:8080/",
     "height": 447
    },
    "outputId": "6696cdec-003f-4bae-b3b1-9f6cff23641b"
   },
   "source": [
    "#define hyperparameters\n",
    "\n",
    "e_losses = []\n",
    "num_epochs = 20\n",
    "batch_size=64\n",
    "\n",
    "for e in range(num_epochs):\n",
    "    model.train()\n",
    "    loss_batch = []\n",
    "    for beg_i in range(0, X.size(0), batch_size):\n",
    "        #batch instances given batch size\n",
    "        x_batch = X[beg_i:beg_i + batch_size, :]\n",
    "        y_batch = Y[beg_i:beg_i + batch_size, :]\n",
    "        x_batch = x_batch.to(device)\n",
    "        y_batch = y_batch.to(device)\n",
    "\n",
    "        opt.zero_grad()\n",
    "        #(1) Forward\n",
    "\n",
    "        y_logits, y_probs = model(x_batch)\n",
    "        #print(y_probs.size())\n",
    "        #(2) Compute loss\n",
    "        loss = criterion(y_logits, y_batch)\n",
    "        #save loss of batch\n",
    "        loss_batch.append(loss.item())\n",
    "        #(3) Compute gradients\n",
    "        loss.backward()\n",
    "        #print('backprop')\n",
    "        #(4) update weights\n",
    "        opt.step()\n",
    "\n",
    "    e_losses += loss_batch\n",
    "#plot loss over epochs\n",
    "plt.plot(e_losses)"
   ],
   "execution_count": 6,
   "outputs": [
    {
     "output_type": "execute_result",
     "data": {
      "text/plain": [
       "[<matplotlib.lines.Line2D at 0x79831d642f90>]"
      ]
     },
     "metadata": {},
     "execution_count": 6
    },
    {
     "output_type": "display_data",
     "data": {
      "text/plain": [
       "<Figure size 640x480 with 1 Axes>"
      ],
      "image/png": "[encoded data removed]"
     },
     "metadata": {}
    }
   ]
  },
  {
   "cell_type": "code",
   "metadata": {
    "id": "qOqlotxYkHxQ",
    "colab": {
     "base_uri": "https://localhost:8080/"
    },
    "outputId": "8e044bbc-36b6-4052-c453-fa1ac76f494b"
   },
   "source": [
    "#prediction\n",
    "x_t = torch.randn(1, 5000, 100)\n",
    "x_t = x_t.to(device)\n",
    "\n",
    "model.eval()\n",
    "y_logit, y_prob = model(x_t)\n",
    "print(y_prob.item())\n",
    "x_1_t = torch.randn(1, 5000, 100) + 1.5\n",
    "x_1_t = x_1_t.to(device)\n",
    "y1_logit, y1_prob = model(x_1_t)\n",
    "print(y1_prob.item())"
   ],
   "execution_count": 7,
   "outputs": [
    {
     "output_type": "stream",
     "name": "stdout",
     "text": [
      "0.00014710359391756356\n",
      "0.9999673366546631\n"
     ]
    }
   ]
  },
  {
   "cell_type": "markdown",
   "source": [
    "# TODO\n",
    "\n",
    "Make a new section for each new model NetLast(), NetBiLSTM(), NetDropout()....\n",
    "\n",
    "- Try different feature representations: last state and bidirectional LSTM\n",
    "- try different feature sizes, and dropout [0.1, 0.5, 0.8]\n",
    "- try different non linearities: sigmod, tanh\n",
    "- Use a GRU instead of LSTM: [GRU pytorch](https://pytorch.org/docs/stable/generated/torch.nn.GRU.html)\n",
    "- what if we predict a sequence instead of classification?\n",
    "```python\n",
    "#[N, T, F] number of instances, time, features\n",
    "X1 = torch.randn(1000, 48, 50)\n",
    "X2 = torch.randn(1000, 48, 50) + 1.5\n",
    "X = torch.cat([X1, X2], dim=0)\n",
    "mask = torch.cuda.FloatTensor(2000, 48, 1).uniform_() > 0.8\n",
    "Y1 = torch.zeros(1000, 1)\n",
    "Y2 = torch.ones(1000, 1)\n",
    "#[B, 1]\n",
    "Y_mean = torch.cat([Y1, Y2], dim=0)\n",
    "#[B, T, 1]\n",
    "Y_seq = Y_mean.unsqueeze(1).repeat(1, 48, 1)\n",
    "#[N, F] instances, time, features\n",
    "print(X.size())\n",
    "#[N, 1] instances, label [0,1]\n",
    "print(Y_seq.size())\n",
    "#print(Y_mean.size())\n",
    "print(mask.size())\n",
    "#in model\n",
    "def forward(self, x):\n",
    "    #...\n",
    "    #[B, T, H]\n",
    "    #h_mean = h_time.mean(1)\n",
    "    #[B, T, H] logits is a seq\n",
    "    #logits_mean = self.out_mean(h_mean)\n",
    "    return logits_seq\n",
    "#criterion\n",
    "criterion = nn.BCEWithLogitsLoss(reduction='none')\n",
    "#[B, 1] mean (0)\n",
    "#loss\n",
    "#[B, T, 1]\n",
    "loss_seq = loss_seq * x_mask\n",
    "loss_seq = loss_seq.sum(1)\n",
    "loss_seq = loss_seq.mean(0)\n",
    "```\n",
    "- change BCElogits to probs https://pytorch.org/docs/stable/generated/torch.nn.BCELoss.html\n"
   ],
   "metadata": {
    "id": "_19uyVjK9Bml"
   }
  }
 ]
}
