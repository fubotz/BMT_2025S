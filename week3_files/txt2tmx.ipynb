{
  "nbformat": 4,
  "nbformat_minor": 0,
  "metadata": {
    "colab": {
      "provenance": []
    },
    "kernelspec": {
      "name": "python3",
      "display_name": "Python 3"
    },
    "language_info": {
      "name": "python"
    }
  },
  "cells": [
    {
      "cell_type": "code",
      "execution_count": 1,
      "metadata": {
        "colab": {
          "base_uri": "https://localhost:8080/"
        },
        "id": "puaNWDE9DNfg",
        "outputId": "79fac43d-46c6-4601-ce2f-e81dee01ab33"
      },
      "outputs": [
        {
          "output_type": "stream",
          "name": "stdout",
          "text": [
            "Collecting translate-toolkit\n",
            "  Downloading translate_toolkit-3.15.1-py3-none-any.whl.metadata (10 kB)\n",
            "Collecting cwcwidth<0.2,>=0.1.10 (from translate-toolkit)\n",
            "  Downloading cwcwidth-0.1.10-cp311-cp311-manylinux_2_5_x86_64.manylinux1_x86_64.manylinux_2_17_x86_64.manylinux2014_x86_64.whl.metadata (2.0 kB)\n",
            "Requirement already satisfied: lxml<5.4,>=5.2.0 in /usr/local/lib/python3.11/dist-packages (from translate-toolkit) (5.3.1)\n",
            "Downloading translate_toolkit-3.15.1-py3-none-any.whl (744 kB)\n",
            "\u001b[2K   \u001b[90m━━━━━━━━━━━━━━━━━━━━━━━━━━━━━━━━━━━━━━━━\u001b[0m \u001b[32m744.9/744.9 kB\u001b[0m \u001b[31m7.5 MB/s\u001b[0m eta \u001b[36m0:00:00\u001b[0m\n",
            "\u001b[?25hDownloading cwcwidth-0.1.10-cp311-cp311-manylinux_2_5_x86_64.manylinux1_x86_64.manylinux_2_17_x86_64.manylinux2014_x86_64.whl (100 kB)\n",
            "\u001b[2K   \u001b[90m━━━━━━━━━━━━━━━━━━━━━━━━━━━━━━━━━━━━━━━━\u001b[0m \u001b[32m100.4/100.4 kB\u001b[0m \u001b[31m3.2 MB/s\u001b[0m eta \u001b[36m0:00:00\u001b[0m\n",
            "\u001b[?25hInstalling collected packages: cwcwidth, translate-toolkit\n",
            "Successfully installed cwcwidth-0.1.10 translate-toolkit-3.15.1\n"
          ]
        }
      ],
      "source": [
        "#install translate lib\n",
        "!pip install translate-toolkit #==3.14.7"
      ]
    },
    {
      "cell_type": "code",
      "source": [
        "#clone repo from Github and navigate to correct working directory\n",
        "!git clone https://github.com/fubotz/BMT_2025S\n",
        "%cd BMT_2025S/week3_files"
      ],
      "metadata": {
        "id": "uNYivetsKDq7",
        "outputId": "fbd396b9-f52d-441b-f9bf-63ac472da828",
        "colab": {
          "base_uri": "https://localhost:8080/"
        }
      },
      "execution_count": 2,
      "outputs": [
        {
          "output_type": "stream",
          "name": "stdout",
          "text": [
            "Cloning into 'BMT_2025S'...\n",
            "remote: Enumerating objects: 132, done.\u001b[K\n",
            "remote: Counting objects: 100% (132/132), done.\u001b[K\n",
            "remote: Compressing objects: 100% (110/110), done.\u001b[K\n",
            "remote: Total 132 (delta 44), reused 0 (delta 0), pack-reused 0 (from 0)\u001b[K\n",
            "Receiving objects: 100% (132/132), 11.69 MiB | 5.07 MiB/s, done.\n",
            "Resolving deltas: 100% (44/44), done.\n",
            "/content/BMT_2025S/week3_files\n"
          ]
        }
      ]
    },
    {
      "cell_type": "code",
      "source": [
        "import os\n",
        "import codecs\n",
        "\n",
        "# Import BeautifulSoup\n",
        "import re\n",
        "from translate.storage.tmx import tmxfile\n",
        "from translate.storage.trados import TradosTxtTmFile\n",
        "\n",
        "content = []\n",
        "\n",
        "# Read the XML file\n",
        "def main(args):\n",
        "    st, src_in, trg_in, output = args\n",
        "    src, trg = st.split('-')\n",
        "    src_lines = codecs.open(src_in, \"r\", \"utf-8\")\n",
        "    trg_lines = codecs.open(trg_in, \"r\", \"utf-8\")\n",
        "    #xml_file = codecs.open(output, \"w\", \"utf-8\")\n",
        "\n",
        "    tmx_o = tmxfile()\n",
        "    tmx_o.addheader()\n",
        "\n",
        "    for src_line, trg_line in zip(src_lines, trg_lines):\n",
        "        scr_line = src_line.strip()\n",
        "        trg_line = trg_line.strip()\n",
        "        tmx_o.addtranslation(src_line, src, trg_line, trg)\n",
        "\n",
        "    #print(dir(tmx_o))\n",
        "    #print(str(tmx_o.__str__()), file=xml_file)\n",
        "    tmx_o.savefile(output)\n",
        "\n",
        "    return"
      ],
      "metadata": {
        "id": "B9HDtg_SSBct"
      },
      "execution_count": 3,
      "outputs": []
    },
    {
      "cell_type": "code",
      "source": [
        "st = 'en-de'\n",
        "src_in = 'en.txt'\n",
        "trg_in = 'nllb.de.txt'\n",
        "output = 'Vienna_Environmental_en-de_nllb.tmx'\n",
        "main((st, src_in, trg_in, output))"
      ],
      "metadata": {
        "id": "EUkyy7ZdSXsa"
      },
      "execution_count": 5,
      "outputs": []
    },
    {
      "cell_type": "code",
      "source": [
        "#st = 'en-de' en-it en-fr\n",
        "#src_in = 'Vienna_Environmental.en-de.valid.en'\n",
        "#trg_in = 'Vienna_Environmental.en-de.valid.de' MT system!!!\n",
        "#output = 'Vienna_Environmental_en-de_valid.tmx'\n",
        "#main((st, src_in, trg_in, output))"
      ],
      "metadata": {
        "id": "L9Sk8Q-oRa8i"
      },
      "execution_count": 6,
      "outputs": []
    }
  ]
}