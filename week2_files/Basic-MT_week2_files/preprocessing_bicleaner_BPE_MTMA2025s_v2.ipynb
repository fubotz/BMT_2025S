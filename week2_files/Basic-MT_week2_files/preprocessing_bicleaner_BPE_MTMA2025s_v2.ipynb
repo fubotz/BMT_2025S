{
  "cells": [
    {
      "cell_type": "markdown",
      "metadata": {
        "id": "8VtQ8m5VN9lP"
      },
      "source": [
        "# Preprocessing\n",
        "\n",
        "- Cleaning parallel corpus\n",
        "- BPE tokenization\n",
        "\n",
        "[Bicleaner](https://github.com/bitextor/bicleaner-hardrules)\n",
        "\n",
        "\n",
        "RULES:\n",
        "- no_empty,\tSentence is empty\n",
        "- not_too_long,\tSentence is more than 1024 characters long\n",
        "- not_too_short,\tSentence is less than\t3 words long\n",
        "- length_ratio,\tThe length ratio between the source sentence and target sentence (in bytes) is too low or too high\n",
        "- no_identical,\tAlphabetic content in source sentence and target sentence is identical\n",
        "- no_literals,  Unwanted literals: \"Re:\",\"{{\", \"%s\", \"}}\", \"+++\", \"***\", '=\\\"'\n",
        "- no_only_symbols,\tThe ratio of non-alphabetic characters in source sentence is more than 90%\n",
        "- no_only_numbers,\tThe ratio of numeric characters in source sentence is too high\n",
        "- no_urls,\tThere are URLs (disabled by default)\n",
        "- no_breadcrumbs,\tThere are more than 2 breadcrumb characters in the sentence\n",
        "- no_glued_words,\tThere are words in the sentence containing too many uppercased characters between lowercased characters\n",
        "- no_repeated_words, There are words repeated consecutively\n",
        "- no_unicode_noise,\tToo many characters from unwanted unicode in source sentence\n",
        "- no_space_noise,\tToo many consecutive single characters separated by spaces in the sentence (excludes digits)\n",
        "- no_paren,\tToo many parenthesis or brackets in sentence\n",
        "- no_escaped_unicode,\tThere is unescaped unicode characters in sentence\n",
        "- no_bad_encoding,\tSource sentence or target sentence contains mojibake\n",
        "- no_titles,\tAll words in source sentence or target sentence are uppercased or in titlecase\n",
        "- no_wrong_language,\tSentence is not in the desired language\n",
        "- no_porn,\tSource sentence or target sentence contains text identified as porn\n",
        "- no_number_inconsistencies,\tSentence contains different numbers in source and target (disabled by default)\n",
        "- no_script,_inconsistencies\tSentence source or target contains characters from different script/writing systems (disabled by default)\n",
        "- lm_filter,\tThe sentence pair has low fluency score from the language model"
      ]
    },
    {
      "cell_type": "code",
      "execution_count": 1,
      "metadata": {
        "colab": {
          "base_uri": "https://localhost:8080/"
        },
        "id": "txAnDpS2TBzI",
        "outputId": "24186210-2164-419e-fc38-d69e297afa04"
      },
      "outputs": [
        {
          "output_type": "stream",
          "name": "stdout",
          "text": [
            "Reading package lists... Done\n",
            "Building dependency tree... Done\n",
            "Reading state information... Done\n",
            "The following additional packages will be installed:\n",
            "  dictionaries-common hunspell-en-us libhunspell-1.7-0 libtext-iconv-perl\n",
            "Suggested packages:\n",
            "  ispell | aspell | hunspell wordlist hunspell openoffice.org-hunspell | openoffice.org-core\n",
            "The following NEW packages will be installed:\n",
            "  dictionaries-common hunspell-en-us libhunspell-1.7-0 libhunspell-dev libtext-iconv-perl\n",
            "0 upgraded, 5 newly installed, 0 to remove and 29 not upgraded.\n",
            "Need to get 896 kB of archives.\n",
            "After this operation, 3,130 kB of additional disk space will be used.\n",
            "Get:1 http://archive.ubuntu.com/ubuntu jammy/main amd64 libtext-iconv-perl amd64 1.7-7build3 [14.3 kB]\n",
            "Get:2 http://archive.ubuntu.com/ubuntu jammy/main amd64 dictionaries-common all 1.28.14 [185 kB]\n",
            "Get:3 http://archive.ubuntu.com/ubuntu jammy/main amd64 hunspell-en-us all 1:2020.12.07-2 [280 kB]\n",
            "Get:4 http://archive.ubuntu.com/ubuntu jammy/main amd64 libhunspell-1.7-0 amd64 1.7.0-4build1 [175 kB]\n",
            "Get:5 http://archive.ubuntu.com/ubuntu jammy/main amd64 libhunspell-dev amd64 1.7.0-4build1 [241 kB]\n",
            "Fetched 896 kB in 2s (480 kB/s)\n",
            "Preconfiguring packages ...\n",
            "Selecting previously unselected package libtext-iconv-perl.\n",
            "(Reading database ... 125044 files and directories currently installed.)\n",
            "Preparing to unpack .../libtext-iconv-perl_1.7-7build3_amd64.deb ...\n",
            "Unpacking libtext-iconv-perl (1.7-7build3) ...\n",
            "Selecting previously unselected package dictionaries-common.\n",
            "Preparing to unpack .../dictionaries-common_1.28.14_all.deb ...\n",
            "Adding 'diversion of /usr/share/dict/words to /usr/share/dict/words.pre-dictionaries-common by dictionaries-common'\n",
            "Unpacking dictionaries-common (1.28.14) ...\n",
            "Selecting previously unselected package hunspell-en-us.\n",
            "Preparing to unpack .../hunspell-en-us_1%3a2020.12.07-2_all.deb ...\n",
            "Unpacking hunspell-en-us (1:2020.12.07-2) ...\n",
            "Selecting previously unselected package libhunspell-1.7-0:amd64.\n",
            "Preparing to unpack .../libhunspell-1.7-0_1.7.0-4build1_amd64.deb ...\n",
            "Unpacking libhunspell-1.7-0:amd64 (1.7.0-4build1) ...\n",
            "Selecting previously unselected package libhunspell-dev:amd64.\n",
            "Preparing to unpack .../libhunspell-dev_1.7.0-4build1_amd64.deb ...\n",
            "Unpacking libhunspell-dev:amd64 (1.7.0-4build1) ...\n",
            "Setting up libtext-iconv-perl (1.7-7build3) ...\n",
            "Setting up dictionaries-common (1.28.14) ...\n",
            "Setting up hunspell-en-us (1:2020.12.07-2) ...\n",
            "Setting up libhunspell-1.7-0:amd64 (1.7.0-4build1) ...\n",
            "Setting up libhunspell-dev:amd64 (1.7.0-4build1) ...\n",
            "Processing triggers for man-db (2.10.2-1) ...\n",
            "Processing triggers for libc-bin (2.35-0ubuntu3.8) ...\n",
            "/sbin/ldconfig.real: /usr/local/lib/libtbb.so.12 is not a symbolic link\n",
            "\n",
            "/sbin/ldconfig.real: /usr/local/lib/libumf.so.0 is not a symbolic link\n",
            "\n",
            "/sbin/ldconfig.real: /usr/local/lib/libtbbmalloc_proxy.so.2 is not a symbolic link\n",
            "\n",
            "/sbin/ldconfig.real: /usr/local/lib/libtbbbind_2_5.so.3 is not a symbolic link\n",
            "\n",
            "/sbin/ldconfig.real: /usr/local/lib/libur_adapter_level_zero.so.0 is not a symbolic link\n",
            "\n",
            "/sbin/ldconfig.real: /usr/local/lib/libhwloc.so.15 is not a symbolic link\n",
            "\n",
            "/sbin/ldconfig.real: /usr/local/lib/libtcm.so.1 is not a symbolic link\n",
            "\n",
            "/sbin/ldconfig.real: /usr/local/lib/libtcm_debug.so.1 is not a symbolic link\n",
            "\n",
            "/sbin/ldconfig.real: /usr/local/lib/libtbbbind_2_0.so.3 is not a symbolic link\n",
            "\n",
            "/sbin/ldconfig.real: /usr/local/lib/libtbbmalloc.so.2 is not a symbolic link\n",
            "\n",
            "/sbin/ldconfig.real: /usr/local/lib/libur_adapter_opencl.so.0 is not a symbolic link\n",
            "\n",
            "/sbin/ldconfig.real: /usr/local/lib/libur_loader.so.0 is not a symbolic link\n",
            "\n",
            "/sbin/ldconfig.real: /usr/local/lib/libtbbbind.so.3 is not a symbolic link\n",
            "\n",
            "Processing triggers for dictionaries-common (1.28.14) ...\n",
            "Reading package lists... Done\n",
            "Building dependency tree... Done\n",
            "Reading state information... Done\n",
            "hunspell-en-us is already the newest version (1:2020.12.07-2).\n",
            "hunspell-en-us set to manually installed.\n",
            "0 upgraded, 0 newly installed, 0 to remove and 29 not upgraded.\n",
            "Reading package lists... Done\n",
            "Building dependency tree... Done\n",
            "Reading state information... Done\n",
            "Suggested packages:\n",
            "  hunspell libreoffice-writer\n",
            "The following NEW packages will be installed:\n",
            "  hunspell-de-de\n",
            "0 upgraded, 1 newly installed, 0 to remove and 29 not upgraded.\n",
            "Need to get 286 kB of archives.\n",
            "After this operation, 1,176 kB of additional disk space will be used.\n",
            "Get:1 http://archive.ubuntu.com/ubuntu jammy/main amd64 hunspell-de-de all 20161207-9 [286 kB]\n",
            "Fetched 286 kB in 2s (171 kB/s)\n",
            "Selecting previously unselected package hunspell-de-de.\n",
            "(Reading database ... 125155 files and directories currently installed.)\n",
            "Preparing to unpack .../hunspell-de-de_20161207-9_all.deb ...\n",
            "Unpacking hunspell-de-de (20161207-9) ...\n",
            "Setting up hunspell-de-de (20161207-9) ...\n",
            "Processing triggers for dictionaries-common (1.28.14) ...\n",
            "Collecting hunspell\n",
            "  Downloading hunspell-0.5.5.tar.gz (34 kB)\n",
            "  Preparing metadata (setup.py) ... \u001b[?25l\u001b[?25hdone\n",
            "Building wheels for collected packages: hunspell\n",
            "  Building wheel for hunspell (setup.py) ... \u001b[?25l\u001b[?25hdone\n",
            "  Created wheel for hunspell: filename=hunspell-0.5.5-cp311-cp311-linux_x86_64.whl size=66312 sha256=3f892ea64d9ab4137b527104040b03f881bd3f0d46a0f293b09d88f27a4e84aa\n",
            "  Stored in directory: /root/.cache/pip/wheels/0b/41/b3/14ebfe8dfb3116e3f1ab55ff0db766d1ef033b6842ccc67e24\n",
            "Successfully built hunspell\n",
            "Installing collected packages: hunspell\n",
            "Successfully installed hunspell-0.5.5\n"
          ]
        }
      ],
      "source": [
        "#install dependency libraries\n",
        "!apt install libhunspell-dev\n",
        "!apt-get install hunspell-en-us\n",
        "# hunspell-en-med ??\n",
        "!apt-get install hunspell-de-de\n",
        "!pip install hunspell"
      ]
    },
    {
      "cell_type": "code",
      "execution_count": 2,
      "metadata": {
        "colab": {
          "base_uri": "https://localhost:8080/"
        },
        "id": "l0tT7uz7N37c",
        "outputId": "bb53fb0f-1d2a-4d04-9db8-6a58614eb20b"
      },
      "outputs": [
        {
          "output_type": "stream",
          "name": "stdout",
          "text": [
            "Collecting https://github.com/kpu/kenlm/archive/master.zip\n",
            "  Downloading https://github.com/kpu/kenlm/archive/master.zip (553 kB)\n",
            "\u001b[2K     \u001b[90m━━━━━━━━━━━━━━━━━━━━━━━━━━━━━━━━━━━━━━━━\u001b[0m \u001b[32m553.6/553.6 kB\u001b[0m \u001b[31m2.3 MB/s\u001b[0m eta \u001b[36m0:00:00\u001b[0m\n",
            "\u001b[?25h  Installing build dependencies ... \u001b[?25l\u001b[?25hdone\n",
            "  Getting requirements to build wheel ... \u001b[?25l\u001b[?25hdone\n",
            "  Preparing metadata (pyproject.toml) ... \u001b[?25l\u001b[?25hdone\n",
            "Building wheels for collected packages: kenlm\n",
            "  Building wheel for kenlm (pyproject.toml) ... \u001b[?25l\u001b[?25hdone\n",
            "  Created wheel for kenlm: filename=kenlm-0.2.0-cp311-cp311-linux_x86_64.whl size=3187002 sha256=3291eb21f6148b592817c8ef1bd01e87dcae782095b2ec4229af33c228c4c638\n",
            "  Stored in directory: /tmp/pip-ephem-wheel-cache-2q69_c78/wheels/4e/ca/6a/e5da175b1396483f6f410cdb4cfe8bc8fa5e12088e91d60413\n",
            "Successfully built kenlm\n",
            "Installing collected packages: kenlm\n",
            "Successfully installed kenlm-0.2.0\n"
          ]
        }
      ],
      "source": [
        "#install bicleaner and hard-rules 2.11\n",
        "!pip install --config-settings=\"--build-option=--max_order=7\" https://github.com/kpu/kenlm/archive/master.zip"
      ]
    },
    {
      "cell_type": "code",
      "source": [
        "!pip list > requirements.txt\n",
        "!cat requirements.txt   # to show versions of all libraries"
      ],
      "metadata": {
        "colab": {
          "base_uri": "https://localhost:8080/"
        },
        "id": "tOCvx9Csn2f5",
        "outputId": "16804972-aba9-47a7-98f7-395eb7f9e739"
      },
      "execution_count": 3,
      "outputs": [
        {
          "output_type": "stream",
          "name": "stdout",
          "text": [
            "Package                            Version\n",
            "---------------------------------- -------------------\n",
            "absl-py                            1.4.0\n",
            "accelerate                         1.3.0\n",
            "aiohappyeyeballs                   2.6.1\n",
            "aiohttp                            3.11.13\n",
            "aiosignal                          1.3.2\n",
            "alabaster                          1.0.0\n",
            "albucore                           0.0.23\n",
            "albumentations                     2.0.5\n",
            "ale-py                             0.10.2\n",
            "altair                             5.5.0\n",
            "annotated-types                    0.7.0\n",
            "anyio                              3.7.1\n",
            "argon2-cffi                        23.1.0\n",
            "argon2-cffi-bindings               21.2.0\n",
            "array_record                       0.7.1\n",
            "arviz                              0.20.0\n",
            "astropy                            7.0.1\n",
            "astropy-iers-data                  0.2025.3.10.0.29.26\n",
            "astunparse                         1.6.3\n",
            "atpublic                           4.1.0\n",
            "attrs                              25.3.0\n",
            "audioread                          3.0.1\n",
            "autograd                           1.7.0\n",
            "babel                              2.17.0\n",
            "backcall                           0.2.0\n",
            "beautifulsoup4                     4.13.3\n",
            "betterproto                        2.0.0b6\n",
            "bigframes                          1.38.0\n",
            "bigquery-magics                    0.8.0\n",
            "bleach                             6.2.0\n",
            "blinker                            1.9.0\n",
            "blis                               1.2.0\n",
            "blosc2                             3.2.0\n",
            "bokeh                              3.6.3\n",
            "Bottleneck                         1.4.2\n",
            "bqplot                             0.12.44\n",
            "branca                             0.8.1\n",
            "CacheControl                       0.14.2\n",
            "cachetools                         5.5.2\n",
            "catalogue                          2.0.10\n",
            "certifi                            2025.1.31\n",
            "cffi                               1.17.1\n",
            "chardet                            5.2.0\n",
            "charset-normalizer                 3.4.1\n",
            "chex                               0.1.89\n",
            "clarabel                           0.10.0\n",
            "click                              8.1.8\n",
            "cloudpathlib                       0.21.0\n",
            "cloudpickle                        3.1.1\n",
            "cmake                              3.31.6\n",
            "cmdstanpy                          1.2.5\n",
            "colorcet                           3.1.0\n",
            "colorlover                         0.3.0\n",
            "colour                             0.1.5\n",
            "community                          1.0.0b1\n",
            "confection                         0.1.5\n",
            "cons                               0.4.6\n",
            "contourpy                          1.3.1\n",
            "cramjam                            2.9.1\n",
            "cryptography                       43.0.3\n",
            "cuda-python                        12.6.2.post1\n",
            "cudf-cu12                          25.2.1\n",
            "cudf-polars-cu12                   25.2.2\n",
            "cufflinks                          0.17.3\n",
            "cuml-cu12                          25.2.1\n",
            "cupy-cuda12x                       13.3.0\n",
            "cuvs-cu12                          25.2.1\n",
            "cvxopt                             1.3.2\n",
            "cvxpy                              1.6.3\n",
            "cycler                             0.12.1\n",
            "cyipopt                            1.5.0\n",
            "cymem                              2.0.11\n",
            "Cython                             3.0.12\n",
            "dask                               2024.12.1\n",
            "dask-cuda                          25.2.0\n",
            "dask-cudf-cu12                     25.2.2\n",
            "dask-expr                          1.1.21\n",
            "datascience                        0.17.6\n",
            "db-dtypes                          1.4.2\n",
            "dbus-python                        1.2.18\n",
            "debugpy                            1.8.0\n",
            "decorator                          4.4.2\n",
            "defusedxml                         0.7.1\n",
            "Deprecated                         1.2.18\n",
            "diffusers                          0.32.2\n",
            "distributed                        2024.12.1\n",
            "distributed-ucxx-cu12              0.42.0\n",
            "distro                             1.9.0\n",
            "dlib                               19.24.2\n",
            "dm-tree                            0.1.9\n",
            "docker-pycreds                     0.4.0\n",
            "docstring_parser                   0.16\n",
            "docutils                           0.21.2\n",
            "dopamine_rl                        4.1.2\n",
            "duckdb                             1.1.3\n",
            "earthengine-api                    1.5.6\n",
            "easydict                           1.13\n",
            "editdistance                       0.8.1\n",
            "eerepr                             0.1.1\n",
            "einops                             0.8.1\n",
            "en_core_web_sm                     3.8.0\n",
            "entrypoints                        0.4\n",
            "et_xmlfile                         2.0.0\n",
            "etils                              1.12.2\n",
            "etuples                            0.3.9\n",
            "Farama-Notifications               0.0.4\n",
            "fastai                             2.7.19\n",
            "fastcore                           1.7.29\n",
            "fastdownload                       0.0.7\n",
            "fastjsonschema                     2.21.1\n",
            "fastprogress                       1.0.3\n",
            "fastrlock                          0.8.3\n",
            "filelock                           3.17.0\n",
            "firebase-admin                     6.6.0\n",
            "Flask                              3.1.0\n",
            "flatbuffers                        25.2.10\n",
            "flax                               0.10.4\n",
            "folium                             0.19.5\n",
            "fonttools                          4.56.0\n",
            "frozendict                         2.4.6\n",
            "frozenlist                         1.5.0\n",
            "fsspec                             2024.10.0\n",
            "future                             1.0.0\n",
            "gast                               0.6.0\n",
            "gcsfs                              2024.10.0\n",
            "GDAL                               3.6.4\n",
            "gdown                              5.2.0\n",
            "geemap                             0.35.3\n",
            "geocoder                           1.38.1\n",
            "geographiclib                      2.0\n",
            "geopandas                          1.0.1\n",
            "geopy                              2.4.1\n",
            "gin-config                         0.5.0\n",
            "gitdb                              4.0.12\n",
            "GitPython                          3.1.44\n",
            "glob2                              0.7\n",
            "google                             2.0.3\n",
            "google-ai-generativelanguage       0.6.15\n",
            "google-api-core                    2.24.2\n",
            "google-api-python-client           2.160.0\n",
            "google-auth                        2.38.0\n",
            "google-auth-httplib2               0.2.0\n",
            "google-auth-oauthlib               1.2.1\n",
            "google-cloud-aiplatform            1.79.0\n",
            "google-cloud-bigquery              3.29.0\n",
            "google-cloud-bigquery-connection   1.18.1\n",
            "google-cloud-bigquery-storage      2.29.1\n",
            "google-cloud-bigtable              2.29.0\n",
            "google-cloud-core                  2.4.3\n",
            "google-cloud-dataproc              5.18.0\n",
            "google-cloud-datastore             2.20.2\n",
            "google-cloud-firestore             2.20.1\n",
            "google-cloud-functions             1.19.0\n",
            "google-cloud-iam                   2.18.1\n",
            "google-cloud-language              2.16.0\n",
            "google-cloud-pubsub                2.28.0\n",
            "google-cloud-resource-manager      1.14.1\n",
            "google-cloud-spanner               3.53.0\n",
            "google-cloud-storage               2.19.0\n",
            "google-cloud-translate             3.19.0\n",
            "google-colab                       1.0.0\n",
            "google-crc32c                      1.6.0\n",
            "google-genai                       1.4.0\n",
            "google-generativeai                0.8.4\n",
            "google-pasta                       0.2.0\n",
            "google-resumable-media             2.7.2\n",
            "google-spark-connect               0.5.2\n",
            "googleapis-common-protos           1.69.1\n",
            "googledrivedownloader              1.1.0\n",
            "graphviz                           0.20.3\n",
            "greenlet                           3.1.1\n",
            "grpc-google-iam-v1                 0.14.1\n",
            "grpc-interceptor                   0.15.4\n",
            "grpcio                             1.71.0\n",
            "grpcio-status                      1.62.3\n",
            "grpclib                            0.4.7\n",
            "gspread                            6.1.4\n",
            "gspread-dataframe                  4.0.0\n",
            "gym                                0.25.2\n",
            "gym-notices                        0.0.8\n",
            "gymnasium                          1.1.1\n",
            "h11                                0.14.0\n",
            "h2                                 4.2.0\n",
            "h5netcdf                           1.6.1\n",
            "h5py                               3.12.1\n",
            "hdbscan                            0.8.40\n",
            "highspy                            1.9.0\n",
            "holidays                           0.68\n",
            "holoviews                          1.20.2\n",
            "hpack                              4.1.0\n",
            "html5lib                           1.1\n",
            "httpcore                           1.0.7\n",
            "httpimport                         1.4.1\n",
            "httplib2                           0.22.0\n",
            "httpx                              0.28.1\n",
            "huggingface-hub                    0.28.1\n",
            "humanize                           4.11.0\n",
            "hunspell                           0.5.5\n",
            "hyperframe                         6.1.0\n",
            "hyperopt                           0.2.7\n",
            "ibis-framework                     9.2.0\n",
            "idna                               3.10\n",
            "imageio                            2.37.0\n",
            "imageio-ffmpeg                     0.6.0\n",
            "imagesize                          1.4.1\n",
            "imbalanced-learn                   0.13.0\n",
            "immutabledict                      4.2.1\n",
            "importlib_metadata                 8.6.1\n",
            "importlib_resources                6.5.2\n",
            "imutils                            0.5.4\n",
            "inflect                            7.5.0\n",
            "iniconfig                          2.0.0\n",
            "intel-cmplr-lib-ur                 2025.0.5\n",
            "intel-openmp                       2025.0.5\n",
            "ipyevents                          2.0.2\n",
            "ipyfilechooser                     0.6.0\n",
            "ipykernel                          6.17.1\n",
            "ipyleaflet                         0.19.2\n",
            "ipyparallel                        8.8.0\n",
            "ipython                            7.34.0\n",
            "ipython-genutils                   0.2.0\n",
            "ipython-sql                        0.5.0\n",
            "ipytree                            0.2.2\n",
            "ipywidgets                         7.7.1\n",
            "itsdangerous                       2.2.0\n",
            "jax                                0.5.2\n",
            "jax-cuda12-pjrt                    0.5.1\n",
            "jax-cuda12-plugin                  0.5.1\n",
            "jaxlib                             0.5.1\n",
            "jeepney                            0.7.1\n",
            "jellyfish                          1.1.0\n",
            "jieba                              0.42.1\n",
            "Jinja2                             3.1.6\n",
            "jiter                              0.9.0\n",
            "joblib                             1.4.2\n",
            "jsonpatch                          1.33\n",
            "jsonpickle                         4.0.2\n",
            "jsonpointer                        3.0.0\n",
            "jsonschema                         4.23.0\n",
            "jsonschema-specifications          2024.10.1\n",
            "jupyter-client                     6.1.12\n",
            "jupyter-console                    6.1.0\n",
            "jupyter_core                       5.7.2\n",
            "jupyter-leaflet                    0.19.2\n",
            "jupyter-server                     1.24.0\n",
            "jupyterlab_pygments                0.3.0\n",
            "jupyterlab_widgets                 3.0.13\n",
            "kaggle                             1.6.17\n",
            "kagglehub                          0.3.10\n",
            "kenlm                              0.2.0\n",
            "keras                              3.8.0\n",
            "keras-hub                          0.18.1\n",
            "keras-nlp                          0.18.1\n",
            "keyring                            23.5.0\n",
            "kiwisolver                         1.4.8\n",
            "langchain                          0.3.20\n",
            "langchain-core                     0.3.44\n",
            "langchain-text-splitters           0.3.6\n",
            "langcodes                          3.5.0\n",
            "langsmith                          0.3.13\n",
            "language_data                      1.3.0\n",
            "launchpadlib                       1.10.16\n",
            "lazr.restfulclient                 0.14.4\n",
            "lazr.uri                           1.0.6\n",
            "lazy_loader                        0.4\n",
            "libclang                           18.1.1\n",
            "libcudf-cu12                       25.2.1\n",
            "libcugraph-cu12                    25.2.0\n",
            "libcuml-cu12                       25.2.1\n",
            "libcuvs-cu12                       25.2.1\n",
            "libkvikio-cu12                     25.2.1\n",
            "libraft-cu12                       25.2.0\n",
            "librosa                            0.10.2.post1\n",
            "libucx-cu12                        1.18.0\n",
            "libucxx-cu12                       0.42.0\n",
            "lightgbm                           4.5.0\n",
            "linkify-it-py                      2.0.3\n",
            "llvmlite                           0.43.0\n",
            "locket                             1.0.0\n",
            "logical-unification                0.4.6\n",
            "lxml                               5.3.1\n",
            "marisa-trie                        1.2.1\n",
            "Markdown                           3.7\n",
            "markdown-it-py                     3.0.0\n",
            "MarkupSafe                         3.0.2\n",
            "matplotlib                         3.10.0\n",
            "matplotlib-inline                  0.1.7\n",
            "matplotlib-venn                    1.1.2\n",
            "mdit-py-plugins                    0.4.2\n",
            "mdurl                              0.1.2\n",
            "miniKanren                         1.0.3\n",
            "missingno                          0.5.2\n",
            "mistune                            3.1.2\n",
            "mizani                             0.13.1\n",
            "mkl                                2025.0.1\n",
            "ml-dtypes                          0.4.1\n",
            "mlxtend                            0.23.4\n",
            "more-itertools                     10.6.0\n",
            "moviepy                            1.0.3\n",
            "mpmath                             1.3.0\n",
            "msgpack                            1.1.0\n",
            "multidict                          6.1.0\n",
            "multipledispatch                   1.0.0\n",
            "multitasking                       0.0.11\n",
            "murmurhash                         1.0.12\n",
            "music21                            9.3.0\n",
            "namex                              0.0.8\n",
            "narwhals                           1.30.0\n",
            "natsort                            8.4.0\n",
            "nbclassic                          1.2.0\n",
            "nbclient                           0.10.2\n",
            "nbconvert                          7.16.6\n",
            "nbformat                           5.10.4\n",
            "ndindex                            1.9.2\n",
            "nest-asyncio                       1.6.0\n",
            "networkx                           3.4.2\n",
            "nibabel                            5.3.2\n",
            "nltk                               3.9.1\n",
            "notebook                           6.5.5\n",
            "notebook_shim                      0.2.4\n",
            "numba                              0.60.0\n",
            "numba-cuda                         0.2.0\n",
            "numexpr                            2.10.2\n",
            "numpy                              2.0.2\n",
            "nvidia-cublas-cu12                 12.5.3.2\n",
            "nvidia-cuda-cupti-cu12             12.5.82\n",
            "nvidia-cuda-nvcc-cu12              12.5.82\n",
            "nvidia-cuda-nvrtc-cu12             12.5.82\n",
            "nvidia-cuda-runtime-cu12           12.5.82\n",
            "nvidia-cudnn-cu12                  9.3.0.75\n",
            "nvidia-cufft-cu12                  11.2.3.61\n",
            "nvidia-curand-cu12                 10.3.6.82\n",
            "nvidia-cusolver-cu12               11.6.3.83\n",
            "nvidia-cusparse-cu12               12.5.1.3\n",
            "nvidia-cusparselt-cu12             0.6.2\n",
            "nvidia-ml-py                       12.570.86\n",
            "nvidia-nccl-cu12                   2.21.5\n",
            "nvidia-nvcomp-cu12                 4.2.0.11\n",
            "nvidia-nvjitlink-cu12              12.5.82\n",
            "nvidia-nvtx-cu12                   12.4.127\n",
            "nvtx                               0.2.11\n",
            "nx-cugraph-cu12                    25.2.0\n",
            "oauth2client                       4.1.3\n",
            "oauthlib                           3.2.2\n",
            "openai                             1.61.1\n",
            "opencv-contrib-python              4.11.0.86\n",
            "opencv-python                      4.11.0.86\n",
            "opencv-python-headless             4.11.0.86\n",
            "openpyxl                           3.1.5\n",
            "opentelemetry-api                  1.31.0\n",
            "opentelemetry-sdk                  1.31.0\n",
            "opentelemetry-semantic-conventions 0.52b0\n",
            "opt_einsum                         3.4.0\n",
            "optax                              0.2.4\n",
            "optree                             0.14.1\n",
            "orbax-checkpoint                   0.11.8\n",
            "orjson                             3.10.15\n",
            "osqp                               0.6.7.post3\n",
            "packaging                          24.2\n",
            "pandas                             2.2.2\n",
            "pandas-datareader                  0.10.0\n",
            "pandas-gbq                         0.28.0\n",
            "pandas-stubs                       2.2.2.240909\n",
            "pandocfilters                      1.5.1\n",
            "panel                              1.6.1\n",
            "param                              2.2.0\n",
            "parso                              0.8.4\n",
            "parsy                              2.1\n",
            "partd                              1.4.2\n",
            "pathlib                            1.0.1\n",
            "patsy                              1.0.1\n",
            "peewee                             3.17.9\n",
            "peft                               0.14.0\n",
            "pexpect                            4.9.0\n",
            "pickleshare                        0.7.5\n",
            "pillow                             11.1.0\n",
            "pip                                24.1.2\n",
            "platformdirs                       4.3.6\n",
            "plotly                             5.24.1\n",
            "plotnine                           0.14.5\n",
            "pluggy                             1.5.0\n",
            "ply                                3.11\n",
            "polars                             1.21.0\n",
            "pooch                              1.8.2\n",
            "portpicker                         1.5.2\n",
            "preshed                            3.0.9\n",
            "prettytable                        3.15.1\n",
            "proglog                            0.1.10\n",
            "progressbar2                       4.5.0\n",
            "prometheus_client                  0.21.1\n",
            "promise                            2.3\n",
            "prompt_toolkit                     3.0.50\n",
            "propcache                          0.3.0\n",
            "prophet                            1.1.6\n",
            "proto-plus                         1.26.1\n",
            "protobuf                           4.25.6\n",
            "psutil                             5.9.5\n",
            "psycopg2                           2.9.10\n",
            "ptyprocess                         0.7.0\n",
            "py-cpuinfo                         9.0.0\n",
            "py4j                               0.10.9.7\n",
            "pyarrow                            18.1.0\n",
            "pyasn1                             0.6.1\n",
            "pyasn1_modules                     0.4.1\n",
            "pycocotools                        2.0.8\n",
            "pycparser                          2.22\n",
            "pydantic                           2.10.6\n",
            "pydantic_core                      2.27.2\n",
            "pydata-google-auth                 1.9.1\n",
            "pydot                              3.0.4\n",
            "pydotplus                          2.0.2\n",
            "PyDrive                            1.3.1\n",
            "PyDrive2                           1.21.3\n",
            "pyerfa                             2.0.1.5\n",
            "pygame                             2.6.1\n",
            "pygit2                             1.17.0\n",
            "Pygments                           2.18.0\n",
            "PyGObject                          3.42.1\n",
            "PyJWT                              2.10.1\n",
            "pylibcudf-cu12                     25.2.1\n",
            "pylibcugraph-cu12                  25.2.0\n",
            "pylibraft-cu12                     25.2.0\n",
            "pymc                               5.21.1\n",
            "pymystem3                          0.2.0\n",
            "pynndescent                        0.5.13\n",
            "pynvjitlink-cu12                   0.5.2\n",
            "pynvml                             12.0.0\n",
            "pyogrio                            0.10.0\n",
            "Pyomo                              6.8.2\n",
            "PyOpenGL                           3.1.9\n",
            "pyOpenSSL                          24.2.1\n",
            "pyparsing                          3.2.1\n",
            "pyperclip                          1.9.0\n",
            "pyproj                             3.7.1\n",
            "pyshp                              2.3.1\n",
            "PySocks                            1.7.1\n",
            "pyspark                            3.5.5\n",
            "pytensor                           2.28.3\n",
            "pytest                             8.3.5\n",
            "python-apt                         0.0.0\n",
            "python-box                         7.3.2\n",
            "python-dateutil                    2.8.2\n",
            "python-louvain                     0.16\n",
            "python-slugify                     8.0.4\n",
            "python-snappy                      0.7.3\n",
            "python-utils                       3.9.1\n",
            "pytz                               2025.1\n",
            "pyviz_comms                        3.0.4\n",
            "PyYAML                             6.0.2\n",
            "pyzmq                              24.0.1\n",
            "qdldl                              0.1.7.post5\n",
            "raft-dask-cu12                     25.2.0\n",
            "rapids-dask-dependency             25.2.0\n",
            "ratelim                            0.1.6\n",
            "referencing                        0.36.2\n",
            "regex                              2024.11.6\n",
            "requests                           2.32.3\n",
            "requests-oauthlib                  2.0.0\n",
            "requests-toolbelt                  1.0.0\n",
            "requirements-parser                0.9.0\n",
            "rich                               13.9.4\n",
            "rmm-cu12                           25.2.0\n",
            "rpds-py                            0.23.1\n",
            "rpy2                               3.5.17\n",
            "rsa                                4.9\n",
            "safetensors                        0.5.3\n",
            "scikit-image                       0.25.2\n",
            "scikit-learn                       1.6.1\n",
            "scipy                              1.14.1\n",
            "scooby                             0.10.0\n",
            "scs                                3.2.7.post2\n",
            "seaborn                            0.13.2\n",
            "SecretStorage                      3.3.1\n",
            "Send2Trash                         1.8.3\n",
            "sentence-transformers              3.4.1\n",
            "sentencepiece                      0.2.0\n",
            "sentry-sdk                         2.22.0\n",
            "setproctitle                       1.3.5\n",
            "setuptools                         75.1.0\n",
            "shap                               0.46.0\n",
            "shapely                            2.0.7\n",
            "shellingham                        1.5.4\n",
            "simple-parsing                     0.1.7\n",
            "simplejson                         3.20.1\n",
            "simsimd                            6.2.1\n",
            "six                                1.17.0\n",
            "sklearn-compat                     0.1.3\n",
            "sklearn-pandas                     2.2.0\n",
            "slicer                             0.0.8\n",
            "smart-open                         7.1.0\n",
            "smmap                              5.0.2\n",
            "sniffio                            1.3.1\n",
            "snowballstemmer                    2.2.0\n",
            "sortedcontainers                   2.4.0\n",
            "soundfile                          0.13.1\n",
            "soupsieve                          2.6\n",
            "soxr                               0.5.0.post1\n",
            "spacy                              3.8.4\n",
            "spacy-legacy                       3.0.12\n",
            "spacy-loggers                      1.0.5\n",
            "spanner-graph-notebook             1.1.3\n",
            "Sphinx                             8.1.3\n",
            "sphinxcontrib-applehelp            2.0.0\n",
            "sphinxcontrib-devhelp              2.0.0\n",
            "sphinxcontrib-htmlhelp             2.1.0\n",
            "sphinxcontrib-jsmath               1.0.1\n",
            "sphinxcontrib-qthelp               2.0.0\n",
            "sphinxcontrib-serializinghtml      2.0.0\n",
            "SQLAlchemy                         2.0.39\n",
            "sqlglot                            25.6.1\n",
            "sqlparse                           0.5.3\n",
            "srsly                              2.5.1\n",
            "stanio                             0.5.1\n",
            "statsmodels                        0.14.4\n",
            "stringzilla                        3.12.3\n",
            "sympy                              1.13.1\n",
            "tables                             3.10.2\n",
            "tabulate                           0.9.0\n",
            "tbb                                2022.0.0\n",
            "tblib                              3.0.0\n",
            "tcmlib                             1.2.0\n",
            "tenacity                           9.0.0\n",
            "tensorboard                        2.18.0\n",
            "tensorboard-data-server            0.7.2\n",
            "tensorflow                         2.18.0\n",
            "tensorflow-datasets                4.9.8\n",
            "tensorflow-hub                     0.16.1\n",
            "tensorflow-io-gcs-filesystem       0.37.1\n",
            "tensorflow-metadata                1.16.1\n",
            "tensorflow-probability             0.25.0\n",
            "tensorflow-text                    2.18.1\n",
            "tensorstore                        0.1.72\n",
            "termcolor                          2.5.0\n",
            "terminado                          0.18.1\n",
            "text-unidecode                     1.3\n",
            "textblob                           0.19.0\n",
            "tf_keras                           2.18.0\n",
            "tf-slim                            1.1.0\n",
            "thinc                              8.3.4\n",
            "threadpoolctl                      3.6.0\n",
            "tifffile                           2025.2.18\n",
            "timm                               1.0.15\n",
            "tinycss2                           1.4.0\n",
            "tokenizers                         0.21.1\n",
            "toml                               0.10.2\n",
            "toolz                              0.12.1\n",
            "torch                              2.6.0+cu124\n",
            "torchaudio                         2.6.0+cu124\n",
            "torchsummary                       1.5.1\n",
            "torchvision                        0.21.0+cu124\n",
            "tornado                            6.4.2\n",
            "tqdm                               4.67.1\n",
            "traitlets                          5.7.1\n",
            "traittypes                         0.2.1\n",
            "transformers                       4.48.3\n",
            "treelite                           4.4.1\n",
            "treescope                          0.1.9\n",
            "triton                             3.2.0\n",
            "tweepy                             4.15.0\n",
            "typeguard                          4.4.2\n",
            "typer                              0.15.2\n",
            "types-pytz                         2025.1.0.20250204\n",
            "types-setuptools                   76.0.0.20250313\n",
            "typing_extensions                  4.12.2\n",
            "tzdata                             2025.1\n",
            "tzlocal                            5.3.1\n",
            "uc-micro-py                        1.0.3\n",
            "ucx-py-cu12                        0.42.0\n",
            "ucxx-cu12                          0.42.0\n",
            "umap-learn                         0.5.7\n",
            "umf                                0.9.1\n",
            "uritemplate                        4.1.1\n",
            "urllib3                            2.3.0\n",
            "vega-datasets                      0.9.0\n",
            "wadllib                            1.3.6\n",
            "wandb                              0.19.8\n",
            "wasabi                             1.1.3\n",
            "wcwidth                            0.2.13\n",
            "weasel                             0.4.1\n",
            "webcolors                          24.11.1\n",
            "webencodings                       0.5.1\n",
            "websocket-client                   1.8.0\n",
            "websockets                         14.2\n",
            "Werkzeug                           3.1.3\n",
            "wheel                              0.45.1\n",
            "widgetsnbextension                 3.6.10\n",
            "wordcloud                          1.9.4\n",
            "wrapt                              1.17.2\n",
            "xarray                             2025.1.2\n",
            "xarray-einstats                    0.8.0\n",
            "xgboost                            2.1.4\n",
            "xlrd                               2.0.1\n",
            "xyzservices                        2025.1.0\n",
            "yarl                               1.18.3\n",
            "yellowbrick                        1.5\n",
            "yfinance                           0.2.54\n",
            "zict                               3.0.0\n",
            "zipp                               3.21.0\n",
            "zstandard                          0.23.0\n"
          ]
        }
      ]
    },
    {
      "cell_type": "code",
      "source": [
        "#clone repo from Github and navigate to correct working directory\n",
        "!git clone https://github.com/fubotz/BMT_2025S\n",
        "%cd BMT_2025S/week2_files/Basic-MT_week2_files"
      ],
      "metadata": {
        "id": "_k9e03SwSNYC",
        "outputId": "f913773e-bafb-4782-b99a-52307382e446",
        "colab": {
          "base_uri": "https://localhost:8080/"
        }
      },
      "execution_count": 4,
      "outputs": [
        {
          "output_type": "stream",
          "name": "stdout",
          "text": [
            "fatal: destination path 'BMT_2025S' already exists and is not an empty directory.\n",
            "/content/BMT_2025S/week2_files/Basic-MT_week2_files\n"
          ]
        }
      ]
    },
    {
      "cell_type": "code",
      "execution_count": 5,
      "metadata": {
        "colab": {
          "base_uri": "https://localhost:8080/"
        },
        "id": "hcMRjnkjPQ3C",
        "outputId": "1dfdc8dc-da13-4e8c-db11-bc9b9c5ec326"
      },
      "outputs": [
        {
          "output_type": "stream",
          "name": "stdout",
          "text": [
            "   500 dev.en-de\n",
            "   500 dev.en-de.de\n",
            "   500 dev.en-de.en\n",
            "  1500 total\n"
          ]
        }
      ],
      "source": [
        "#load parallel corpus\n",
        "#check number of lines\n",
        "!wc -l dev*"
      ]
    },
    {
      "cell_type": "code",
      "execution_count": 6,
      "metadata": {
        "id": "4gbBB_AKQeyO"
      },
      "outputs": [],
      "source": [
        "#bicleanaer requires parallel data into the same file with columns en-de\n",
        "!paste dev.en-de.en dev.en-de.de > dev.en-de"
      ]
    },
    {
      "cell_type": "code",
      "execution_count": 7,
      "metadata": {
        "colab": {
          "base_uri": "https://localhost:8080/"
        },
        "id": "JnluwFfdSwpl",
        "outputId": "66750592-45ba-4c0c-b285-08f0b5a2c107"
      },
      "outputs": [
        {
          "output_type": "stream",
          "name": "stdout",
          "text": [
            "Yevonde's most famous work was inspired by a theme party held on 5 March 1935, where guests dressed as Roman and Greek gods and goddesses.\tBesonders bekannt wurden ihre Aufnahmen von einem Fest 1935, zu dem Gäste als griechische Götter und Göttinnen verkleidet kamen.\n",
            "Mora is working on a trilogy about the IT specialist Darius Kopp, of which band I \"The Only Man on the Continent\" and Volume II \"The Monster\" have already appeared.\tTerézia Mora arbeitet an einer Trilogie um den IT-Spezialisten Darius Kopp, von der Band I „Der einzige Mann auf dem Kontinent“ und Band II „Das Ungeheuer“ bereits erschienen sind.\n",
            "The first person to enter this section was Günther J. Wolf with seven members of his ice course.\tEine erste Befahrung dieses Abschnitts gelang Günther J. Wolf mit sieben Teilnehmern seines Eiskurses.\n",
            "They were renumbered in 1970 to 100 903 and 904, and in 1973 to 199 003 and 004.\tSie wurden 1970 in 100 903 und 904, 1973 in 199 003 und 004 umgenummert.\n",
            "The grave is probably a disturbed arrangement, which was covered earlier with wood or stones.\tBei dem Grab handelt es sich wahrscheinlich um eine gestörte Anlage, die früher mit Holz oder Steinen abgedeckt war.\n",
            "Persecutions ended following John's death on 23 May 1677, at the age of 74.\tDie Verfolgung endete, als Graf Johann am 23. Mai 1677 im Alter von 74 Jahren starb.\n",
            "In celebration he wrote a book entitled Three Visits to Madagascar (1858).\tDiese Reisen beschrieb er in Three visits to Madagascar (London 1858).\n",
            "Berlinale Talents and Perspektive Deutsches Kino have joined forces to award the inaugural “Kompagnon” fellowship in 2017.\tBerlinale Talents und Perspektive Deutsches Kino vergeben gemeinsam im Jahr 2017 zum ersten Mal den „Kompagnon“-Förderpreis.\n",
            "A proposal was floated during the 1950s to relocate the monument to an alternative site in a city park in order to ease traffic congestion in downtown Lancaster.\tIn den 1950er Jahren wurde der Vorschlag verbreitet, das Denkmal an eine andere Stelle in einem Stadtpark zu versetzen, um damit eine Erleichterung der Verkehrsstauungen im Zentrum von Lancaster zu erreichen.\n",
            "\"Hrvatski kup 2006/07\" (in Croatian).\tArtikel zum LEN Cup 2006/07. (kroatisch)\n"
          ]
        }
      ],
      "source": [
        "#check output\n",
        "!head dev.en-de"
      ]
    },
    {
      "cell_type": "code",
      "source": [
        "!pip install cyhunspell"
      ],
      "metadata": {
        "colab": {
          "base_uri": "https://localhost:8080/"
        },
        "id": "KmsuSkv8deFa",
        "outputId": "d636cbb6-e6ec-4cfc-ec14-56d0b129f6aa"
      },
      "execution_count": 8,
      "outputs": [
        {
          "output_type": "stream",
          "name": "stdout",
          "text": [
            "Collecting cyhunspell\n",
            "  Downloading CyHunspell-1.3.4.tar.gz (2.7 MB)\n",
            "\u001b[2K     \u001b[90m━━━━━━━━━━━━━━━━━━━━━━━━━━━━━━━━━━━━━━━━\u001b[0m \u001b[32m2.7/2.7 MB\u001b[0m \u001b[31m7.3 MB/s\u001b[0m eta \u001b[36m0:00:00\u001b[0m\n",
            "\u001b[?25h  Preparing metadata (setup.py) ... \u001b[?25l\u001b[?25hdone\n",
            "Collecting cacheman>=2.0.6 (from cyhunspell)\n",
            "  Downloading CacheMan-2.2.0-py2.py3-none-any.whl.metadata (5.8 kB)\n",
            "Requirement already satisfied: psutil>=2.1.0 in /usr/local/lib/python3.11/dist-packages (from cacheman>=2.0.6->cyhunspell) (5.9.5)\n",
            "Downloading CacheMan-2.2.0-py2.py3-none-any.whl (13 kB)\n",
            "Building wheels for collected packages: cyhunspell\n",
            "  \u001b[1;31merror\u001b[0m: \u001b[1msubprocess-exited-with-error\u001b[0m\n",
            "  \n",
            "  \u001b[31m×\u001b[0m \u001b[32mpython setup.py bdist_wheel\u001b[0m did not run successfully.\n",
            "  \u001b[31m│\u001b[0m exit code: \u001b[1;36m1\u001b[0m\n",
            "  \u001b[31m╰─>\u001b[0m See above for output.\n",
            "  \n",
            "  \u001b[1;35mnote\u001b[0m: This error originates from a subprocess, and is likely not a problem with pip.\n",
            "  Building wheel for cyhunspell (setup.py) ... \u001b[?25lerror\n",
            "\u001b[31m  ERROR: Failed building wheel for cyhunspell\u001b[0m\u001b[31m\n",
            "\u001b[0m\u001b[?25h  Running setup.py clean for cyhunspell\n",
            "Failed to build cyhunspell\n",
            "\u001b[31mERROR: ERROR: Failed to build installable wheels for some pyproject.toml based projects (cyhunspell)\u001b[0m\u001b[31m\n",
            "\u001b[0m"
          ]
        }
      ]
    },
    {
      "cell_type": "code",
      "source": [
        "!pip install numpy==1.24"
      ],
      "metadata": {
        "colab": {
          "base_uri": "https://localhost:8080/"
        },
        "id": "JhgrF-QnejwS",
        "outputId": "18a44013-518c-48cd-98de-ffddd92b7680"
      },
      "execution_count": 1,
      "outputs": [
        {
          "output_type": "stream",
          "name": "stdout",
          "text": [
            "Requirement already satisfied: numpy==1.24 in /usr/local/lib/python3.11/dist-packages (1.24.0)\n"
          ]
        }
      ]
    },
    {
      "cell_type": "code",
      "source": [
        "!pip install bicleaner-hardrules"
      ],
      "metadata": {
        "colab": {
          "base_uri": "https://localhost:8080/"
        },
        "id": "JX1CGcMjSnb6",
        "outputId": "b84b4cc3-1313-4249-ef75-5c9364a13883"
      },
      "execution_count": 2,
      "outputs": [
        {
          "output_type": "stream",
          "name": "stdout",
          "text": [
            "Collecting bicleaner-hardrules\n",
            "  Downloading bicleaner_hardrules-2.10.6-py3-none-manylinux_2_5_x86_64.manylinux1_x86_64.whl.metadata (14 kB)\n",
            "Requirement already satisfied: regex in /usr/local/lib/python3.11/dist-packages (from bicleaner-hardrules) (2024.11.6)\n",
            "Requirement already satisfied: PyYAML in /usr/local/lib/python3.11/dist-packages (from bicleaner-hardrules) (6.0.2)\n",
            "Requirement already satisfied: pytest in /usr/local/lib/python3.11/dist-packages (from bicleaner-hardrules) (8.3.5)\n",
            "Collecting toolwrapper<=3,>=1.0 (from bicleaner-hardrules)\n",
            "  Downloading toolwrapper-2.1.0.tar.gz (3.2 kB)\n",
            "  Preparing metadata (setup.py) ... \u001b[?25l\u001b[?25hdone\n",
            "Requirement already satisfied: joblib in /usr/local/lib/python3.11/dist-packages (from bicleaner-hardrules) (1.4.2)\n",
            "Collecting sacremoses==0.0.53 (from bicleaner-hardrules)\n",
            "  Downloading sacremoses-0.0.53.tar.gz (880 kB)\n",
            "\u001b[2K     \u001b[90m━━━━━━━━━━━━━━━━━━━━━━━━━━━━━━━━━━━━━━━━\u001b[0m \u001b[32m880.6/880.6 kB\u001b[0m \u001b[31m11.1 MB/s\u001b[0m eta \u001b[36m0:00:00\u001b[0m\n",
            "\u001b[?25h  Preparing metadata (setup.py) ... \u001b[?25l\u001b[?25hdone\n",
            "Collecting fasttext-wheel==0.9.2 (from bicleaner-hardrules)\n",
            "  Downloading fasttext_wheel-0.9.2-cp311-cp311-manylinux_2_17_x86_64.manylinux2014_x86_64.whl.metadata (16 kB)\n",
            "Collecting fastspell==0.11.1 (from bicleaner-hardrules)\n",
            "  Downloading fastspell-0.11.1-py3-none-any.whl.metadata (53 kB)\n",
            "\u001b[2K     \u001b[90m━━━━━━━━━━━━━━━━━━━━━━━━━━━━━━━━━━━━━━━━\u001b[0m \u001b[32m53.6/53.6 kB\u001b[0m \u001b[31m3.6 MB/s\u001b[0m eta \u001b[36m0:00:00\u001b[0m\n",
            "\u001b[?25hCollecting huggingface-hub<0.23,>=0.15 (from bicleaner-hardrules)\n",
            "  Downloading huggingface_hub-0.22.2-py3-none-any.whl.metadata (12 kB)\n",
            "INFO: pip is looking at multiple versions of fastspell to determine which version is compatible with other requirements. This could take a while.\n",
            "Collecting bicleaner-hardrules\n",
            "  Downloading bicleaner_hardrules-2.10.5-py3-none-manylinux_2_5_x86_64.manylinux1_x86_64.whl.metadata (14 kB)\n",
            "  Downloading bicleaner_hardrules-2.10.4-py3-none-manylinux_2_5_x86_64.manylinux1_x86_64.whl.metadata (14 kB)\n",
            "Collecting fastspell==0.11 (from bicleaner-hardrules)\n",
            "  Downloading fastspell-0.11-py3-none-any.whl.metadata (10 kB)\n",
            "Collecting bicleaner-hardrules\n",
            "  Downloading bicleaner_hardrules-2.10.3-py3-none-manylinux_2_5_x86_64.manylinux1_x86_64.whl.metadata (14 kB)\n",
            "Collecting huggingface-hub==0.15.1 (from bicleaner-hardrules)\n",
            "  Downloading huggingface_hub-0.15.1-py3-none-any.whl.metadata (8.0 kB)\n",
            "Collecting bicleaner-hardrules\n",
            "  Downloading bicleaner_hardrules-2.10.2-py3-none-manylinux_2_5_x86_64.manylinux1_x86_64.whl.metadata (14 kB)\n",
            "Collecting fastspell==0.10 (from bicleaner-hardrules)\n",
            "  Downloading fastspell-0.10-py3-none-any.whl.metadata (10 kB)\n",
            "Collecting bicleaner-hardrules\n",
            "  Downloading bicleaner_hardrules-2.9.1-py3-none-manylinux_2_5_x86_64.manylinux1_x86_64.whl.metadata (14 kB)\n",
            "Collecting fastspell==0.9.1 (from bicleaner-hardrules)\n",
            "  Downloading fastspell-0.9.1-py3-none-any.whl.metadata (10 kB)\n",
            "Collecting bicleaner-hardrules\n",
            "  Downloading bicleaner_hardrules-2.9.0-py3-none-manylinux_2_5_x86_64.manylinux1_x86_64.whl.metadata (14 kB)\n",
            "  Downloading bicleaner_hardrules-2.8.1-py3-none-manylinux_2_5_x86_64.manylinux1_x86_64.whl.metadata (13 kB)\n",
            "Collecting fastspell==0.9 (from bicleaner-hardrules)\n",
            "  Downloading fastspell-0.9.0-py3-none-any.whl.metadata (10 kB)\n",
            "INFO: pip is still looking at multiple versions of fastspell to determine which version is compatible with other requirements. This could take a while.\n",
            "Collecting bicleaner-hardrules\n",
            "  Downloading bicleaner_hardrules-2.8.0-py3-none-manylinux_2_5_x86_64.manylinux1_x86_64.whl.metadata (13 kB)\n",
            "Collecting fasttext==0.9.2 (from bicleaner-hardrules)\n",
            "  Downloading fasttext-0.9.2.tar.gz (68 kB)\n",
            "\u001b[2K     \u001b[90m━━━━━━━━━━━━━━━━━━━━━━━━━━━━━━━━━━━━━━━━\u001b[0m \u001b[32m68.8/68.8 kB\u001b[0m \u001b[31m5.1 MB/s\u001b[0m eta \u001b[36m0:00:00\u001b[0m\n",
            "\u001b[?25h  Preparing metadata (setup.py) ... \u001b[?25l\u001b[?25hdone\n",
            "Collecting fastspell==0.8 (from bicleaner-hardrules)\n",
            "  Downloading fastspell-0.8.0-py3-none-any.whl.metadata (10 kB)\n",
            "Collecting fastspell-dictionaries==3.0 (from fastspell==0.8->bicleaner-hardrules)\n",
            "  Downloading fastspell-dictionaries-3.0.tar.gz (19.2 MB)\n",
            "\u001b[2K     \u001b[90m━━━━━━━━━━━━━━━━━━━━━━━━━━━━━━━━━━━━━━━━\u001b[0m \u001b[32m19.2/19.2 MB\u001b[0m \u001b[31m81.1 MB/s\u001b[0m eta \u001b[36m0:00:00\u001b[0m\n",
            "\u001b[?25h  Installing build dependencies ... \u001b[?25l\u001b[?25hdone\n",
            "  Getting requirements to build wheel ... \u001b[?25l\u001b[?25hdone\n",
            "  Preparing metadata (pyproject.toml) ... \u001b[?25l\u001b[?25hdone\n",
            "Requirement already satisfied: hunspell==0.5.5 in /usr/local/lib/python3.11/dist-packages (from fastspell==0.8->bicleaner-hardrules) (0.5.5)\n",
            "Requirement already satisfied: urllib3 in /usr/local/lib/python3.11/dist-packages (from fastspell==0.8->bicleaner-hardrules) (2.3.0)\n",
            "Collecting pybind11>=2.2 (from fasttext==0.9.2->bicleaner-hardrules)\n",
            "  Using cached pybind11-2.13.6-py3-none-any.whl.metadata (9.5 kB)\n",
            "Requirement already satisfied: setuptools>=0.7.0 in /usr/local/lib/python3.11/dist-packages (from fasttext==0.9.2->bicleaner-hardrules) (75.1.0)\n",
            "Requirement already satisfied: numpy in /usr/local/lib/python3.11/dist-packages (from fasttext==0.9.2->bicleaner-hardrules) (1.24.0)\n",
            "Requirement already satisfied: six in /usr/local/lib/python3.11/dist-packages (from sacremoses==0.0.53->bicleaner-hardrules) (1.17.0)\n",
            "Requirement already satisfied: click in /usr/local/lib/python3.11/dist-packages (from sacremoses==0.0.53->bicleaner-hardrules) (8.1.8)\n",
            "Requirement already satisfied: tqdm in /usr/local/lib/python3.11/dist-packages (from sacremoses==0.0.53->bicleaner-hardrules) (4.67.1)\n",
            "Requirement already satisfied: iniconfig in /usr/local/lib/python3.11/dist-packages (from pytest->bicleaner-hardrules) (2.0.0)\n",
            "Requirement already satisfied: packaging in /usr/local/lib/python3.11/dist-packages (from pytest->bicleaner-hardrules) (24.2)\n",
            "Requirement already satisfied: pluggy<2,>=1.5 in /usr/local/lib/python3.11/dist-packages (from pytest->bicleaner-hardrules) (1.5.0)\n",
            "Downloading bicleaner_hardrules-2.8.0-py3-none-manylinux_2_5_x86_64.manylinux1_x86_64.whl (13.5 MB)\n",
            "\u001b[2K   \u001b[90m━━━━━━━━━━━━━━━━━━━━━━━━━━━━━━━━━━━━━━━━\u001b[0m \u001b[32m13.5/13.5 MB\u001b[0m \u001b[31m6.3 MB/s\u001b[0m eta \u001b[36m0:00:00\u001b[0m\n",
            "\u001b[?25hDownloading fastspell-0.8.0-py3-none-any.whl (13 kB)\n",
            "Using cached pybind11-2.13.6-py3-none-any.whl (243 kB)\n",
            "Building wheels for collected packages: fasttext, sacremoses, fastspell-dictionaries, toolwrapper\n",
            "  Building wheel for fasttext (setup.py) ... \u001b[?25l\u001b[?25hdone\n",
            "  Created wheel for fasttext: filename=fasttext-0.9.2-cp311-cp311-linux_x86_64.whl size=4304104 sha256=e09bac4fd8e4ce6885ecdc464a3d4eea46f5ee28bd8c1d7a5dd886c86201676f\n",
            "  Stored in directory: /root/.cache/pip/wheels/12/89/c9/c932d04c4dd65abe347bbb3e6f7668688753cbc585305ad8b7\n",
            "  Building wheel for sacremoses (setup.py) ... \u001b[?25l\u001b[?25hdone\n",
            "  Created wheel for sacremoses: filename=sacremoses-0.0.53-py3-none-any.whl size=895241 sha256=e7367045de9267987b093496d67496f39bf89bcac3305e83102ca21e415870a8\n",
            "  Stored in directory: /root/.cache/pip/wheels/11/75/c6/a82d827a00df823caf211262900d2c024f5b3a775b82b45230\n",
            "  Building wheel for fastspell-dictionaries (pyproject.toml) ... \u001b[?25l\u001b[?25hdone\n",
            "  Created wheel for fastspell-dictionaries: filename=fastspell_dictionaries-3.0-py3-none-any.whl size=19292612 sha256=32909922b6b12df55ab9c5fefd1f568024b2867ebad842a67c476a2cd0015567\n",
            "  Stored in directory: /root/.cache/pip/wheels/e4/ad/3c/de089aa637e81883e83a41eed43f9426514fdb51d6c554bcb9\n",
            "  Building wheel for toolwrapper (setup.py) ... \u001b[?25l\u001b[?25hdone\n",
            "  Created wheel for toolwrapper: filename=toolwrapper-2.1.0-py3-none-any.whl size=3338 sha256=7b4b948f9ca09b4a014cd555e891ebb04c7fa243c2630e4cb70eff8090006983\n",
            "  Stored in directory: /root/.cache/pip/wheels/28/b0/06/bccd361b5b8bbf1ec88b72164fa52daaaa2221865fb980dff1\n",
            "Successfully built fasttext sacremoses fastspell-dictionaries toolwrapper\n",
            "Installing collected packages: toolwrapper, sacremoses, pybind11, fastspell-dictionaries, fasttext, fastspell, bicleaner-hardrules\n",
            "Successfully installed bicleaner-hardrules-2.8.0 fastspell-0.8.0 fastspell-dictionaries-3.0 fasttext-0.9.2 pybind11-2.13.6 sacremoses-0.0.53 toolwrapper-2.1.0\n"
          ]
        }
      ]
    },
    {
      "cell_type": "code",
      "execution_count": 6,
      "metadata": {
        "colab": {
          "base_uri": "https://localhost:8080/"
        },
        "id": "KBlrSGNhRAF7",
        "outputId": "d7332446-8fe1-4089-b5d1-3ebe0b9a4429"
      },
      "outputs": [
        {
          "output_type": "stream",
          "name": "stdout",
          "text": [
            "2025-03-18 13:02:07,083 - WARNING - Downloading FastText model...\n",
            "2025-03-18 13:02:09,923 - WARNING - Metadata file not provided.\n",
            "2025-03-18 13:02:09,923 - INFO - LM filtering disabled.\n",
            "2025-03-18 13:02:09,923 - INFO - Porn removal disabled.\n",
            "2025-03-18 13:02:09,937 - INFO - Executing main program...\n",
            "2025-03-18 13:02:09,938 - INFO - Starting process\n",
            "2025-03-18 13:02:09,938 - INFO - Running 1 workers at 10000 rows per block\n",
            "2025-03-18 13:02:09,948 - INFO - Start mapping\n",
            "2025-03-18 13:02:09,954 - INFO - End mapping\n",
            "2025-03-18 13:02:12,117 - INFO - Hard rules applied. Output available in dev.en-de.classified\n",
            "2025-03-18 13:02:12,124 - INFO - Finished\n",
            "2025-03-18 13:02:12,124 - INFO - Total: 500 rows\n",
            "2025-03-18 13:02:12,124 - INFO - Elapsed time 2.19 s\n",
            "2025-03-18 13:02:12,124 - INFO - Troughput: 228 rows/s\n",
            "2025-03-18 13:02:12,124 - INFO - Program finished\n"
          ]
        }
      ],
      "source": [
        "#apply bicleaner\n",
        "!bicleaner-hardrules  \\\n",
        "        -s en -t de \\\n",
        "        dev.en-de  \\\n",
        "        dev.en-de.classified"
      ]
    },
    {
      "cell_type": "code",
      "execution_count": 7,
      "metadata": {
        "colab": {
          "base_uri": "https://localhost:8080/"
        },
        "id": "5z4Ql8q6RX6r",
        "outputId": "0b893d69-ef06-44a2-ec54-619cd83eca69"
      },
      "outputs": [
        {
          "output_type": "stream",
          "name": "stdout",
          "text": [
            "Yevonde's most famous work was inspired by a theme party held on 5 March 1935, where guests dressed as Roman and Greek gods and goddesses.\tBesonders bekannt wurden ihre Aufnahmen von einem Fest 1935, zu dem Gäste als griechische Götter und Göttinnen verkleidet kamen.\t1\n",
            "Mora is working on a trilogy about the IT specialist Darius Kopp, of which band I \"The Only Man on the Continent\" and Volume II \"The Monster\" have already appeared.\tTerézia Mora arbeitet an einer Trilogie um den IT-Spezialisten Darius Kopp, von der Band I „Der einzige Mann auf dem Kontinent“ und Band II „Das Ungeheuer“ bereits erschienen sind.\t1\n",
            "The first person to enter this section was Günther J. Wolf with seven members of his ice course.\tEine erste Befahrung dieses Abschnitts gelang Günther J. Wolf mit sieben Teilnehmern seines Eiskurses.\t1\n",
            "They were renumbered in 1970 to 100 903 and 904, and in 1973 to 199 003 and 004.\tSie wurden 1970 in 100 903 und 904, 1973 in 199 003 und 004 umgenummert.\t1\n",
            "The grave is probably a disturbed arrangement, which was covered earlier with wood or stones.\tBei dem Grab handelt es sich wahrscheinlich um eine gestörte Anlage, die früher mit Holz oder Steinen abgedeckt war.\t1\n",
            "Persecutions ended following John's death on 23 May 1677, at the age of 74.\tDie Verfolgung endete, als Graf Johann am 23. Mai 1677 im Alter von 74 Jahren starb.\t1\n",
            "In celebration he wrote a book entitled Three Visits to Madagascar (1858).\tDiese Reisen beschrieb er in Three visits to Madagascar (London 1858).\t1\n",
            "Berlinale Talents and Perspektive Deutsches Kino have joined forces to award the inaugural “Kompagnon” fellowship in 2017.\tBerlinale Talents und Perspektive Deutsches Kino vergeben gemeinsam im Jahr 2017 zum ersten Mal den „Kompagnon“-Förderpreis.\t1\n",
            "A proposal was floated during the 1950s to relocate the monument to an alternative site in a city park in order to ease traffic congestion in downtown Lancaster.\tIn den 1950er Jahren wurde der Vorschlag verbreitet, das Denkmal an eine andere Stelle in einem Stadtpark zu versetzen, um damit eine Erleichterung der Verkehrsstauungen im Zentrum von Lancaster zu erreichen.\t1\n",
            "\"Hrvatski kup 2006/07\" (in Croatian).\tArtikel zum LEN Cup 2006/07. (kroatisch)\t1\n"
          ]
        }
      ],
      "source": [
        "#check file\n",
        "!head dev.en-de.classified"
      ]
    },
    {
      "cell_type": "code",
      "execution_count": null,
      "metadata": {
        "id": "kfn6dQqlT9_g"
      },
      "outputs": [],
      "source": [
        "#select only 1\n",
        "!grep '1$' dev.en-de.classified >  dev.en-de.clean"
      ]
    },
    {
      "cell_type": "code",
      "source": [
        "!grep '0$' dev.en-de.classified >  dev.en-de.filter"
      ],
      "metadata": {
        "id": "oxZIfEAdgs5S"
      },
      "execution_count": null,
      "outputs": []
    },
    {
      "cell_type": "code",
      "execution_count": null,
      "metadata": {
        "colab": {
          "base_uri": "https://localhost:8080/"
        },
        "id": "YXpTRCnuVExn",
        "outputId": "169caa2a-c3bd-4214-b5af-de90c2b539aa"
      },
      "outputs": [
        {
          "output_type": "stream",
          "name": "stdout",
          "text": [
            "500 dev.en-de.classified\n",
            "466 dev.en-de.clean\n"
          ]
        }
      ],
      "source": [
        "#check files\n",
        "!wc -l dev.en-de.classified\n",
        "!wc -l dev.en-de.clean"
      ]
    },
    {
      "cell_type": "code",
      "execution_count": null,
      "metadata": {
        "colab": {
          "base_uri": "https://localhost:8080/"
        },
        "id": "Y0691acTeqKA",
        "outputId": "aebd46aa-f3a4-4c44-9377-44f0b6ac9c65"
      },
      "outputs": [
        {
          "output_type": "stream",
          "name": "stdout",
          "text": [
            "Yevonde's most famous work was inspired by a theme party held on 5 March 1935, where guests dressed as Roman and Greek gods and goddesses.\tBesonders bekannt wurden ihre Aufnahmen von einem Fest 1935, zu dem Gäste als griechische Götter und Göttinnen verkleidet kamen.\t1\n",
            "Mora is working on a trilogy about the IT specialist Darius Kopp, of which band I \"The Only Man on the Continent\" and Volume II \"The Monster\" have already appeared.\tTerézia Mora arbeitet an einer Trilogie um den IT-Spezialisten Darius Kopp, von der Band I „Der einzige Mann auf dem Kontinent“ und Band II „Das Ungeheuer“ bereits erschienen sind.\t1\n",
            "The first person to enter this section was Günther J. Wolf with seven members of his ice course.\tEine erste Befahrung dieses Abschnitts gelang Günther J. Wolf mit sieben Teilnehmern seines Eiskurses.\t1\n",
            "They were renumbered in 1970 to 100 903 and 904, and in 1973 to 199 003 and 004.\tSie wurden 1970 in 100 903 und 904, 1973 in 199 003 und 004 umgenummert.\t1\n",
            "The grave is probably a disturbed arrangement, which was covered earlier with wood or stones.\tBei dem Grab handelt es sich wahrscheinlich um eine gestörte Anlage, die früher mit Holz oder Steinen abgedeckt war.\t1\n",
            "Persecutions ended following John's death on 23 May 1677, at the age of 74.\tDie Verfolgung endete, als Graf Johann am 23. Mai 1677 im Alter von 74 Jahren starb.\t1\n",
            "In celebration he wrote a book entitled Three Visits to Madagascar (1858).\tDiese Reisen beschrieb er in Three visits to Madagascar (London 1858).\t1\n",
            "Berlinale Talents and Perspektive Deutsches Kino have joined forces to award the inaugural “Kompagnon” fellowship in 2017.\tBerlinale Talents und Perspektive Deutsches Kino vergeben gemeinsam im Jahr 2017 zum ersten Mal den „Kompagnon“-Förderpreis.\t1\n",
            "A proposal was floated during the 1950s to relocate the monument to an alternative site in a city park in order to ease traffic congestion in downtown Lancaster.\tIn den 1950er Jahren wurde der Vorschlag verbreitet, das Denkmal an eine andere Stelle in einem Stadtpark zu versetzen, um damit eine Erleichterung der Verkehrsstauungen im Zentrum von Lancaster zu erreichen.\t1\n",
            "\"Hrvatski kup 2006/07\" (in Croatian).\tArtikel zum LEN Cup 2006/07. (kroatisch)\t1\n",
            "The melody speaks so to the Cossack guard that he promises the two Hungarians that he'll release them, if only he can receive the violin in exchange for their freedom.\tDiese rührt einen der kosakischen Wächter so sehr an, dass er den beiden Ungarn verspricht, sie in Freiheit zu entlassen, wenn er im Gegenzug dafür die Geige erhalte.\t1\n",
            "It has a fast impetuous flight.\tSie haben einen sehr schnellen Flug.\t1\n",
            "The Economist journalist Tim Judah defined OBC as \"Italy's top website for, as its name suggests, Balkan and Caucasus affairs\".\tJournalist Tim Judah vom Magazin The Economist nannte OBC die „Italienische Top-Website für Balkan und Kaukasus Angelegenheiten“.\t1\n",
            "The group combines reggaeton rhythms with more traditional forms of Cuban music.\tDie Gruppe kombiniert Reggaeton mit traditionellen Elementen der kubanischen Musik.\t1\n",
            "For a discussion, see the talk page.\tZum Geburtsdatum – siehe Diskussionsseite.\t1\n",
            "This letter may Renates life admittedly only so long protected until the Sicherheitsdienst mercilessly intervenes.\tDieses Schreiben schützt Renates Leben freilich nur so lange, bis der Sicherheitsdienst gnadenlos eingreift.\t1\n",
            "From 1889, the island of Labuan was also part of the company administrative territory.\tAb 1889 war auch die Insel Labuan zeitweilig Teil des Verwaltungsgebietes.\t1\n",
            "Two areas of historic buildings adjacent to the district, on Main and North Bridge streets, were not included because they were meant to be razed as well.\tZwei Blöcke mit historischen Gebäuden an Main und North Bridge Street wurden ursprünglich ausgespart, weil sie ebenfalls dem Erdboden gleichgemacht werden sollten.\t1\n",
            "This period also saw several portraits of Sam Salz, including a watercolor by James Ensor, a pastel by Édouard Vuillard, and a photograph of August Sander.\tIn dieser Zeit entstanden verschiedene Porträts von Sam Salz, wie ein Aquarell von James Ensor, ein Pastell von Édouard Vuillard und eine Fotografie von August Sander.\t1\n",
            "Thomas Mann characterized his book Zahl and Gesicht as \"hair-splitting and precious;\" the Swiss playwright Friedrich Dürrenmatt reported that for him a meeting Kassner had \"broken Kassner's spell.\"\tThomas Mann bezeichnete sein Buch Zahl und Gesicht als „spitzfindig und preziös“; Friedrich Dürrenmatt berichtete, eine persönliche Begegnung mit Kassner habe diesen für ihn vollkommen „entzaubert“.\t1\n",
            "In these broadcasts interesting personalities are introduced, Romani and Sinti music is played and they talk about current happenings and projects of Ketani Association.\tIn diesen Sendungen werden interessante Persönlichkeiten vorgestellt, Sinti- und Roma Musik gespielt und über das laufende Geschehen und Projekte des Verein Ketani gesprochen.\t1\n",
            "From there he sent his brother a number of specimens, including the dodo and the Rodrigues solitaire, both already extinct.\tVon dort aus sendete er seinem Bruder verschiedene Exemplare diverser Vögel, unter anderem die bereits ausgestorbenen Dodo (Dronte) und Rodrigues-Solitär.\t1\n",
            "Pierre-Marie Dupuy (born October 5, 1946 in Paris) is a French jurist.\tPierre-Marie Dupuy (* 5. Oktober 1946 in Paris) ist ein französischer Jurist.\t1\n",
            "In 1887, the Castle Yacht Club was established just beside the castle along the spit.\t1887 wurde der Castle Yacht Club gegründet und siedelte sich direkt neben der Burg, entlang des Spits, an.\t1\n",
            "The film was overseen by Mimran Schur Pictures, with the aid of producer Holly Wiersma.\tDer Film wurde von Mimran Schur Pictures betreut, unter der Hilfe der Filmproduzentin Holly Wiersma.\t1\n",
            "Lehman Brothers Collection.\tDie Trilogie LEHMAN BROTHERS.\t1\n",
            "This performance was also included on the 2001 compilation album Morning Glory: The Tim Buckley Anthology.\tDiese Version erschien 2001 nach Buckleys Tod auf dem Album Morning Glory: The Tim Buckley Anthology.\t1\n",
            "The listed building has 830 seats in the Grand House, 120 in the locksmith and 60 in the refreshment room.\tDas unter Denkmalschutz stehende Gebäude verfügt über 830 Plätze im Großen Haus, 120 in der Schlosserei sowie 60 im Erfrischungsraum.\t1\n",
            "In April 2010, the newspaper CozyCot as launched, as a 25-pages free monthly publication with a print run of 200,000.\tIm April 2010 wurde eine Zeitung namens CozyCot als eine 25-seitige kostenlose monatliche Veröffentlichung mit einer Auflage von 200.000 herausgegeben.\t1\n",
            "A branch of the Butler family, the Toler-Aylwards resided at Shankill until 1991 and some still live in the area of Kilkenny.\tEin Zweig der Familie Butler, die Toler-Aylwards, wohnten bis 1991 auf Shankill Castle und einige davon wohnen noch immer im County Kilkenny.\t1\n",
            "This coating method also was used in the restoration and repair of ceramics.\tDieses Beschichtungsverfahren wurde auch bei der Restaurierung und Reparatur von Keramiken verwendet.\t1\n",
            "Anuradha Dullewe Wijeyeratne (third son) entered into active politics in 1988 as a United National Party Member of the Sabaragamuwa Provincial Council in Ratnapura.\tAnuradha Dullewe Wijeyeratne (der dritte Sohn) ging 1988 in die Politik als Mitglied der United National Party und Abgeordneter im Sabaragamuwa Provincial Council in Ratnapura.\t1\n",
            "Within the city limits, US 6 follows Denver's 6th Avenue (known as \"6th Avenue Freeway\").\tInnerhalb der Stadt führt der Highway 6 über die 6th Avenue (auch 6th Avenue Freeway genannt).\t1\n",
            "The painter Thomas Gainsborough lived and worked in Ipswich.\tDie Maler John Constable und Thomas Gainsborough lebten und arbeiteten in Ipswich.\t1\n",
            "The original pressing did not include The Follow; the film was removed from the BMW Films website.\tDie ursprüngliche DVD beinhaltete nicht The Follow, der Film wurde auch von der BMW-Webseite entfernt.\t1\n",
            "Her official online biography notes that she is \"a second generation American of Italian descent\" and that \"Her maternal grandfather, Domenico Mallozzi, was an active anarchist, and associate of Carlo Tresca and Emma Goldman.\"\tIn ihrer offiziellen Online-Biografie gibt sie an, dass ihr Großvater mütterlicherseits, Domenico Mallozzi, ein aktiver Anarchist gewesen sei und mit Carlo Tresca und Emma Goldman zusammengearbeitet habe.\t1\n",
            "When not campaigning abroad, John spent much of his time at Kenilworth and Leicester, and used Kenilworth even more after 1395 when his health began to decline.\tWenn er nicht mit Feldzügen im Ausland beschäftigt war, verbrachte John viel Zeit auf Kenilworth Castle und in Leicester und nutzte Kenilworth Castle in der Zeit nach 1395, als seine Gesundheit zunehmend nachließ, sogar noch mehr.\t1\n",
            "More recent excavations in 1999 and 2001 by ARCUS, Sheffield University's archaeological research and consultancy unit, revealed the castle to have been much larger than had been thought: among the largest medieval castles in England.\tSpäter, in den Jahren 1999 und 2001 entdeckte ARCUS, die Archäologieuntersuchungs- und -beratungseinheit der Universität Sheffield, dass die Burg sehr viel größer war, als sie gedacht hatten: Sie muss eine der größten mittelalterlichen Burgen in England gewesen sein.\t1\n",
            "In all, Anger held 15 patents, many of them for work at the Ernest O. Lawrence Radiation Laboratory.\tInsgesamt hielt Anger 15 Patente, viele von diesen für seine Arbeit am Lawrence Berkeley National Laboratory.\t1\n",
            "At the event, May credited the work of Fawcett not only achieving votes for women but for allowing her and other female MPs to take their positions in Parliament.\tIm Rahmen der Feierlichkeiten würdigte Theresa May die Verdienste Fawcetts nicht nur um das Frauenwahlrecht, sondern auch, dass sie und weitere weibliche Abgeordnete Positionen im Parlament einnehmen konnten.\t1\n",
            "In 1801, the conference sent McKendree to oversee the church's efforts in Southeastern Ohio, Kentucky, Tennessee, and western Virginia and part of Illinois.\t1801 entsandte ihn die Conference, die Projekte der Kirche in Südost-Ohio, Kentucky, Tennessee und dem westlichen Virginia und in Illinois zu besuchen.\t1\n",
            "Nordring station itself was constructed above ground on a viaduct to compensate for the costs of the underground route at the Spittelmarkt and for the Spree tunnel near the Klosterstraße station.\tDer Bahnhof Nordring selbst war oberirdisch auf einem Viadukt gebaut worden, um die Kosten der unterirdischen Strecke beim Spittelmarkt und für den Spreetunnel in der Nähe des Bahnhofs Klosterstraße zu kompensieren.\t1\n",
            "In 1857 William Vincent Wallace organized the Wallace Pianoforte Company based on the promise of Driggs' subsequent patents, but it only appears in city directories for two years.\t1857 organisierte William Vincent Wallace die Wallace Pianoforte Company, basierend auf dem Versprechen der Benutzbarkeit von Driggs Patenten, aber das Unternehmen erschien in den städtischen Adressverzeichnissen nur zwei Jahre lang.\t1\n",
            "This loss of available staff represented about 40 percent of a workforce of 319 people.\tDies entsprach bei einem Personalbestand von 319 Personen rund 40 Prozent.\t1\n",
            "The prince's gratitude to the builder who shaped the appearance of Doberan so much, was thin; Severin died in poverty and oblivion in Bad Doberan, where he is buried at an unknown location.\tDes Fürsten Dank für den Baumeister, der das Gesicht Doberans wesentlich prägte, war sehr gering; Severin starb in Armut und Vergessenheit in Bad Doberan, wo er an unbekannter Stelle beigesetzt ist.\t1\n",
            "Subsequently, its still open ends are linked with each other to obtain two closed rings.\tAnschließend werden dessen noch offene Enden verknüpft und man erhält zwei miteinander verschlossene Ringe.\t1\n",
            "Due to pressure from the Imperial Army during the war, the performance of jazz music was temporarily halted in Japan.\tWährend des Krieges wurde durch den Druck der kaiserlichen Armee das Auftreten der Jazz-Musik vorübergehend angehalten.\t1\n",
            "The west range is now roofless, the internal floor is also gone, and the large windows have been blocked up.\tDer Westflügel ist heute seines Daches beraubt, die Zwischendecken existieren ebenfalls nicht mehr und die großen Fenster wurden zugemauert.\t1\n",
            "He simply had to do what he believed to be right.\tOssebaar sagte, dass er tun sollte, was er für richtig meine.\t1\n",
            "How many images should be in a light field?\tWie viele Gedanken haben auf einer Seite Platz?\t1\n"
          ]
        }
      ],
      "source": [
        "!head -n 50 dev.en-de.clean"
      ]
    },
    {
      "cell_type": "code",
      "source": [
        "!head -n 50 dev.en-de.filter"
      ],
      "metadata": {
        "colab": {
          "base_uri": "https://localhost:8080/"
        },
        "id": "Drg37FJdi9HX",
        "outputId": "11fba368-d215-4822-f859-0b1e8aea529d"
      },
      "execution_count": null,
      "outputs": [
        {
          "output_type": "stream",
          "name": "stdout",
          "text": [
            "He was an editor of the journals: Zeitschrift für Tropenmedizin, the Zentralblatt für Bakteriologie and the Zeitschrift für Parasitenkunde.\tFerner war er Herausgeber der Zeitschrift für Tropenmedizin, dem Zentralblatt für Bakteriologie und der Zeitschrift für Parasitenkunde.\t0\n",
            "\"Das Himmelreich zu Erlangen – offen aus Tradition?\"\tDas Himmelreich zu Erlangen – offen aus Tradition?\t0\n",
            "\"Wörterbuch zur Sprache und Kultur der Twareg\".\tPrasse: Wörterbuch zur Sprache und Kultur der Twareg.\t0\n",
            "Sensors and Actuators B: Chemical.\tIn: Sensors and Actuators B: Chemical.\t0\n",
            "The Daily Courier.\tIn: The Daily Courier.\t0\n",
            "Competitivitat de l´economia catalana en l´horitzó 2010: Effectes macroeconòmics del dèfiit fiscal amb l´Estat espanyol (Competitivity of the Catalan economy in the horizon 2010: Macroeconomic effects of the fiscal deficit with the Spanish State) - 2003 Polítiques públiques: Una visió renovada (Public politics: An updated perspective) - 2004 L´espoli fiscal.\tCompetitivitat de l´economia catalana en l´horitzó 2010: Efectes macroeconòmics del dèfiit fiscal amb l´Estat espanyol (Die Konkurrenzfähigkeit der katalanischen Wirtschaft im Horizon 2010: Macrowirtschaftliche Effecte des spanischen Streuersystems) - 2003 Polítiques públiques: Una visió renovada (Staatliche Politik: Eine neue Lackschicht) - 2004 L´espoli fiscal.\t0\n",
            "Pages 395 & 396.\tS. 395 & 396.\t0\n",
            "La Croisade vue par les Arabes.\tDie Kreuzzüge aus Sicht der Araber.\t0\n",
            "Jus Suffragii.\tIn: Jus Suffragii.\t0\n",
            "Bestseller.\tBestseller.\t0\n",
            "Bluenose: A Canadian Icon.\tIn: Bluenose: A Canadian Icon.\t0\n",
            "Gustaw Herling-Grudziński – \"Inny świat.\tGustaw Herling-Grudziński: Welt ohne Erbarmen.\t0\n",
            "The H - Open.\tIn: The H Open.\t0\n",
            "Vie d'agricola.\tVie d’Agricola.\t0\n",
            "In Pintchman, Tracy; Sherma, Rita D. Woman and Goddess in Hinduism: Reinterpretations and Re-envisionings.\tIn: Tracy Pintchman und Rira D. Sherma: Woman and Goddess in Hinduism: Reinterpretations and Re-envisionings.\t0\n",
            "City Administration Münchberg, Münchberg 1963.\tStadt Münchberg, Münchberg 1963.\t0\n",
            "(\"Nun breite stolze Schwingen aus\" de:Adolf Holst), 5.\t(\"Nun breite stolze Schwingen aus\" Adolf Holst), 5.\t0\n",
            "In 1976 the Preßnitz Dam (vodní nádrž Přisečnice) was completed.\t1976 war der Bau der Trinkwassertalsperre Preßnitz (vodní nádrž Přisečnice) abgeschlossen.\t0\n",
            "Die Neukery mat die Appelboom .\tSchuster, bleib bei deinen Äpfeln.\t0\n",
            "Barcelona, Aymà Edicions, 1958 (volume II in Spanish of Mathematics of History).\tVom Servilismus zur Demokratie), Barcelona, Aymà edicions, 1958 (Band 2 auf Spanisch von Die Mathematik der Geschichte).\t0\n",
            "Mission and Spacecraft Library\tIn: The Mission and Spacecraft Library.\t0\n",
            "Vorbericht über die Ausgrabungen am römischen Tempel (1986–1992).\tVorbericht über die Ausgrabungen am römischen Tempel (1986–1992).\t0\n",
            "\"Singapore Infopedia\"\tIn: Singapore Infopedia.\t0\n",
            "Karasek, Erika/Tietmeyer, Elisabeth (1999): „Das Museum Europäischer Kulturen: Entstehung – Realität – Zukunft, in: Karasek, u.a.\tErika Karasek, Elisabeth Tietmeyer: Das Museum Europäischer Kulturen: Entstehung – Realität – Zukunft.\t0\n",
            "WWE News and Results, RAW and Smackdown Results, Impact News, ROH News.\tIn: WWE News and Results, RAW and Smackdown Results, Impact News, ROH News.\t0\n",
            "International Journal of Group Tensions.\tIn: International Journal of Group Tensions.\t0\n",
            "Archaeologische Mitteilungen aus Iran und Turan vol.\tIn: Archäologische Mitteilungen aus Iran und Turan.\t0\n",
            "Dipholo, Kabelo.\tKabeleins Serienlexikon. kabeleins.de.\t0\n",
            "\"Hawaiis dunkle Seite\".\tHawaiis dunkle Seite.\t0\n",
            "Singapore Statutes Online.\tIn: Singapore Statues Online.\t0\n",
            "\"Women, Fashion & Power\".\tFashion, Sex & Power“).\t0\n",
            "The European Journal of Turkish Studies, Thematic Issue N°1 Gecekondu\tIn: European Journal of Turkish Studies, Thematic Issue N°5, Absatz 10: online.\t0\n",
            "J Chromatogr Sci.\tIn: J Chromatogr Sci.\t0\n",
            "\"Münchner Freiheit\".\tMünchner Freiheit.\t0\n"
          ]
        }
      ]
    },
    {
      "cell_type": "code",
      "execution_count": null,
      "metadata": {
        "id": "YvsQZcpjWiNH"
      },
      "outputs": [],
      "source": [
        "# split file into columns\n",
        "!cut -f1 dev.en-de.clean > dev.en-de.clean.en\n",
        "!cut -f2 dev.en-de.clean > dev.en-de.clean.de"
      ]
    },
    {
      "cell_type": "code",
      "execution_count": null,
      "metadata": {
        "colab": {
          "base_uri": "https://localhost:8080/"
        },
        "id": "4_lRHmB6WvK-",
        "outputId": "07b213c8-aadf-4179-fa98-e45741791273"
      },
      "outputs": [
        {
          "output_type": "stream",
          "name": "stdout",
          "text": [
            "466 dev.en-de.clean.en\n",
            "466 dev.en-de.clean.de\n"
          ]
        }
      ],
      "source": [
        "#check files\n",
        "!wc -l dev.en-de.clean.en\n",
        "!wc -l dev.en-de.clean.de"
      ]
    },
    {
      "cell_type": "markdown",
      "metadata": {
        "id": "Xh0_xBj0d1lS"
      },
      "source": [
        "# TODO BICLEAN\n",
        "  - Training data 500k, dev 5k, and test 5k\n",
        "  - clean it with hard rules\n",
        "\n",
        "\n",
        "*paper: https://aclanthology.org/2020.eamt-1.31.pdf\n",
        "\n"
      ]
    },
    {
      "cell_type": "markdown",
      "metadata": {
        "id": "6SLekEylW2tP"
      },
      "source": [
        "# BPE\n",
        "\n",
        "from [subword-nmt](https://github.com/rsennrich/subword-nmt)"
      ]
    },
    {
      "cell_type": "code",
      "execution_count": null,
      "metadata": {
        "colab": {
          "base_uri": "https://localhost:8080/"
        },
        "id": "muSRThoacuLK",
        "outputId": "799d69df-8151-4beb-a94f-dab287cfe699"
      },
      "outputs": [
        {
          "output_type": "stream",
          "name": "stdout",
          "text": [
            "Collecting subword-nmt\n",
            "  Downloading subword_nmt-0.3.8-py3-none-any.whl.metadata (9.2 kB)\n",
            "Collecting mock (from subword-nmt)\n",
            "  Downloading mock-5.2.0-py3-none-any.whl.metadata (3.1 kB)\n",
            "Requirement already satisfied: tqdm in /usr/local/lib/python3.11/dist-packages (from subword-nmt) (4.67.1)\n",
            "Downloading subword_nmt-0.3.8-py3-none-any.whl (27 kB)\n",
            "Downloading mock-5.2.0-py3-none-any.whl (31 kB)\n",
            "Installing collected packages: mock, subword-nmt\n",
            "Successfully installed mock-5.2.0 subword-nmt-0.3.8\n"
          ]
        }
      ],
      "source": [
        "#install subword nmt\n",
        "!pip install subword-nmt #==0.3.8\n"
      ]
    },
    {
      "cell_type": "code",
      "execution_count": null,
      "metadata": {
        "colab": {
          "base_uri": "https://localhost:8080/"
        },
        "id": "UPf6crJXc1l5",
        "outputId": "70c70f3f-273e-4594-ad7e-d8036187f6cc"
      },
      "outputs": [
        {
          "output_type": "stream",
          "name": "stdout",
          "text": [
            "100% 16000/16000 [01:17<00:00, 205.48it/s]\n"
          ]
        }
      ],
      "source": [
        "#learn bpe model\n",
        "!subword-nmt learn-joint-bpe-and-vocab --input train.en-de.en train.en-de.de -s 16000 -o train.bpe --write-vocabulary train.vocab.en train.vocab.de"
      ]
    },
    {
      "cell_type": "code",
      "execution_count": null,
      "metadata": {
        "id": "qf-vm6Wdecd6"
      },
      "outputs": [],
      "source": [
        "#apply bpe source\n",
        "!subword-nmt apply-bpe -c train.bpe < dev.en-de.en > dev.en-de.bpe.en"
      ]
    },
    {
      "cell_type": "code",
      "execution_count": null,
      "metadata": {
        "colab": {
          "base_uri": "https://localhost:8080/"
        },
        "id": "eb37Y9j3aeMF",
        "outputId": "b29fc6c4-7c19-45f6-c535-119dc5cb48ad"
      },
      "outputs": [
        {
          "output_type": "stream",
          "name": "stdout",
          "text": [
            "Y@@ ev@@ on@@ de@@ 's most famous work was inspired by a theme party held on 5 March 193@@ 5, where gu@@ ests d@@ ressed as Roman and Greek god@@ s and god@@ dess@@ es.\n",
            "Mor@@ a is working on a tr@@ il@@ og@@ y about the IT special@@ ist D@@ ari@@ us K@@ opp@@ , of which band I \"The Only Man on the Contin@@ ent@@ \" and Vol@@ ume II \"The Mon@@ ster@@ \" have already appear@@ ed.\n",
            "The first person to enter this section was Gün@@ ther J. Wol@@ f with seven members of his ice cour@@ se.\n",
            "They were ren@@ um@@ ber@@ ed in 1970 to 100 90@@ 3 and 90@@ 4, and in 1973 to 19@@ 9 00@@ 3 and 00@@ 4.\n",
            "The grave is probably a dist@@ ur@@ bed arrange@@ ment, which was covered earlier with wood or ston@@ es.\n",
            "Per@@ sec@@ u@@ tions ended following John@@ 's death on 23 May 167@@ 7, at the age of 7@@ 4.\n",
            "In celeb@@ ration he wrote a book entitled Three Vis@@ its to Mad@@ ag@@ as@@ car (185@@ 8).\n",
            "Berlin@@ ale Tal@@ ents and Per@@ spek@@ tive Deutsch@@ es Kin@@ o have joined forces to award the inaug@@ ural “@@ Komp@@ agn@@ on@@ ” f@@ ell@@ ow@@ ship in 201@@ 7.\n",
            "A proposal was flo@@ ated during the 1950s to re@@ loc@@ ate the monument to an alternative site in a city park in order to ease traffic con@@ gest@@ ion in down@@ town Lanc@@ ast@@ er.\n",
            "\"@@ H@@ r@@ vat@@ ski k@@ up 200@@ 6/@@ 0@@ 7@@ \" (in Croati@@ an@@ ).\n"
          ]
        }
      ],
      "source": [
        "#check out bpe\n",
        "!head dev.en-de.bpe.en"
      ]
    },
    {
      "cell_type": "markdown",
      "metadata": {
        "id": "72Iw6D4xbq53"
      },
      "source": [
        "# TODO BPE\n",
        "\n",
        "- Train bpe model with the training data\n",
        "- Apply on training, dev, and test\n",
        "\n",
        "**NOTE:** to get original segmentation use\n",
        "\n",
        "\n",
        "```\n",
        "!sed -r 's/(@@ )|(@@ ?$)//g' < file_in > file_out\n",
        "```\n",
        "\n"
      ]
    },
    {
      "cell_type": "code",
      "execution_count": null,
      "metadata": {
        "id": "XdVA_o56boOt"
      },
      "outputs": [],
      "source": []
    }
  ],
  "metadata": {
    "colab": {
      "provenance": []
    },
    "gpuClass": "standard",
    "kernelspec": {
      "display_name": "Python 3",
      "name": "python3"
    },
    "language_info": {
      "name": "python"
    }
  },
  "nbformat": 4,
  "nbformat_minor": 0
}