{
  "nbformat": 4,
  "nbformat_minor": 0,
  "metadata": {
    "colab": {
      "provenance": []
    },
    "kernelspec": {
      "name": "python3",
      "display_name": "Python 3"
    },
    "language_info": {
      "name": "python"
    }
  },
  "cells": [
    {
      "cell_type": "code",
      "execution_count": 1,
      "metadata": {
        "colab": {
          "base_uri": "https://localhost:8080/"
        },
        "id": "puaNWDE9DNfg",
        "outputId": "3161b108-cfd3-4303-a58f-ca89fbdc5c75"
      },
      "outputs": [
        {
          "output_type": "stream",
          "name": "stdout",
          "text": [
            "Collecting translate-toolkit\n",
            "  Downloading translate_toolkit-3.14.8-py3-none-any.whl.metadata (12 kB)\n",
            "Collecting cwcwidth>=0.1.9 (from translate-toolkit)\n",
            "  Downloading cwcwidth-0.1.10-cp311-cp311-manylinux_2_5_x86_64.manylinux1_x86_64.manylinux_2_17_x86_64.manylinux2014_x86_64.whl.metadata (2.0 kB)\n",
            "Requirement already satisfied: lxml>=4.6.3 in /usr/local/lib/python3.11/dist-packages (from translate-toolkit) (5.3.1)\n",
            "Downloading translate_toolkit-3.14.8-py3-none-any.whl (745 kB)\n",
            "\u001b[2K   \u001b[90m━━━━━━━━━━━━━━━━━━━━━━━━━━━━━━━━━━━━━━━━\u001b[0m \u001b[32m745.4/745.4 kB\u001b[0m \u001b[31m8.8 MB/s\u001b[0m eta \u001b[36m0:00:00\u001b[0m\n",
            "\u001b[?25hDownloading cwcwidth-0.1.10-cp311-cp311-manylinux_2_5_x86_64.manylinux1_x86_64.manylinux_2_17_x86_64.manylinux2014_x86_64.whl (100 kB)\n",
            "\u001b[2K   \u001b[90m━━━━━━━━━━━━━━━━━━━━━━━━━━━━━━━━━━━━━━━━\u001b[0m \u001b[32m100.4/100.4 kB\u001b[0m \u001b[31m11.0 MB/s\u001b[0m eta \u001b[36m0:00:00\u001b[0m\n",
            "\u001b[?25hInstalling collected packages: cwcwidth, translate-toolkit\n",
            "Successfully installed cwcwidth-0.1.10 translate-toolkit-3.14.8\n"
          ]
        }
      ],
      "source": [
        "#install translate lib\n",
        "!pip install translate-toolkit #==3.14.7"
      ]
    },
    {
      "cell_type": "code",
      "source": [
        "\n",
        "import os\n",
        "import codecs\n",
        "# Import BeautifulSoup\n",
        "import re\n",
        "from translate.storage.tmx import tmxfile\n",
        "from translate.storage.trados import TradosTxtTmFile\n",
        "content = []\n",
        "# Read the XML file\n",
        "\n",
        "def main(args):\n",
        "    st, src_in, trg_in, output = args\n",
        "    src, trg = st.split('-')\n",
        "    src_lines = codecs.open(src_in, \"r\", \"utf-8\")\n",
        "    trg_lines = codecs.open(trg_in, \"r\", \"utf-8\")\n",
        "    #xml_file = codecs.open(output, \"w\", \"utf-8\")\n",
        "\n",
        "    tmx_o = tmxfile()\n",
        "    tmx_o.addheader()\n",
        "\n",
        "    for src_line, trg_line in zip(src_lines, trg_lines):\n",
        "        scr_line = src_line.strip()\n",
        "        trg_line = trg_line.strip()\n",
        "        tmx_o.addtranslation(src_line, src, trg_line, trg)\n",
        "\n",
        "    #print(dir(tmx_o))\n",
        "    #print(str(tmx_o.__str__()), file=xml_file)\n",
        "    tmx_o.savefile(output)\n",
        "\n",
        "\n",
        "    return"
      ],
      "metadata": {
        "id": "B9HDtg_SSBct"
      },
      "execution_count": 2,
      "outputs": []
    },
    {
      "cell_type": "code",
      "source": [
        "st = 'en-de'\n",
        "src_in = 'Vienna_Environmental.en-de.test.en'\n",
        "trg_in = 'Vienna_Environmental.en-de.test.nllb.de'\n",
        "output = 'Vienna_Environmental_en-de_nllb.tmx'\n",
        "main((st, src_in, trg_in, output))"
      ],
      "metadata": {
        "id": "EUkyy7ZdSXsa"
      },
      "execution_count": 3,
      "outputs": []
    },
    {
      "cell_type": "code",
      "source": [
        "#st = 'en-de' en-it en-fr\n",
        "#src_in = 'Vienna_Environmental.en-de.valid.en'\n",
        "#trg_in = 'Vienna_Environmental.en-de.valid.de' MT system!!!\n",
        "#output = 'Vienna_Environmental_en-de_valid.tmx'\n",
        "#main((st, src_in, trg_in, output))"
      ],
      "metadata": {
        "id": "L9Sk8Q-oRa8i"
      },
      "execution_count": null,
      "outputs": []
    }
  ]
}