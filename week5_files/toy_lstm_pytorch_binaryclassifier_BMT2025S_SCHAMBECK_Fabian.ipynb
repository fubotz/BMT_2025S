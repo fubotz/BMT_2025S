{
  "nbformat": 4,
  "nbformat_minor": 0,
  "metadata": {
    "colab": {
      "provenance": [],
      "gpuType": "T4"
    },
    "kernelspec": {
      "name": "python3",
      "display_name": "Python 3"
    },
    "accelerator": "GPU"
  },
  "cells": [
    {
      "cell_type": "code",
      "metadata": {
        "id": "WSEZpJgvew2h",
        "colab": {
          "base_uri": "https://localhost:8080/"
        },
        "outputId": "ebc612ce-130d-4610-b3cc-094486dcb7ec"
      },
      "source": [
        "#import libraries\n",
        "import torch\n",
        "import torch.nn as nn\n",
        "import torch.optim as optim\n",
        "\n",
        "import numpy as np\n",
        "import matplotlib.pyplot as plt\n",
        "%matplotlib inline\n",
        "\n",
        "#for reproducibility\n",
        "torch.manual_seed(42)\n",
        "np.random.seed(42)\n",
        "\n",
        "#create data with positive instances (X2, Y2) and negative (X1, Y1)\n",
        "#[N, T, F] number of instances (samples), time, features\n",
        "#NB: this could represent time series data OR sequence data (audio, sensor readings,...)\n",
        "X1 = torch.randn(500, 5000, 100)\n",
        "X2 = torch.randn(500, 5000, 100) + 1.5\n",
        "X = torch.cat([X1, X2], dim=0)      #X=[1000, 5000, 100] 1000 samples\n",
        "Y1 = torch.zeros(500, 1)\n",
        "Y2 = torch.ones(500, 1)\n",
        "Y = torch.cat([Y1, Y2], dim=0)      #Y=[1000, 1] 1000 labels 0 and 1\n",
        "\n",
        "#[N, F] instances, time, features\n",
        "print(X.size())\n",
        "#[N, 1] instances, label [0,1]\n",
        "print(Y.size())"
      ],
      "execution_count": 1,
      "outputs": [
        {
          "output_type": "stream",
          "name": "stdout",
          "text": [
            "torch.Size([1000, 5000, 100])\n",
            "torch.Size([1000, 1])\n"
          ]
        }
      ]
    },
    {
      "cell_type": "code",
      "metadata": {
        "id": "AP5rAdq-fn_X"
      },
      "source": [
        "#define model\n",
        "class Net(nn.Module):\n",
        "\n",
        "    def __init__(self, feat_size=100, hidden_size=100, num_labels=1, dropout=0.2, bidirectional=False, feat_representation='mean'):\n",
        "        super().__init__()\n",
        "        self.feat_representation = feat_representation\n",
        "        self.bidirectional = bidirectional\n",
        "        self.fc1 = nn.Linear(feat_size, feat_size)      #linear layer to process input feat before LSTM\n",
        "        self.relu = nn.ReLU()       #activation\n",
        "        self.dout = nn.Dropout(dropout)\n",
        "        self.lstm = nn.LSTM(feat_size, hidden_size, batch_first=True,       #core seq model (LSTM); handles seqs of shape [B, T, F]\n",
        "                            bidirectional=bidirectional)\n",
        "        encoding_size = hidden_size * 2 if bidirectional else hidden_size\n",
        "        self.fc2 = nn.Linear(encoding_size, hidden_size)\n",
        "        self.out = nn.Linear(hidden_size, num_labels)\n",
        "        self.out_act = nn.Sigmoid()     #squash output to [0,1] --> probability\n",
        "\n",
        "    def forward(self, x):\n",
        "        #[B, T, F] batch, time, features\n",
        "        h1 = self.fc1(x)        #linear layer\n",
        "        h1 = self.relu(h1)      #relu activation\n",
        "        #[B, T, H] batch, time, hidden or hidden * 2\n",
        "        outputs, (final, _) = self.lstm(h1)   #mke gru!!\n",
        "\n",
        "        if self.feat_representation == 'mean':\n",
        "            #mean over hidden states of LSTM\n",
        "            outputs = self.dout(outputs)\n",
        "            h = self.relu(self.fc2(outputs))\n",
        "            #[B, H]\n",
        "            h = h.mean(dim=1)\n",
        "        elif self.feat_representation == 'last_state':\n",
        "            #last hidden state of the lstm or concat of bidirectional forward and backward states\n",
        "            if self.bidirectional:\n",
        "                h_T_fwd = final[0]\n",
        "                h_T_bwd = final[1]\n",
        "                h = torch.cat([h_T_fwd, h_T_bwd], dim=-1)\n",
        "            else:\n",
        "                h = final[-1]\n",
        "            h = self.relu(self.fc2(h))\n",
        "            h = self.dout(h)\n",
        "        #[B, 1]\n",
        "        logits = self.out(h)        #raw scores before3 activation\n",
        "        probs = self.out_act(logits)    #sigmoid probabilities\n",
        "        return logits, probs"
      ],
      "execution_count": 2,
      "outputs": []
    },
    {
      "cell_type": "code",
      "source": [
        "#training setup\n",
        "#model\n",
        "model = Net()\n",
        "#check for device\n",
        "device = torch.device(\"cuda:0\") if torch.cuda.is_available() else torch.device(\"cpu\")\n",
        "model = model.to(device)\n",
        "\n",
        "#print architecture\n",
        "print(model)\n",
        "\n",
        "#define adam optimizer\n",
        "opt = optim.Adam(model.parameters(), lr=1e-3)\n",
        "#define binary loss\n",
        "criterion = nn.BCEWithLogitsLoss()"
      ],
      "metadata": {
        "colab": {
          "base_uri": "https://localhost:8080/"
        },
        "id": "x6iC6DGegr66",
        "outputId": "e3212b62-c31b-4460-fcdc-667fd11a46fd"
      },
      "execution_count": 3,
      "outputs": [
        {
          "output_type": "stream",
          "name": "stdout",
          "text": [
            "Net(\n",
            "  (fc1): Linear(in_features=100, out_features=100, bias=True)\n",
            "  (relu): ReLU()\n",
            "  (dout): Dropout(p=0.2, inplace=False)\n",
            "  (lstm): LSTM(100, 100, batch_first=True)\n",
            "  (fc2): Linear(in_features=100, out_features=100, bias=True)\n",
            "  (out): Linear(in_features=100, out_features=1, bias=True)\n",
            "  (out_act): Sigmoid()\n",
            ")\n"
          ]
        }
      ]
    },
    {
      "cell_type": "code",
      "source": [
        "#define hyperparameters\n",
        "e_losses = []       #collect and store loss values\n",
        "num_epochs = 20     #20 total passes\n",
        "batch_size = 64     #64 seqs at once"
      ],
      "metadata": {
        "id": "nDo2-E2W8H85"
      },
      "execution_count": null,
      "outputs": []
    },
    {
      "cell_type": "code",
      "metadata": {
        "id": "NFJPqMFDhXvj",
        "colab": {
          "base_uri": "https://localhost:8080/",
          "height": 469
        },
        "outputId": "9d43d038-19a3-4a6c-9880-461279c63acf"
      },
      "source": [
        "#training loop\n",
        "for e in range(num_epochs):\n",
        "    model.train()\n",
        "    loss_batch = []\n",
        "    for beg_i in range(0, X.size(0), batch_size):       #go over data in steps of batch_size (beg_i=starting index)\n",
        "        #batch instances given batch size\n",
        "        x_batch = X[beg_i:beg_i + batch_size, :]        #slice batch of X (samples)\n",
        "        y_batch = Y[beg_i:beg_i + batch_size, :]        #slice batch of Y (labels)\n",
        "        x_batch = x_batch.to(device)\n",
        "        y_batch = y_batch.to(device)\n",
        "\n",
        "        opt.zero_grad()     #clear gradients of all model parameters before next backpropagation\n",
        "\n",
        "        #(1) Forward\n",
        "        y_logits, y_probs = model(x_batch)\n",
        "        #print(y_probs.size())\n",
        "        #y_logits=raw output before sigmoid\n",
        "        #y_probs=after sigmoid activation (values between 0 and 1)\n",
        "\n",
        "        #(2) Compute loss\n",
        "        loss = criterion(y_logits, y_batch)     #compare predictions y_logits to true labels y_batch (binary CE)\n",
        "        #save loss of batch\n",
        "        loss_batch.append(loss.item())\n",
        "\n",
        "        #(3) Compute gradients\n",
        "        loss.backward()\n",
        "        #print('backprop')\n",
        "\n",
        "        #(4) update weights\n",
        "        opt.step()\n",
        "\n",
        "    e_losses += loss_batch\n",
        "\n",
        "#plot loss over epochs (tracks batch-level losses; NOT epoch-averaged)\n",
        "plt.plot(e_losses)\n",
        "plt.title('Training Loss for Net')"
      ],
      "execution_count": 19,
      "outputs": [
        {
          "output_type": "execute_result",
          "data": {
            "text/plain": [
              "Text(0.5, 1.0, 'Training Loss for Net')"
            ]
          },
          "metadata": {},
          "execution_count": 19
        },
        {
          "output_type": "display_data",
          "data": {
            "text/plain": [
              "<Figure size 640x480 with 1 Axes>"
            ],
            "image/png": "[encoded data removed]"
          },
          "metadata": {}
        }
      ]
    },
    {
      "cell_type": "code",
      "source": [
        "#set model to evaluation mode and get predictions\n",
        "model.eval()\n",
        "\n",
        "#prediction\n",
        "x_t = torch.randn(1, 5000, 100)     #create test sample (batch size=1)\n",
        "x_t = x_t.to(device)\n",
        "y_logit, y_prob = model(x_t)        #curve centered at 0 (--> label 0)\n",
        "print(y_prob.item())\n",
        "\n",
        "x_1_t = torch.randn(1, 5000, 100) + 1.5     #create test sample but shifted (batch size=1)\n",
        "x_1_t = x_1_t.to(device)\n",
        "y1_logit, y1_prob = model(x_1_t)    #curve centered at 1.5 (--> label 1)\n",
        "print(y1_prob.item())"
      ],
      "metadata": {
        "id": "4BXlD1hI9laH"
      },
      "execution_count": null,
      "outputs": []
    },
    {
      "cell_type": "markdown",
      "source": [
        "# TODO\n",
        "\n",
        "Make a new section for each new model NetLast(), NetBiLSTM(), NetDropout()....\n",
        "\n",
        "- Try different feature representations: last state and bidirectional LSTM\n",
        "- try different feature sizes, and dropout [0.1, 0.5, 0.8]\n",
        "- try different non linearities: sigmod, tanh\n",
        "- Use a GRU instead of LSTM: [GRU pytorch](https://pytorch.org/docs/stable/generated/torch.nn.GRU.html)\n",
        "- what if we predict a sequence instead of classification?\n",
        "```python\n",
        "#[N, T, F] number of instances, time, features\n",
        "X1 = torch.randn(1000, 48, 50)\n",
        "X2 = torch.randn(1000, 48, 50) + 1.5\n",
        "X = torch.cat([X1, X2], dim=0)\n",
        "mask = torch.cuda.FloatTensor(2000, 48, 1).uniform_() > 0.8\n",
        "Y1 = torch.zeros(1000, 1)\n",
        "Y2 = torch.ones(1000, 1)\n",
        "#[B, 1]\n",
        "Y_mean = torch.cat([Y1, Y2], dim=0)\n",
        "#[B, T, 1]\n",
        "Y_seq = Y_mean.unsqueeze(1).repeat(1, 48, 1)\n",
        "#[N, F] instances, time, features\n",
        "print(X.size())\n",
        "#[N, 1] instances, label [0,1]\n",
        "print(Y_seq.size())\n",
        "#print(Y_mean.size())\n",
        "print(mask.size())\n",
        "#in model\n",
        "def forward(self, x):\n",
        "    #...\n",
        "    #[B, T, H]\n",
        "    #h_mean = h_time.mean(1)\n",
        "    #[B, T, H] logits is a seq\n",
        "    #logits_mean = self.out_mean(h_mean)\n",
        "    return logits_seq\n",
        "#criterion\n",
        "criterion = nn.BCEWithLogitsLoss(reduction='none')\n",
        "#[B, 1] mean (0)\n",
        "#loss\n",
        "#[B, T, 1]\n",
        "loss_seq = loss_seq * x_mask\n",
        "loss_seq = loss_seq.sum(1)\n",
        "loss_seq = loss_seq.mean(0)\n",
        "```\n",
        "- change BCElogits to probs https://pytorch.org/docs/stable/generated/torch.nn.BCELoss.html\n"
      ],
      "metadata": {
        "id": "_19uyVjK9Bml"
      }
    },
    {
      "cell_type": "code",
      "source": [
        "def train_model(model_class, model_name, X, Y, device='cpu', num_epochs=20, batch_size=64, lr=1e-3):\n",
        "    # 1. Initialize and move to device\n",
        "    model = model_class()\n",
        "    model = model.to(device)\n",
        "\n",
        "    # 2. Print architecture\n",
        "    print(f\"=== Architecture for {model_name} ===\")\n",
        "    print(model)\n",
        "\n",
        "    # 3. Define optimizer and loss\n",
        "    opt = optim.Adam(model.parameters(), lr=lr)\n",
        "    criterion = nn.BCEWithLogitsLoss()\n",
        "\n",
        "    # 4. Training loop\n",
        "    e_losses = []\n",
        "\n",
        "    for e in range(num_epochs):\n",
        "        model.train()\n",
        "        loss_batch = []\n",
        "\n",
        "        for beg_i in range(0, X.size(0), batch_size):\n",
        "            x_batch = X[beg_i:beg_i + batch_size, :]\n",
        "            y_batch = Y[beg_i:beg_i + batch_size, :]\n",
        "            x_batch = x_batch.to(device)\n",
        "            y_batch = y_batch.to(device)\n",
        "\n",
        "            opt.zero_grad()\n",
        "\n",
        "            y_logits, y_probs = model(x_batch)\n",
        "\n",
        "            loss = criterion(y_logits, y_batch)\n",
        "            loss_batch.append(loss.item())\n",
        "\n",
        "            loss.backward()\n",
        "\n",
        "            opt.step()\n",
        "\n",
        "        e_losses += loss_batch\n",
        "\n",
        "    # 5. Plot loss over epochs\n",
        "    plt.plot(e_losses)\n",
        "    plt.title(f'Training Loss for {model_name}')"
      ],
      "metadata": {
        "id": "qg-ZaHvP9r5_"
      },
      "execution_count": null,
      "outputs": []
    },
    {
      "cell_type": "code",
      "source": [
        "def evaluate_model(model, device='cpu'):\n",
        "    model.eval()\n",
        "\n",
        "    with torch.no_grad():\n",
        "        # Test on random sample (expected label 0)\n",
        "        x_t = torch.randn(1, 5000, 100).to(device)\n",
        "        y_logit, y_prob = model(x_t)\n",
        "        print(f\"Random sample (should be 0-like): {y_prob.item():.4f}\")\n",
        "\n",
        "        # Test on shifted sample (expected label 1)\n",
        "        x_1_t = torch.randn(1, 5000, 100).to(device) + 1.5\n",
        "        y1_logit, y1_prob = model(x_1_t)\n",
        "        print(f\"Shifted sample (should be 1-like): {y1_prob.item():.4f}\")"
      ],
      "metadata": {
        "id": "cgJ8MYJL9rco"
      },
      "execution_count": null,
      "outputs": []
    },
    {
      "cell_type": "markdown",
      "source": [
        "# NetLast()"
      ],
      "metadata": {
        "id": "N1MWwempldwz"
      }
    },
    {
      "cell_type": "code",
      "source": [
        "# === Model 1: NetLast (use last hidden state) ===\n",
        "\n",
        "class NetLast(Net):\n",
        "    def __init__(self):\n",
        "        super().__init__(feat_representation='last_state')"
      ],
      "metadata": {
        "id": "Ld-E7F2xlgvk"
      },
      "execution_count": 6,
      "outputs": []
    },
    {
      "cell_type": "code",
      "source": [
        "#initialize the model\n",
        "model = NetLast()\n",
        "model = model.to(device)\n",
        "\n",
        "#print architecture\n",
        "print(model)\n",
        "\n",
        "#define optimizer and loss function\n",
        "opt = optim.Adam(model.parameters(), lr=1e-3)\n",
        "criterion = nn.BCEWithLogitsLoss()\n",
        "\n",
        "#training loop\n",
        "e_losses = []\n",
        "num_epochs = 20\n",
        "batch_size = 64\n",
        "\n",
        "for e in range(num_epochs):\n",
        "    model.train()\n",
        "    loss_batch = []\n",
        "\n",
        "    for beg_i in range(0, X.size(0), batch_size):\n",
        "        x_batch = X[beg_i:beg_i + batch_size, :]\n",
        "        y_batch = Y[beg_i:beg_i + batch_size, :]\n",
        "        x_batch = x_batch.to(device)\n",
        "        y_batch = y_batch.to(device)\n",
        "\n",
        "        opt.zero_grad()\n",
        "\n",
        "        y_logits, y_probs = model(x_batch)\n",
        "\n",
        "        loss = criterion(y_logits, y_batch)\n",
        "        loss_batch.append(loss.item())\n",
        "\n",
        "        loss.backward()\n",
        "\n",
        "        opt.step()\n",
        "\n",
        "    e_losses += loss_batch\n",
        "\n",
        "#plot loss over epochs (tracks batch-level losses; NOT epoch-averaged)\n",
        "plt.plot(e_losses)\n",
        "plt.title('Training Loss for NetLast')"
      ],
      "metadata": {
        "colab": {
          "base_uri": "https://localhost:8080/",
          "height": 626
        },
        "id": "-uRESJAVn6sr",
        "outputId": "77859bb0-ca07-4972-ad31-0a040e683ed4"
      },
      "execution_count": 7,
      "outputs": [
        {
          "output_type": "stream",
          "name": "stdout",
          "text": [
            "NetLast(\n",
            "  (fc1): Linear(in_features=100, out_features=100, bias=True)\n",
            "  (relu): ReLU()\n",
            "  (dout): Dropout(p=0.2, inplace=False)\n",
            "  (lstm): LSTM(100, 100, batch_first=True)\n",
            "  (fc2): Linear(in_features=100, out_features=100, bias=True)\n",
            "  (out): Linear(in_features=100, out_features=1, bias=True)\n",
            "  (out_act): Sigmoid()\n",
            ")\n"
          ]
        },
        {
          "output_type": "execute_result",
          "data": {
            "text/plain": [
              "Text(0.5, 1.0, 'Training Loss for NetLast')"
            ]
          },
          "metadata": {},
          "execution_count": 7
        },
        {
          "output_type": "display_data",
          "data": {
            "text/plain": [
              "<Figure size 640x480 with 1 Axes>"
            ],
            "image/png": "[encoded data removed]"
          },
          "metadata": {}
        }
      ]
    },
    {
      "cell_type": "markdown",
      "source": [],
      "metadata": {
        "id": "_yZ_xrrRw6n-"
      }
    },
    {
      "cell_type": "code",
      "source": [
        "#set model to evaluation mode and get predictions\n",
        "model.eval()\n",
        "\n",
        "#prediction\n",
        "x_t = torch.randn(1, 5000, 100)     #create test sample (batch size=1)\n",
        "x_t = x_t.to(device)\n",
        "y_logit, y_prob = model(x_t)        #curve centered at 0 (--> label 0)\n",
        "print(y_prob.item())\n",
        "\n",
        "x_1_t = torch.randn(1, 5000, 100) + 1.5     #create test sample but shifted (batch size=1)\n",
        "x_1_t = x_1_t.to(device)\n",
        "y1_logit, y1_prob = model(x_1_t)    #curve centered at 1.5 (--> label 1)\n",
        "print(y1_prob.item())"
      ],
      "metadata": {
        "colab": {
          "base_uri": "https://localhost:8080/"
        },
        "id": "yigcD73B00Pp",
        "outputId": "aee975aa-5f5f-49a2-8e10-77a09030dd11"
      },
      "execution_count": 8,
      "outputs": [
        {
          "output_type": "stream",
          "name": "stdout",
          "text": [
            "0.00012346130097284913\n",
            "0.9999804496765137\n"
          ]
        }
      ]
    },
    {
      "cell_type": "markdown",
      "source": [
        "# NetBiLSTM()"
      ],
      "metadata": {
        "id": "aPOrmfyox2_h"
      }
    },
    {
      "cell_type": "code",
      "source": [
        "# === Model 2: NetBiLSTM (bidirectional LSTM) ===\n",
        "\n",
        "class NetBiLSTM(Net):\n",
        "    def __init__(self):\n",
        "        super().__init__(bidirectional=True)"
      ],
      "metadata": {
        "id": "RYfhmRB3x8kD"
      },
      "execution_count": 9,
      "outputs": []
    },
    {
      "cell_type": "code",
      "source": [
        "#initialize the model\n",
        "model = NetBiLSTM()\n",
        "model = model.to(device)\n",
        "\n",
        "#print architecture\n",
        "print(model)\n",
        "\n",
        "#define optimizer and loss function\n",
        "opt = optim.Adam(model.parameters(), lr=1e-3)\n",
        "criterion = nn.BCEWithLogitsLoss()\n",
        "\n",
        "#traning loop\n",
        "e_losses = []\n",
        "num_epochs = 20\n",
        "batch_size = 64\n",
        "\n",
        "for e in range(num_epochs):\n",
        "    model.train()\n",
        "    loss_batch = []\n",
        "    for beg_i in range(0, X.size(0), batch_size):\n",
        "        x_batch = X[beg_i:beg_i + batch_size, :]\n",
        "        y_batch = Y[beg_i:beg_i + batch_size, :]\n",
        "        x_batch = x_batch.to(device)\n",
        "        y_batch = y_batch.to(device)\n",
        "\n",
        "        opt.zero_grad()\n",
        "\n",
        "        y_logits, y_probs = model(x_batch)\n",
        "\n",
        "        loss = criterion(y_logits, y_batch)\n",
        "        loss_batch.append(loss.item())\n",
        "\n",
        "        loss.backward()\n",
        "        opt.step()\n",
        "\n",
        "    e_losses += loss_batch\n",
        "\n",
        "#plot loss over epochs (tracks batch-level losses; NOT epoch-averaged)\n",
        "plt.plot(e_losses)\n",
        "plt.title('Training Loss for NetBiLSTM')"
      ],
      "metadata": {
        "colab": {
          "base_uri": "https://localhost:8080/",
          "height": 626
        },
        "id": "pjYLUI0_2Bo5",
        "outputId": "7b5649ec-1e28-4995-a9ff-3332b0cefe27"
      },
      "execution_count": 10,
      "outputs": [
        {
          "output_type": "stream",
          "name": "stdout",
          "text": [
            "NetBiLSTM(\n",
            "  (fc1): Linear(in_features=100, out_features=100, bias=True)\n",
            "  (relu): ReLU()\n",
            "  (dout): Dropout(p=0.2, inplace=False)\n",
            "  (lstm): LSTM(100, 100, batch_first=True, bidirectional=True)\n",
            "  (fc2): Linear(in_features=200, out_features=100, bias=True)\n",
            "  (out): Linear(in_features=100, out_features=1, bias=True)\n",
            "  (out_act): Sigmoid()\n",
            ")\n"
          ]
        },
        {
          "output_type": "execute_result",
          "data": {
            "text/plain": [
              "Text(0.5, 1.0, 'Training Loss for NetBiLSTM')"
            ]
          },
          "metadata": {},
          "execution_count": 10
        },
        {
          "output_type": "display_data",
          "data": {
            "text/plain": [
              "<Figure size 640x480 with 1 Axes>"
            ],
            "image/png": "[encoded data removed]"
          },
          "metadata": {}
        }
      ]
    },
    {
      "cell_type": "code",
      "source": [
        "#set model to evaluation mode and get predictions\n",
        "model.eval()\n",
        "\n",
        "#prediction\n",
        "x_t = torch.randn(1, 5000, 100)     #create test sample (batch size=1)\n",
        "x_t = x_t.to(device)\n",
        "y_logit, y_prob = model(x_t)        #curve centered at 0 (--> label 0)\n",
        "print(y_prob.item())\n",
        "\n",
        "x_1_t = torch.randn(1, 5000, 100) + 1.5     #create test sample but shifted (batch size=1)\n",
        "x_1_t = x_1_t.to(device)\n",
        "y1_logit, y1_prob = model(x_1_t)    #curve centered at 1.5 (--> label 1)\n",
        "print(y1_prob.item())"
      ],
      "metadata": {
        "colab": {
          "base_uri": "https://localhost:8080/"
        },
        "id": "G8-ceO8-4FEY",
        "outputId": "7f7ee389-2396-4482-9f15-f5abea3cda03"
      },
      "execution_count": 11,
      "outputs": [
        {
          "output_type": "stream",
          "name": "stdout",
          "text": [
            "9.201073407894e-05\n",
            "0.999961256980896\n"
          ]
        }
      ]
    },
    {
      "cell_type": "markdown",
      "source": [
        "# NetDropout()"
      ],
      "metadata": {
        "id": "eC_WUsmE4N84"
      }
    },
    {
      "cell_type": "code",
      "source": [
        "# === Model 3a: NetDropout01 (Dropout 0.1) ===\n",
        "class NetDropout01(Net):\n",
        "    def __init__(self):\n",
        "        super().__init__(dropout=0.1)\n",
        "\n",
        "# === Model 3b: NetDropout05 (Dropout 0.5) ===\n",
        "class NetDropout05(Net):\n",
        "    def __init__(self):\n",
        "        super().__init__(dropout=0.5)\n",
        "\n",
        "# === Model 3c: NetDropout08 (Dropout 0.8) ===\n",
        "class NetDropout08(Net):\n",
        "    def __init__(self):\n",
        "        super().__init__(dropout=0.8)"
      ],
      "metadata": {
        "id": "WLqO2lKf4ZS-"
      },
      "execution_count": 12,
      "outputs": []
    },
    {
      "cell_type": "code",
      "source": [
        "#initialize the model\n",
        "model = NetDropout01()\n",
        "model = model.to(device)\n",
        "\n",
        "#print architecture\n",
        "print(model)\n",
        "\n",
        "#define optimizer and loss function\n",
        "opt = optim.Adam(model.parameters(), lr=1e-3)\n",
        "criterion = nn.BCEWithLogitsLoss()\n",
        "\n",
        "#traning loop\n",
        "e_losses = []\n",
        "num_epochs = 20\n",
        "batch_size = 64\n",
        "\n",
        "for e in range(num_epochs):\n",
        "    model.train()\n",
        "    loss_batch = []\n",
        "    for beg_i in range(0, X.size(0), batch_size):\n",
        "        x_batch = X[beg_i:beg_i + batch_size, :]\n",
        "        y_batch = Y[beg_i:beg_i + batch_size, :]\n",
        "        x_batch = x_batch.to(device)\n",
        "        y_batch = y_batch.to(device)\n",
        "\n",
        "        opt.zero_grad()\n",
        "\n",
        "        y_logits, y_probs = model(x_batch)\n",
        "\n",
        "        loss = criterion(y_logits, y_batch)\n",
        "        loss_batch.append(loss.item())\n",
        "\n",
        "        loss.backward()\n",
        "        opt.step()\n",
        "\n",
        "    e_losses += loss_batch\n",
        "\n",
        "#plot loss over epochs (tracks batch-level losses; NOT epoch-averaged)\n",
        "plt.plot(e_losses)\n",
        "plt.title('Training Loss for NetDropout01')"
      ],
      "metadata": {
        "colab": {
          "base_uri": "https://localhost:8080/",
          "height": 626
        },
        "id": "q2mmEQHx5kxF",
        "outputId": "eefc6604-c9ee-43e3-cf05-3b10472c9039"
      },
      "execution_count": 13,
      "outputs": [
        {
          "output_type": "stream",
          "name": "stdout",
          "text": [
            "NetDropout01(\n",
            "  (fc1): Linear(in_features=100, out_features=100, bias=True)\n",
            "  (relu): ReLU()\n",
            "  (dout): Dropout(p=0.1, inplace=False)\n",
            "  (lstm): LSTM(100, 100, batch_first=True)\n",
            "  (fc2): Linear(in_features=100, out_features=100, bias=True)\n",
            "  (out): Linear(in_features=100, out_features=1, bias=True)\n",
            "  (out_act): Sigmoid()\n",
            ")\n"
          ]
        },
        {
          "output_type": "execute_result",
          "data": {
            "text/plain": [
              "Text(0.5, 1.0, 'Training Loss for NetDropout01')"
            ]
          },
          "metadata": {},
          "execution_count": 13
        },
        {
          "output_type": "display_data",
          "data": {
            "text/plain": [
              "<Figure size 640x480 with 1 Axes>"
            ],
            "image/png": "[encoded data removed]"
          },
          "metadata": {}
        }
      ]
    },
    {
      "cell_type": "code",
      "source": [
        "#set model to evaluation mode and get predictions\n",
        "model.eval()\n",
        "\n",
        "#prediction\n",
        "x_t = torch.randn(1, 5000, 100)     #create test sample (batch size=1)\n",
        "x_t = x_t.to(device)\n",
        "y_logit, y_prob = model(x_t)        #curve centered at 0 (--> label 0)\n",
        "print(y_prob.item())\n",
        "\n",
        "x_1_t = torch.randn(1, 5000, 100) + 1.5     #create test sample but shifted (batch size=1)\n",
        "x_1_t = x_1_t.to(device)\n",
        "y1_logit, y1_prob = model(x_1_t)    #curve centered at 1.5 (--> label 1)\n",
        "print(y1_prob.item())"
      ],
      "metadata": {
        "colab": {
          "base_uri": "https://localhost:8080/"
        },
        "id": "s0rZHFD16P8v",
        "outputId": "06b5ac8a-8bf5-4b51-b5c7-70fa4c0992b5"
      },
      "execution_count": 14,
      "outputs": [
        {
          "output_type": "stream",
          "name": "stdout",
          "text": [
            "0.0002554156817495823\n",
            "0.9999182224273682\n"
          ]
        }
      ]
    },
    {
      "cell_type": "code",
      "source": [
        "#initialize the model\n",
        "model = NetDropout05()\n",
        "model = model.to(device)\n",
        "\n",
        "#print architecture\n",
        "print(model)\n",
        "\n",
        "#define optimizer and loss function\n",
        "opt = optim.Adam(model.parameters(), lr=1e-3)\n",
        "criterion = nn.BCEWithLogitsLoss()\n",
        "\n",
        "#traning loop\n",
        "e_losses = []\n",
        "num_epochs = 20\n",
        "batch_size = 64\n",
        "\n",
        "for e in range(num_epochs):\n",
        "    model.train()\n",
        "    loss_batch = []\n",
        "    for beg_i in range(0, X.size(0), batch_size):\n",
        "        x_batch = X[beg_i:beg_i + batch_size, :]\n",
        "        y_batch = Y[beg_i:beg_i + batch_size, :]\n",
        "        x_batch = x_batch.to(device)\n",
        "        y_batch = y_batch.to(device)\n",
        "\n",
        "        opt.zero_grad()\n",
        "\n",
        "        y_logits, y_probs = model(x_batch)\n",
        "\n",
        "        loss = criterion(y_logits, y_batch)\n",
        "        loss_batch.append(loss.item())\n",
        "\n",
        "        loss.backward()\n",
        "        opt.step()\n",
        "\n",
        "    e_losses += loss_batch\n",
        "\n",
        "#plot loss over epochs (tracks batch-level losses; NOT epoch-averaged)\n",
        "plt.plot(e_losses)\n",
        "plt.title('Training Loss for NetDropout05')"
      ],
      "metadata": {
        "colab": {
          "base_uri": "https://localhost:8080/",
          "height": 626
        },
        "id": "Z5VlPDZg6TSP",
        "outputId": "23db798d-e9df-4c17-efba-8029d5dd358c"
      },
      "execution_count": 15,
      "outputs": [
        {
          "output_type": "stream",
          "name": "stdout",
          "text": [
            "NetDropout05(\n",
            "  (fc1): Linear(in_features=100, out_features=100, bias=True)\n",
            "  (relu): ReLU()\n",
            "  (dout): Dropout(p=0.5, inplace=False)\n",
            "  (lstm): LSTM(100, 100, batch_first=True)\n",
            "  (fc2): Linear(in_features=100, out_features=100, bias=True)\n",
            "  (out): Linear(in_features=100, out_features=1, bias=True)\n",
            "  (out_act): Sigmoid()\n",
            ")\n"
          ]
        },
        {
          "output_type": "execute_result",
          "data": {
            "text/plain": [
              "Text(0.5, 1.0, 'Training Loss for NetDropout05')"
            ]
          },
          "metadata": {},
          "execution_count": 15
        },
        {
          "output_type": "display_data",
          "data": {
            "text/plain": [
              "<Figure size 640x480 with 1 Axes>"
            ],
            "image/png": "[encoded data removed]"
          },
          "metadata": {}
        }
      ]
    },
    {
      "cell_type": "code",
      "source": [
        "#set model to evaluation mode and get predictions\n",
        "model.eval()\n",
        "\n",
        "#prediction\n",
        "x_t = torch.randn(1, 5000, 100)     #create test sample (batch size=1)\n",
        "x_t = x_t.to(device)\n",
        "y_logit, y_prob = model(x_t)        #curve centered at 0 (--> label 0)\n",
        "print(y_prob.item())\n",
        "\n",
        "x_1_t = torch.randn(1, 5000, 100) + 1.5     #create test sample but shifted (batch size=1)\n",
        "x_1_t = x_1_t.to(device)\n",
        "y1_logit, y1_prob = model(x_1_t)    #curve centered at 1.5 (--> label 1)\n",
        "print(y1_prob.item())"
      ],
      "metadata": {
        "colab": {
          "base_uri": "https://localhost:8080/"
        },
        "id": "I1ErVwsd6TEX",
        "outputId": "a11a73c4-e0a1-468c-f2ba-cae363ab6af5"
      },
      "execution_count": 16,
      "outputs": [
        {
          "output_type": "stream",
          "name": "stdout",
          "text": [
            "0.00018486315093468875\n",
            "0.9998621940612793\n"
          ]
        }
      ]
    },
    {
      "cell_type": "code",
      "source": [
        "#initialize the model\n",
        "model = NetDropout08()\n",
        "model = model.to(device)\n",
        "\n",
        "#print architecture\n",
        "print(model)\n",
        "\n",
        "#define optimizer and loss function\n",
        "opt = optim.Adam(model.parameters(), lr=1e-3)\n",
        "criterion = nn.BCEWithLogitsLoss()\n",
        "\n",
        "#traning loop\n",
        "e_losses = []\n",
        "num_epochs = 20\n",
        "batch_size = 64\n",
        "\n",
        "for e in range(num_epochs):\n",
        "    model.train()\n",
        "    loss_batch = []\n",
        "    for beg_i in range(0, X.size(0), batch_size):\n",
        "        x_batch = X[beg_i:beg_i + batch_size, :]\n",
        "        y_batch = Y[beg_i:beg_i + batch_size, :]\n",
        "        x_batch = x_batch.to(device)\n",
        "        y_batch = y_batch.to(device)\n",
        "\n",
        "        opt.zero_grad()\n",
        "\n",
        "        y_logits, y_probs = model(x_batch)\n",
        "\n",
        "        loss = criterion(y_logits, y_batch)\n",
        "        loss_batch.append(loss.item())\n",
        "\n",
        "        loss.backward()\n",
        "        opt.step()\n",
        "\n",
        "    e_losses += loss_batch\n",
        "\n",
        "#plot loss over epochs (tracks batch-level losses; NOT epoch-averaged)\n",
        "plt.plot(e_losses)\n",
        "plt.title('Training Loss for NetDropout08')"
      ],
      "metadata": {
        "colab": {
          "base_uri": "https://localhost:8080/",
          "height": 626
        },
        "id": "vPreP27i6S8Y",
        "outputId": "d6ceecce-c4a1-41d5-f925-6f8399c09896"
      },
      "execution_count": 17,
      "outputs": [
        {
          "output_type": "stream",
          "name": "stdout",
          "text": [
            "NetDropout08(\n",
            "  (fc1): Linear(in_features=100, out_features=100, bias=True)\n",
            "  (relu): ReLU()\n",
            "  (dout): Dropout(p=0.8, inplace=False)\n",
            "  (lstm): LSTM(100, 100, batch_first=True)\n",
            "  (fc2): Linear(in_features=100, out_features=100, bias=True)\n",
            "  (out): Linear(in_features=100, out_features=1, bias=True)\n",
            "  (out_act): Sigmoid()\n",
            ")\n"
          ]
        },
        {
          "output_type": "execute_result",
          "data": {
            "text/plain": [
              "Text(0.5, 1.0, 'Training Loss for NetDropout08')"
            ]
          },
          "metadata": {},
          "execution_count": 17
        },
        {
          "output_type": "display_data",
          "data": {
            "text/plain": [
              "<Figure size 640x480 with 1 Axes>"
            ],
            "image/png": "[encoded data removed]"
          },
          "metadata": {}
        }
      ]
    },
    {
      "cell_type": "code",
      "source": [
        "#set model to evaluation mode and get predictions\n",
        "model.eval()\n",
        "\n",
        "#prediction\n",
        "x_t = torch.randn(1, 5000, 100)     #create test sample (batch size=1)\n",
        "x_t = x_t.to(device)\n",
        "y_logit, y_prob = model(x_t)        #curve centered at 0 (--> label 0)\n",
        "print(y_prob.item())\n",
        "\n",
        "x_1_t = torch.randn(1, 5000, 100) + 1.5     #create test sample but shifted (batch size=1)\n",
        "x_1_t = x_1_t.to(device)\n",
        "y1_logit, y1_prob = model(x_1_t)    #curve centered at 1.5 (--> label 1)\n",
        "print(y1_prob.item())"
      ],
      "metadata": {
        "colab": {
          "base_uri": "https://localhost:8080/"
        },
        "id": "ytYPqcvE6Sxb",
        "outputId": "12e5c381-be32-4146-daa0-f90df0079646"
      },
      "execution_count": 18,
      "outputs": [
        {
          "output_type": "stream",
          "name": "stdout",
          "text": [
            "0.0003203734231647104\n",
            "0.9998509883880615\n"
          ]
        }
      ]
    },
    {
      "cell_type": "markdown",
      "source": [
        "# NetSigmoid()"
      ],
      "metadata": {
        "id": "qOMmoVTF6xlh"
      }
    },
    {
      "cell_type": "code",
      "source": [
        "# === Model 4: NetSigmoid (different non-linearity 1) ===\n",
        "\n",
        "class NetSigmoid(Net):\n",
        "    def __init__(self):\n",
        "        super().__init__()\n",
        "        self.relu = nn.Sigmoid()  # replace ReLU with Sigmoid"
      ],
      "metadata": {
        "id": "YnVp8kyZ67XZ"
      },
      "execution_count": null,
      "outputs": []
    },
    {
      "cell_type": "code",
      "source": [
        "#initialize the model\n",
        "model = NetSigmoid()\n",
        "model = model.to(device)\n",
        "\n",
        "#print architecture\n",
        "print(model)\n",
        "\n",
        "#define optimizer and loss function\n",
        "opt = optim.Adam(model.parameters(), lr=1e-3)\n",
        "criterion = nn.BCEWithLogitsLoss()\n",
        "\n",
        "#traning loop\n",
        "e_losses = []\n",
        "num_epochs = 20\n",
        "batch_size = 64\n",
        "\n",
        "for e in range(num_epochs):\n",
        "    model.train()\n",
        "    loss_batch = []\n",
        "    for beg_i in range(0, X.size(0), batch_size):\n",
        "        x_batch = X[beg_i:beg_i + batch_size, :]\n",
        "        y_batch = Y[beg_i:beg_i + batch_size, :]\n",
        "        x_batch = x_batch.to(device)\n",
        "        y_batch = y_batch.to(device)\n",
        "\n",
        "        opt.zero_grad()\n",
        "\n",
        "        y_logits, y_probs = model(x_batch)\n",
        "\n",
        "        loss = criterion(y_logits, y_batch)\n",
        "        loss_batch.append(loss.item())\n",
        "\n",
        "        loss.backward()\n",
        "        opt.step()\n",
        "\n",
        "    e_losses += loss_batch\n",
        "\n",
        "#plot loss over epochs (tracks batch-level losses; NOT epoch-averaged)\n",
        "plt.plot(e_losses)\n",
        "plt.title('Training Loss for NetSigmoid')"
      ],
      "metadata": {
        "id": "_YGhNYlH7boZ"
      },
      "execution_count": null,
      "outputs": []
    },
    {
      "cell_type": "code",
      "source": [
        "#set model to evaluation mode and get predictions\n",
        "model.eval()\n",
        "\n",
        "#prediction\n",
        "x_t = torch.randn(1, 5000, 100)     #create test sample (batch size=1)\n",
        "x_t = x_t.to(device)\n",
        "y_logit, y_prob = model(x_t)        #curve centered at 0 (--> label 0)\n",
        "print(y_prob.item())\n",
        "\n",
        "x_1_t = torch.randn(1, 5000, 100) + 1.5     #create test sample but shifted (batch size=1)\n",
        "x_1_t = x_1_t.to(device)\n",
        "y1_logit, y1_prob = model(x_1_t)    #curve centered at 1.5 (--> label 1)\n",
        "print(y1_prob.item())"
      ],
      "metadata": {
        "id": "w_QjAVej7xIt"
      },
      "execution_count": null,
      "outputs": []
    }
  ]
}