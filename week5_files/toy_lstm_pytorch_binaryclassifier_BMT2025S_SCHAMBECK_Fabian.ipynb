{
  "nbformat": 4,
  "nbformat_minor": 0,
  "metadata": {
    "colab": {
      "provenance": [],
      "gpuType": "A100"
    },
    "kernelspec": {
      "name": "python3",
      "display_name": "Python 3"
    },
    "accelerator": "GPU"
  },
  "cells": [
    {
      "cell_type": "code",
      "metadata": {
        "id": "WSEZpJgvew2h",
        "colab": {
          "base_uri": "https://localhost:8080/"
        },
        "outputId": "eb7b4b8f-06ca-4f05-9bff-18eed255ccbe"
      },
      "source": [
        "#import libraries\n",
        "import torch\n",
        "import torch.nn as nn\n",
        "import torch.optim as optim\n",
        "\n",
        "import numpy as np\n",
        "import matplotlib.pyplot as plt\n",
        "%matplotlib inline\n",
        "\n",
        "#for reproducibility\n",
        "torch.manual_seed(42)\n",
        "np.random.seed(42)\n",
        "\n",
        "#create data with positive instances (X2, Y2) and negative (X1, Y1)\n",
        "#[N, T, F] number of instances (samples), time, features\n",
        "#NB: this could represent time series data OR sequence data (audio, sensor readings,...)\n",
        "X1 = torch.randn(500, 5000, 100)\n",
        "X2 = torch.randn(500, 5000, 100) + 1.5\n",
        "X = torch.cat([X1, X2], dim=0)      #X=[1000, 5000, 100] 1000 samples\n",
        "Y1 = torch.zeros(500, 1)\n",
        "Y2 = torch.ones(500, 1)\n",
        "Y = torch.cat([Y1, Y2], dim=0)      #Y=[1000, 1] 1000 labels 0 and 1\n",
        "\n",
        "#[N, F] instances, time, features\n",
        "print(X.size())\n",
        "#[N, 1] instances, label [0,1]\n",
        "print(Y.size())"
      ],
      "execution_count": 1,
      "outputs": [
        {
          "output_type": "stream",
          "name": "stdout",
          "text": [
            "torch.Size([1000, 5000, 100])\n",
            "torch.Size([1000, 1])\n"
          ]
        }
      ]
    },
    {
      "cell_type": "code",
      "metadata": {
        "id": "AP5rAdq-fn_X"
      },
      "source": [
        "#define model\n",
        "class Net(nn.Module):\n",
        "\n",
        "    def __init__(self, feat_size=100, hidden_size=100, num_labels=1, dropout=0.2, bidirectional=False, feat_representation='mean'):\n",
        "        super().__init__()\n",
        "        self.feat_representation = feat_representation\n",
        "        self.bidirectional = bidirectional\n",
        "        self.fc1 = nn.Linear(feat_size, feat_size)      #linear layer to process input feat before LSTM\n",
        "        self.relu = nn.ReLU()       #activation\n",
        "        self.dout = nn.Dropout(dropout)\n",
        "        self.lstm = nn.LSTM(feat_size, hidden_size, batch_first=True,       #core seq model (LSTM); handles seqs of shape [B, T, F]\n",
        "                            bidirectional=bidirectional)\n",
        "        encoding_size = hidden_size * 2 if bidirectional else hidden_size\n",
        "        self.fc2 = nn.Linear(encoding_size, hidden_size)\n",
        "        self.out = nn.Linear(hidden_size, num_labels)\n",
        "        self.out_act = nn.Sigmoid()     #squash output to [0,1] --> probability\n",
        "\n",
        "    def forward(self, x):\n",
        "        #[B, T, F] batch, time, features\n",
        "        h1 = self.fc1(x)        #linear layer\n",
        "        h1 = self.relu(h1)      #relu activation\n",
        "        #[B, T, H] batch, time, hidden or hidden * 2\n",
        "        outputs, (final, _) = self.lstm(h1)   #mke gru!!\n",
        "\n",
        "        if self.feat_representation == 'mean':\n",
        "            #mean over hidden states of LSTM\n",
        "            outputs = self.dout(outputs)\n",
        "            h = self.relu(self.fc2(outputs))\n",
        "            #[B, H]\n",
        "            h = h.mean(dim=1)\n",
        "        elif self.feat_representation == 'last_state':\n",
        "            #last hidden state of the lstm or concat of bidirectional forward and backward states\n",
        "            if self.bidirectional:\n",
        "                h_T_fwd = final[0]\n",
        "                h_T_bwd = final[1]\n",
        "                h = torch.cat([h_T_fwd, h_T_bwd], dim=-1)\n",
        "            else:\n",
        "                h = final[-1]\n",
        "            h = self.relu(self.fc2(h))\n",
        "            h = self.dout(h)\n",
        "        #[B, 1]\n",
        "        logits = self.out(h)        #raw scores before3 activation\n",
        "        probs = self.out_act(logits)    #sigmoid probabilities\n",
        "        return logits, probs"
      ],
      "execution_count": 2,
      "outputs": []
    },
    {
      "cell_type": "code",
      "source": [
        "#training setup\n",
        "#model\n",
        "model = Net()\n",
        "#check for device\n",
        "device = torch.device(\"cuda:0\") if torch.cuda.is_available() else torch.device(\"cpu\")\n",
        "model = model.to(device)\n",
        "\n",
        "#print architecture\n",
        "print(model)\n",
        "\n",
        "#define adam optimizer\n",
        "opt = optim.Adam(model.parameters(), lr=1e-3)\n",
        "#define binary loss\n",
        "criterion = nn.BCEWithLogitsLoss()"
      ],
      "metadata": {
        "colab": {
          "base_uri": "https://localhost:8080/"
        },
        "id": "x6iC6DGegr66",
        "outputId": "8efd7d2c-9be8-4084-80a1-c380b0e6c375"
      },
      "execution_count": 3,
      "outputs": [
        {
          "output_type": "stream",
          "name": "stdout",
          "text": [
            "Net(\n",
            "  (fc1): Linear(in_features=100, out_features=100, bias=True)\n",
            "  (relu): ReLU()\n",
            "  (dout): Dropout(p=0.2, inplace=False)\n",
            "  (lstm): LSTM(100, 100, batch_first=True)\n",
            "  (fc2): Linear(in_features=100, out_features=100, bias=True)\n",
            "  (out): Linear(in_features=100, out_features=1, bias=True)\n",
            "  (out_act): Sigmoid()\n",
            ")\n"
          ]
        }
      ]
    },
    {
      "cell_type": "code",
      "metadata": {
        "id": "NFJPqMFDhXvj",
        "colab": {
          "base_uri": "https://localhost:8080/",
          "height": 447
        },
        "outputId": "292eeb46-21a1-4986-ed2f-ee7e64653e14"
      },
      "source": [
        "#define hyperparameters\n",
        "e_losses = []       #collect and store loss values\n",
        "num_epochs = 20     #20 total passes\n",
        "batch_size = 64     #64 seqs at once\n",
        "\n",
        "#training loop\n",
        "for e in range(num_epochs):\n",
        "    model.train()\n",
        "    loss_batch = []\n",
        "    for beg_i in range(0, X.size(0), batch_size):       #go over data in steps of batch_size (beg_i=starting index)\n",
        "        #batch instances given batch size\n",
        "        x_batch = X[beg_i:beg_i + batch_size, :]        #slice batch of X (samples)\n",
        "        y_batch = Y[beg_i:beg_i + batch_size, :]        #slice batch of Y (labels)\n",
        "        x_batch = x_batch.to(device)\n",
        "        y_batch = y_batch.to(device)\n",
        "\n",
        "        opt.zero_grad()     #clear gradients of all model parameters before next backpropagation\n",
        "\n",
        "        #(1) Forward\n",
        "        y_logits, y_probs = model(x_batch)\n",
        "        #print(y_probs.size())\n",
        "        #y_logits=raw output before sigmoid\n",
        "        #y_probs=after sigmoid activation (values between 0 and 1)\n",
        "\n",
        "        #(2) Compute loss\n",
        "        loss = criterion(y_logits, y_batch)     #compare predictions y_logits to true labels y_batch (binary CE)\n",
        "        #save loss of batch\n",
        "        loss_batch.append(loss.item())\n",
        "\n",
        "        #(3) Compute gradients\n",
        "        loss.backward()\n",
        "        #print('backprop')\n",
        "\n",
        "        #(4) update weights\n",
        "        opt.step()\n",
        "\n",
        "    e_losses += loss_batch\n",
        "\n",
        "#plot loss over epochs (tracks batch-level losses; NOT epoch-averaged)\n",
        "plt.plot(e_losses)"
      ],
      "execution_count": 4,
      "outputs": [
        {
          "output_type": "execute_result",
          "data": {
            "text/plain": [
              "[<matplotlib.lines.Line2D at 0x7da651794750>]"
            ]
          },
          "metadata": {},
          "execution_count": 4
        },
        {
          "output_type": "display_data",
          "data": {
            "text/plain": [
              "<Figure size 640x480 with 1 Axes>"
            ],
            "image/png": "[encoded data removed]"
          },
          "metadata": {}
        }
      ]
    },
    {
      "cell_type": "code",
      "metadata": {
        "id": "qOqlotxYkHxQ",
        "colab": {
          "base_uri": "https://localhost:8080/"
        },
        "outputId": "db8ff2e9-8b40-4ca6-c27f-0feece1bfb55"
      },
      "source": [
        "#set model to evaluation mode and get predictions\n",
        "model.eval()\n",
        "\n",
        "#prediction\n",
        "x_t = torch.randn(1, 5000, 100)     #create test sample (batch size=1)\n",
        "x_t = x_t.to(device)\n",
        "y_logit, y_prob = model(x_t)        #curve centered at 0 (--> label 0)\n",
        "print(y_prob.item())\n",
        "\n",
        "x_1_t = torch.randn(1, 5000, 100) + 1.5     #create test sample but shifted (batch size=1)\n",
        "x_1_t = x_1_t.to(device)\n",
        "y1_logit, y1_prob = model(x_1_t)    #curve centered at 1.5 (--> label 1)\n",
        "print(y1_prob.item())"
      ],
      "execution_count": 5,
      "outputs": [
        {
          "output_type": "stream",
          "name": "stdout",
          "text": [
            "0.00014815512986388057\n",
            "0.999967098236084\n"
          ]
        }
      ]
    },
    {
      "cell_type": "code",
      "source": [
        "#add simple accuracy testing on training data\n",
        "def evaluate_model(model, X, Y, batch_size=64, device='cpu', model_name='Model'):\n",
        "    model.eval()\n",
        "    correct = 0\n",
        "    total = 0\n",
        "\n",
        "    with torch.no_grad():\n",
        "        for beg_i in range(0, X.size(0), batch_size):\n",
        "            x_batch = X[beg_i:beg_i + batch_size, :]\n",
        "            y_batch = Y[beg_i:beg_i + batch_size, :]\n",
        "            x_batch = x_batch.to(device)\n",
        "            y_batch = y_batch.to(device)\n",
        "\n",
        "            y_logits, y_probs = model(x_batch)\n",
        "\n",
        "            preds = (y_probs > 0.5).float()\n",
        "            correct += (preds == y_batch).sum().item()\n",
        "            total += y_batch.size(0)\n",
        "\n",
        "    accuracy = correct / total\n",
        "    print(f\"\\nFinal Accuracy on Training Data ({model_name}): {accuracy*100:.2f}%\")\n",
        "    return accuracy\n",
        "\n",
        "evaluate_model(model, X, Y, batch_size=batch_size, device=device, model_name='Net')"
      ],
      "metadata": {
        "id": "ecERZLJ6xD2V"
      },
      "execution_count": null,
      "outputs": []
    },
    {
      "cell_type": "markdown",
      "source": [
        "# TODO\n",
        "\n",
        "Make a new section for each new model NetLast(), NetBiLSTM(), NetDropout()....\n",
        "\n",
        "- Try different feature representations: last state and bidirectional LSTM\n",
        "- try different feature sizes, and dropout [0.1, 0.5, 0.8]\n",
        "- try different non linearities: sigmod, tanh\n",
        "- Use a GRU instead of LSTM: [GRU pytorch](https://pytorch.org/docs/stable/generated/torch.nn.GRU.html)\n",
        "- what if we predict a sequence instead of classification?\n",
        "```python\n",
        "#[N, T, F] number of instances, time, features\n",
        "X1 = torch.randn(1000, 48, 50)\n",
        "X2 = torch.randn(1000, 48, 50) + 1.5\n",
        "X = torch.cat([X1, X2], dim=0)\n",
        "mask = torch.cuda.FloatTensor(2000, 48, 1).uniform_() > 0.8\n",
        "Y1 = torch.zeros(1000, 1)\n",
        "Y2 = torch.ones(1000, 1)\n",
        "#[B, 1]\n",
        "Y_mean = torch.cat([Y1, Y2], dim=0)\n",
        "#[B, T, 1]\n",
        "Y_seq = Y_mean.unsqueeze(1).repeat(1, 48, 1)\n",
        "#[N, F] instances, time, features\n",
        "print(X.size())\n",
        "#[N, 1] instances, label [0,1]\n",
        "print(Y_seq.size())\n",
        "#print(Y_mean.size())\n",
        "print(mask.size())\n",
        "#in model\n",
        "def forward(self, x):\n",
        "    #...\n",
        "    #[B, T, H]\n",
        "    #h_mean = h_time.mean(1)\n",
        "    #[B, T, H] logits is a seq\n",
        "    #logits_mean = self.out_mean(h_mean)\n",
        "    return logits_seq\n",
        "#criterion\n",
        "criterion = nn.BCEWithLogitsLoss(reduction='none')\n",
        "#[B, 1] mean (0)\n",
        "#loss\n",
        "#[B, T, 1]\n",
        "loss_seq = loss_seq * x_mask\n",
        "loss_seq = loss_seq.sum(1)\n",
        "loss_seq = loss_seq.mean(0)\n",
        "```\n",
        "- change BCElogits to probs https://pytorch.org/docs/stable/generated/torch.nn.BCELoss.html\n"
      ],
      "metadata": {
        "id": "_19uyVjK9Bml"
      }
    },
    {
      "cell_type": "markdown",
      "source": [
        "# NetLast()"
      ],
      "metadata": {
        "id": "N1MWwempldwz"
      }
    },
    {
      "cell_type": "code",
      "source": [
        "# === Model 1: NetLast (use last hidden state) ===\n",
        "\n",
        "class NetLast(Net):\n",
        "    def __init__(self):\n",
        "        super().__init__(feat_representation='last_state')"
      ],
      "metadata": {
        "id": "Ld-E7F2xlgvk"
      },
      "execution_count": 6,
      "outputs": []
    },
    {
      "cell_type": "code",
      "source": [
        "# Initialize the model\n",
        "model = NetLast()\n",
        "model = model.to(device)\n",
        "\n",
        "#print architecture\n",
        "print(model)\n",
        "\n",
        "# Define optimizer and loss function\n",
        "opt = optim.Adam(model.parameters(), lr=1e-3)\n",
        "criterion = nn.BCEWithLogitsLoss()\n",
        "\n",
        "# Training loop\n",
        "e_losses = []\n",
        "num_epochs = 20\n",
        "batch_size = 64\n",
        "\n",
        "for e in range(num_epochs):\n",
        "    model.train()\n",
        "    loss_batch = []\n",
        "\n",
        "    for beg_i in range(0, X.size(0), batch_size):\n",
        "        x_batch = X[beg_i:beg_i + batch_size, :]\n",
        "        y_batch = Y[beg_i:beg_i + batch_size, :]\n",
        "        x_batch = x_batch.to(device)\n",
        "        y_batch = y_batch.to(device)\n",
        "\n",
        "        opt.zero_grad()\n",
        "\n",
        "        y_logits, y_probs = model(x_batch)\n",
        "\n",
        "        loss = criterion(y_logits, y_batch)\n",
        "        loss_batch.append(loss.item())\n",
        "\n",
        "        loss.backward()\n",
        "\n",
        "        opt.step()\n",
        "\n",
        "    e_losses += loss_batch\n",
        "\n",
        "#plot loss over epochs (tracks batch-level losses; NOT epoch-averaged)\n",
        "plt.plot(e_losses)"
      ],
      "metadata": {
        "id": "-uRESJAVn6sr",
        "outputId": "46a1a2ef-4a85-4d86-acff-9d5dcb70a3c9",
        "colab": {
          "base_uri": "https://localhost:8080/",
          "height": 604
        }
      },
      "execution_count": 7,
      "outputs": [
        {
          "output_type": "stream",
          "name": "stdout",
          "text": [
            "NetLast(\n",
            "  (fc1): Linear(in_features=100, out_features=100, bias=True)\n",
            "  (relu): ReLU()\n",
            "  (dout): Dropout(p=0.2, inplace=False)\n",
            "  (lstm): LSTM(100, 100, batch_first=True)\n",
            "  (fc2): Linear(in_features=100, out_features=100, bias=True)\n",
            "  (out): Linear(in_features=100, out_features=1, bias=True)\n",
            "  (out_act): Sigmoid()\n",
            ")\n"
          ]
        },
        {
          "output_type": "execute_result",
          "data": {
            "text/plain": [
              "[<matplotlib.lines.Line2D at 0x7da54dfb9e10>]"
            ]
          },
          "metadata": {},
          "execution_count": 7
        },
        {
          "output_type": "display_data",
          "data": {
            "text/plain": [
              "<Figure size 640x480 with 1 Axes>"
            ],
            "image/png": "[encoded data removed]"
          },
          "metadata": {}
        }
      ]
    },
    {
      "cell_type": "markdown",
      "source": [],
      "metadata": {
        "id": "_yZ_xrrRw6n-"
      }
    },
    {
      "cell_type": "code",
      "source": [],
      "metadata": {
        "id": "kwDTVM6Tx_GJ"
      },
      "execution_count": null,
      "outputs": []
    },
    {
      "cell_type": "markdown",
      "source": [
        "# NetBiLSTM()"
      ],
      "metadata": {
        "id": "aPOrmfyox2_h"
      }
    },
    {
      "cell_type": "code",
      "source": [
        "#"
      ],
      "metadata": {
        "id": "RYfhmRB3x8kD"
      },
      "execution_count": null,
      "outputs": []
    }
  ]
}