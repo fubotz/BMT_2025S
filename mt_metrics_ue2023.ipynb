{
  "nbformat": 4,
  "nbformat_minor": 0,
  "metadata": {
    "colab": {
      "provenance": [],
      "include_colab_link": true
    },
    "kernelspec": {
      "name": "python3",
      "display_name": "Python 3"
    },
    "language_info": {
      "name": "python"
    },
    "accelerator": "GPU"
  },
  "cells": [
    {
      "cell_type": "markdown",
      "metadata": {
        "id": "view-in-github",
        "colab_type": "text"
      },
      "source": [
        "<a href=\"https://colab.research.google.com/github/fubotz/MT_UE_ss2023/blob/main/mt_metrics_ue2023.ipynb\" target=\"_parent\"><img src=\"https://colab.research.google.com/assets/colab-badge.svg\" alt=\"Open In Colab\"/></a>"
      ]
    },
    {
      "cell_type": "markdown",
      "source": [
        "# Machine Translation Automatic Metrics\n",
        "\n",
        "- BLEU\n",
        "- chrF\n",
        "- COMET\n",
        "\n",
        "First we will install the required libraries.\n",
        "\n",
        "'#' are comments.\n",
        "\n",
        "!   are commands to compute a score.\n",
        "\n",
        "Each block is text or a command.\n",
        "\n",
        "**NOTE**: to execute a command we push play button next to [ ] in the order of the blocks.\n",
        "\n",
        "**NOTE**: colab saves files in the left side Files icon"
      ],
      "metadata": {
        "id": "WD9YWbV0AaFt"
      }
    },
    {
      "cell_type": "code",
      "execution_count": null,
      "metadata": {
        "id": "ZLn9O7DJAULH",
        "colab": {
          "base_uri": "https://localhost:8080/"
        },
        "outputId": "5a013090-dcbb-49ce-a153-c0c65a4911a0"
      },
      "outputs": [
        {
          "output_type": "stream",
          "name": "stdout",
          "text": [
            "Collecting sacrebleu\n",
            "  Downloading sacrebleu-2.4.2-py3-none-any.whl.metadata (58 kB)\n",
            "\u001b[2K     \u001b[90m━━━━━━━━━━━━━━━━━━━━━━━━━━━━━━━━━━━━━━━━\u001b[0m \u001b[32m58.0/58.0 kB\u001b[0m \u001b[31m2.6 MB/s\u001b[0m eta \u001b[36m0:00:00\u001b[0m\n",
            "\u001b[?25hCollecting portalocker (from sacrebleu)\n",
            "  Downloading portalocker-2.10.1-py3-none-any.whl.metadata (8.5 kB)\n",
            "Requirement already satisfied: regex in /usr/local/lib/python3.10/dist-packages (from sacrebleu) (2024.5.15)\n",
            "Requirement already satisfied: tabulate>=0.8.9 in /usr/local/lib/python3.10/dist-packages (from sacrebleu) (0.9.0)\n",
            "Requirement already satisfied: numpy>=1.17 in /usr/local/lib/python3.10/dist-packages (from sacrebleu) (1.26.4)\n",
            "Collecting colorama (from sacrebleu)\n",
            "  Downloading colorama-0.4.6-py2.py3-none-any.whl.metadata (17 kB)\n",
            "Requirement already satisfied: lxml in /usr/local/lib/python3.10/dist-packages (from sacrebleu) (4.9.4)\n",
            "Downloading sacrebleu-2.4.2-py3-none-any.whl (106 kB)\n",
            "\u001b[2K   \u001b[90m━━━━━━━━━━━━━━━━━━━━━━━━━━━━━━━━━━━━━━━━\u001b[0m \u001b[32m106.7/106.7 kB\u001b[0m \u001b[31m6.2 MB/s\u001b[0m eta \u001b[36m0:00:00\u001b[0m\n",
            "\u001b[?25hDownloading colorama-0.4.6-py2.py3-none-any.whl (25 kB)\n",
            "Downloading portalocker-2.10.1-py3-none-any.whl (18 kB)\n",
            "Installing collected packages: portalocker, colorama, sacrebleu\n",
            "Successfully installed colorama-0.4.6 portalocker-2.10.1 sacrebleu-2.4.2\n"
          ]
        }
      ],
      "source": [
        "# install the metrics\n",
        "# we only have to do it once per session\n",
        "# install BLEU and chrF\n",
        "!pip install sacrebleu"
      ]
    },
    {
      "cell_type": "code",
      "source": [
        "#install COMET\n",
        "!pip install unbabel-comet"
      ],
      "metadata": {
        "id": "M-q3SyRoBHjC",
        "colab": {
          "base_uri": "https://localhost:8080/"
        },
        "outputId": "1012210f-d93f-4b9a-9d00-8d88ccb7f10e"
      },
      "execution_count": null,
      "outputs": [
        {
          "output_type": "stream",
          "name": "stdout",
          "text": [
            "Looking in indexes: https://pypi.org/simple, https://us-python.pkg.dev/colab-wheels/public/simple/\n",
            "Collecting unbabel-comet\n",
            "  Downloading unbabel_comet-2.0.1-py3-none-any.whl (81 kB)\n",
            "\u001b[2K     \u001b[90m━━━━━━━━━━━━━━━━━━━━━━━━━━━━━━━━━━━━━━━━\u001b[0m \u001b[32m81.6/81.6 kB\u001b[0m \u001b[31m3.4 MB/s\u001b[0m eta \u001b[36m0:00:00\u001b[0m\n",
            "\u001b[?25hCollecting entmax<2.0,>=1.1 (from unbabel-comet)\n",
            "  Downloading entmax-1.1-py3-none-any.whl (12 kB)\n",
            "Collecting huggingface-hub<0.13.0,>=0.12.0 (from unbabel-comet)\n",
            "  Downloading huggingface_hub-0.12.1-py3-none-any.whl (190 kB)\n",
            "\u001b[2K     \u001b[90m━━━━━━━━━━━━━━━━━━━━━━━━━━━━━━━━━━━━━━\u001b[0m \u001b[32m190.3/190.3 kB\u001b[0m \u001b[31m23.1 MB/s\u001b[0m eta \u001b[36m0:00:00\u001b[0m\n",
            "\u001b[?25hCollecting jsonargparse==3.13.1 (from unbabel-comet)\n",
            "  Downloading jsonargparse-3.13.1-py3-none-any.whl (101 kB)\n",
            "\u001b[2K     \u001b[90m━━━━━━━━━━━━━━━━━━━━━━━━━━━━━━━━━━━━━━\u001b[0m \u001b[32m101.4/101.4 kB\u001b[0m \u001b[31m13.2 MB/s\u001b[0m eta \u001b[36m0:00:00\u001b[0m\n",
            "\u001b[?25hRequirement already satisfied: numpy<2.0.0,>=1.20.0 in /usr/local/lib/python3.10/dist-packages (from unbabel-comet) (1.22.4)\n",
            "Requirement already satisfied: pandas<2.0.0,>=1.4.1 in /usr/local/lib/python3.10/dist-packages (from unbabel-comet) (1.5.3)\n",
            "Collecting pytorch-lightning<2.0.0,>=1.6.4 (from unbabel-comet)\n",
            "  Downloading pytorch_lightning-1.9.5-py3-none-any.whl (829 kB)\n",
            "\u001b[2K     \u001b[90m━━━━━━━━━━━━━━━━━━━━━━━━━━━━━━━━━━━━━━\u001b[0m \u001b[32m829.5/829.5 kB\u001b[0m \u001b[31m36.5 MB/s\u001b[0m eta \u001b[36m0:00:00\u001b[0m\n",
            "\u001b[?25hRequirement already satisfied: sacrebleu<3.0.0,>=2.0.0 in /usr/local/lib/python3.10/dist-packages (from unbabel-comet) (2.3.1)\n",
            "Requirement already satisfied: scipy<2.0.0,>=1.5.4 in /usr/local/lib/python3.10/dist-packages (from unbabel-comet) (1.10.1)\n",
            "Collecting sentencepiece<0.2.0,>=0.1.96 (from unbabel-comet)\n",
            "  Downloading sentencepiece-0.1.99-cp310-cp310-manylinux_2_17_x86_64.manylinux2014_x86_64.whl (1.3 MB)\n",
            "\u001b[2K     \u001b[90m━━━━━━━━━━━━━━━━━━━━━━━━━━━━━━━━━━━━━━━━\u001b[0m \u001b[32m1.3/1.3 MB\u001b[0m \u001b[31m32.6 MB/s\u001b[0m eta \u001b[36m0:00:00\u001b[0m\n",
            "\u001b[?25hRequirement already satisfied: torch>=1.6.0 in /usr/local/lib/python3.10/dist-packages (from unbabel-comet) (2.0.1+cu118)\n",
            "Collecting torchmetrics==0.8.2 (from unbabel-comet)\n",
            "  Downloading torchmetrics-0.8.2-py3-none-any.whl (409 kB)\n",
            "\u001b[2K     \u001b[90m━━━━━━━━━━━━━━━━━━━━━━━━━━━━━━━━━━━━━━\u001b[0m \u001b[32m409.8/409.8 kB\u001b[0m \u001b[31m45.6 MB/s\u001b[0m eta \u001b[36m0:00:00\u001b[0m\n",
            "\u001b[?25hCollecting transformers<5.0,>=4.17 (from unbabel-comet)\n",
            "  Downloading transformers-4.30.1-py3-none-any.whl (7.2 MB)\n",
            "\u001b[2K     \u001b[90m━━━━━━━━━━━━━━━━━━━━━━━━━━━━━━━━━━━━━━━━\u001b[0m \u001b[32m7.2/7.2 MB\u001b[0m \u001b[31m107.6 MB/s\u001b[0m eta \u001b[36m0:00:00\u001b[0m\n",
            "\u001b[?25hRequirement already satisfied: PyYAML>=3.13 in /usr/local/lib/python3.10/dist-packages (from jsonargparse==3.13.1->unbabel-comet) (6.0)\n",
            "Collecting pyDeprecate==0.3.* (from torchmetrics==0.8.2->unbabel-comet)\n",
            "  Downloading pyDeprecate-0.3.2-py3-none-any.whl (10 kB)\n",
            "Requirement already satisfied: packaging in /usr/local/lib/python3.10/dist-packages (from torchmetrics==0.8.2->unbabel-comet) (23.1)\n",
            "Requirement already satisfied: filelock in /usr/local/lib/python3.10/dist-packages (from huggingface-hub<0.13.0,>=0.12.0->unbabel-comet) (3.12.0)\n",
            "Requirement already satisfied: requests in /usr/local/lib/python3.10/dist-packages (from huggingface-hub<0.13.0,>=0.12.0->unbabel-comet) (2.27.1)\n",
            "Requirement already satisfied: tqdm>=4.42.1 in /usr/local/lib/python3.10/dist-packages (from huggingface-hub<0.13.0,>=0.12.0->unbabel-comet) (4.65.0)\n",
            "Requirement already satisfied: typing-extensions>=3.7.4.3 in /usr/local/lib/python3.10/dist-packages (from huggingface-hub<0.13.0,>=0.12.0->unbabel-comet) (4.5.0)\n",
            "Requirement already satisfied: python-dateutil>=2.8.1 in /usr/local/lib/python3.10/dist-packages (from pandas<2.0.0,>=1.4.1->unbabel-comet) (2.8.2)\n",
            "Requirement already satisfied: pytz>=2020.1 in /usr/local/lib/python3.10/dist-packages (from pandas<2.0.0,>=1.4.1->unbabel-comet) (2022.7.1)\n",
            "Requirement already satisfied: fsspec[http]>2021.06.0 in /usr/local/lib/python3.10/dist-packages (from pytorch-lightning<2.0.0,>=1.6.4->unbabel-comet) (2023.4.0)\n",
            "Collecting lightning-utilities>=0.6.0.post0 (from pytorch-lightning<2.0.0,>=1.6.4->unbabel-comet)\n",
            "  Downloading lightning_utilities-0.8.0-py3-none-any.whl (20 kB)\n",
            "Requirement already satisfied: portalocker in /usr/local/lib/python3.10/dist-packages (from sacrebleu<3.0.0,>=2.0.0->unbabel-comet) (2.7.0)\n",
            "Requirement already satisfied: regex in /usr/local/lib/python3.10/dist-packages (from sacrebleu<3.0.0,>=2.0.0->unbabel-comet) (2022.10.31)\n",
            "Requirement already satisfied: tabulate>=0.8.9 in /usr/local/lib/python3.10/dist-packages (from sacrebleu<3.0.0,>=2.0.0->unbabel-comet) (0.8.10)\n",
            "Requirement already satisfied: colorama in /usr/local/lib/python3.10/dist-packages (from sacrebleu<3.0.0,>=2.0.0->unbabel-comet) (0.4.6)\n",
            "Requirement already satisfied: lxml in /usr/local/lib/python3.10/dist-packages (from sacrebleu<3.0.0,>=2.0.0->unbabel-comet) (4.9.2)\n",
            "Requirement already satisfied: sympy in /usr/local/lib/python3.10/dist-packages (from torch>=1.6.0->unbabel-comet) (1.11.1)\n",
            "Requirement already satisfied: networkx in /usr/local/lib/python3.10/dist-packages (from torch>=1.6.0->unbabel-comet) (3.1)\n",
            "Requirement already satisfied: jinja2 in /usr/local/lib/python3.10/dist-packages (from torch>=1.6.0->unbabel-comet) (3.1.2)\n",
            "Requirement already satisfied: triton==2.0.0 in /usr/local/lib/python3.10/dist-packages (from torch>=1.6.0->unbabel-comet) (2.0.0)\n",
            "Requirement already satisfied: cmake in /usr/local/lib/python3.10/dist-packages (from triton==2.0.0->torch>=1.6.0->unbabel-comet) (3.25.2)\n",
            "Requirement already satisfied: lit in /usr/local/lib/python3.10/dist-packages (from triton==2.0.0->torch>=1.6.0->unbabel-comet) (16.0.5)\n",
            "INFO: pip is looking at multiple versions of transformers to determine which version is compatible with other requirements. This could take a while.\n",
            "Collecting transformers<5.0,>=4.17 (from unbabel-comet)\n",
            "  Downloading transformers-4.30.0-py3-none-any.whl (7.2 MB)\n",
            "\u001b[2K     \u001b[90m━━━━━━━━━━━━━━━━━━━━━━━━━━━━━━━━━━━━━━━━\u001b[0m \u001b[32m7.2/7.2 MB\u001b[0m \u001b[31m91.9 MB/s\u001b[0m eta \u001b[36m0:00:00\u001b[0m\n",
            "\u001b[?25h  Downloading transformers-4.29.2-py3-none-any.whl (7.1 MB)\n",
            "\u001b[2K     \u001b[90m━━━━━━━━━━━━━━━━━━━━━━━━━━━━━━━━━━━━━━━━\u001b[0m \u001b[32m7.1/7.1 MB\u001b[0m \u001b[31m92.2 MB/s\u001b[0m eta \u001b[36m0:00:00\u001b[0m\n",
            "\u001b[?25h  Downloading transformers-4.29.1-py3-none-any.whl (7.1 MB)\n",
            "\u001b[2K     \u001b[90m━━━━━━━━━━━━━━━━━━━━━━━━━━━━━━━━━━━━━━━━\u001b[0m \u001b[32m7.1/7.1 MB\u001b[0m \u001b[31m86.6 MB/s\u001b[0m eta \u001b[36m0:00:00\u001b[0m\n",
            "\u001b[?25h  Downloading transformers-4.29.0-py3-none-any.whl (7.1 MB)\n",
            "\u001b[2K     \u001b[90m━━━━━━━━━━━━━━━━━━━━━━━━━━━━━━━━━━━━━━━━\u001b[0m \u001b[32m7.1/7.1 MB\u001b[0m \u001b[31m118.0 MB/s\u001b[0m eta \u001b[36m0:00:00\u001b[0m\n",
            "\u001b[?25hCollecting tokenizers!=0.11.3,<0.14,>=0.11.1 (from transformers<5.0,>=4.17->unbabel-comet)\n",
            "  Downloading tokenizers-0.13.3-cp310-cp310-manylinux_2_17_x86_64.manylinux2014_x86_64.whl (7.8 MB)\n",
            "\u001b[2K     \u001b[90m━━━━━━━━━━━━━━━━━━━━━━━━━━━━━━━━━━━━━━━━\u001b[0m \u001b[32m7.8/7.8 MB\u001b[0m \u001b[31m115.2 MB/s\u001b[0m eta \u001b[36m0:00:00\u001b[0m\n",
            "\u001b[?25hCollecting aiohttp!=4.0.0a0,!=4.0.0a1 (from fsspec[http]>2021.06.0->pytorch-lightning<2.0.0,>=1.6.4->unbabel-comet)\n",
            "  Downloading aiohttp-3.8.4-cp310-cp310-manylinux_2_17_x86_64.manylinux2014_x86_64.whl (1.0 MB)\n",
            "\u001b[2K     \u001b[90m━━━━━━━━━━━━━━━━━━━━━━━━━━━━━━━━━━━━━━━━\u001b[0m \u001b[32m1.0/1.0 MB\u001b[0m \u001b[31m68.8 MB/s\u001b[0m eta \u001b[36m0:00:00\u001b[0m\n",
            "\u001b[?25hRequirement already satisfied: six>=1.5 in /usr/local/lib/python3.10/dist-packages (from python-dateutil>=2.8.1->pandas<2.0.0,>=1.4.1->unbabel-comet) (1.16.0)\n",
            "Requirement already satisfied: MarkupSafe>=2.0 in /usr/local/lib/python3.10/dist-packages (from jinja2->torch>=1.6.0->unbabel-comet) (2.1.2)\n",
            "Requirement already satisfied: urllib3<1.27,>=1.21.1 in /usr/local/lib/python3.10/dist-packages (from requests->huggingface-hub<0.13.0,>=0.12.0->unbabel-comet) (1.26.15)\n",
            "Requirement already satisfied: certifi>=2017.4.17 in /usr/local/lib/python3.10/dist-packages (from requests->huggingface-hub<0.13.0,>=0.12.0->unbabel-comet) (2022.12.7)\n",
            "Requirement already satisfied: charset-normalizer~=2.0.0 in /usr/local/lib/python3.10/dist-packages (from requests->huggingface-hub<0.13.0,>=0.12.0->unbabel-comet) (2.0.12)\n",
            "Requirement already satisfied: idna<4,>=2.5 in /usr/local/lib/python3.10/dist-packages (from requests->huggingface-hub<0.13.0,>=0.12.0->unbabel-comet) (3.4)\n",
            "Requirement already satisfied: mpmath>=0.19 in /usr/local/lib/python3.10/dist-packages (from sympy->torch>=1.6.0->unbabel-comet) (1.3.0)\n",
            "Requirement already satisfied: attrs>=17.3.0 in /usr/local/lib/python3.10/dist-packages (from aiohttp!=4.0.0a0,!=4.0.0a1->fsspec[http]>2021.06.0->pytorch-lightning<2.0.0,>=1.6.4->unbabel-comet) (23.1.0)\n",
            "Collecting multidict<7.0,>=4.5 (from aiohttp!=4.0.0a0,!=4.0.0a1->fsspec[http]>2021.06.0->pytorch-lightning<2.0.0,>=1.6.4->unbabel-comet)\n",
            "  Downloading multidict-6.0.4-cp310-cp310-manylinux_2_17_x86_64.manylinux2014_x86_64.whl (114 kB)\n",
            "\u001b[2K     \u001b[90m━━━━━━━━━━━━━━━━━━━━━━━━━━━━━━━━━━━━━━\u001b[0m \u001b[32m114.5/114.5 kB\u001b[0m \u001b[31m15.7 MB/s\u001b[0m eta \u001b[36m0:00:00\u001b[0m\n",
            "\u001b[?25hCollecting async-timeout<5.0,>=4.0.0a3 (from aiohttp!=4.0.0a0,!=4.0.0a1->fsspec[http]>2021.06.0->pytorch-lightning<2.0.0,>=1.6.4->unbabel-comet)\n",
            "  Downloading async_timeout-4.0.2-py3-none-any.whl (5.8 kB)\n",
            "Collecting yarl<2.0,>=1.0 (from aiohttp!=4.0.0a0,!=4.0.0a1->fsspec[http]>2021.06.0->pytorch-lightning<2.0.0,>=1.6.4->unbabel-comet)\n",
            "  Downloading yarl-1.9.2-cp310-cp310-manylinux_2_17_x86_64.manylinux2014_x86_64.whl (268 kB)\n",
            "\u001b[2K     \u001b[90m━━━━━━━━━━━━━━━━━━━━━━━━━━━━━━━━━━━━━━\u001b[0m \u001b[32m268.8/268.8 kB\u001b[0m \u001b[31m32.1 MB/s\u001b[0m eta \u001b[36m0:00:00\u001b[0m\n",
            "\u001b[?25hCollecting frozenlist>=1.1.1 (from aiohttp!=4.0.0a0,!=4.0.0a1->fsspec[http]>2021.06.0->pytorch-lightning<2.0.0,>=1.6.4->unbabel-comet)\n",
            "  Downloading frozenlist-1.3.3-cp310-cp310-manylinux_2_5_x86_64.manylinux1_x86_64.manylinux_2_17_x86_64.manylinux2014_x86_64.whl (149 kB)\n",
            "\u001b[2K     \u001b[90m━━━━━━━━━━━━━━━━━━━━━━━━━━━━━━━━━━━━━━\u001b[0m \u001b[32m149.6/149.6 kB\u001b[0m \u001b[31m19.2 MB/s\u001b[0m eta \u001b[36m0:00:00\u001b[0m\n",
            "\u001b[?25hCollecting aiosignal>=1.1.2 (from aiohttp!=4.0.0a0,!=4.0.0a1->fsspec[http]>2021.06.0->pytorch-lightning<2.0.0,>=1.6.4->unbabel-comet)\n",
            "  Downloading aiosignal-1.3.1-py3-none-any.whl (7.6 kB)\n",
            "Installing collected packages: tokenizers, sentencepiece, pyDeprecate, multidict, lightning-utilities, jsonargparse, frozenlist, async-timeout, yarl, huggingface-hub, aiosignal, transformers, aiohttp, torchmetrics, pytorch-lightning, entmax, unbabel-comet\n",
            "Successfully installed aiohttp-3.8.4 aiosignal-1.3.1 async-timeout-4.0.2 entmax-1.1 frozenlist-1.3.3 huggingface-hub-0.12.1 jsonargparse-3.13.1 lightning-utilities-0.8.0 multidict-6.0.4 pyDeprecate-0.3.2 pytorch-lightning-1.9.5 sentencepiece-0.1.99 tokenizers-0.13.3 torchmetrics-0.8.2 transformers-4.29.0 unbabel-comet-2.0.1 yarl-1.9.2\n"
          ]
        }
      ]
    },
    {
      "cell_type": "markdown",
      "source": [
        "## Upload Text Files\n",
        "\n",
        "We need to upload the text files with the Source, Reference translation, and MT systems (engines) output.\n",
        "\n",
        "You upload files in the **directory** icon"
      ],
      "metadata": {
        "id": "lvGk5K-wCfQU"
      }
    },
    {
      "cell_type": "markdown",
      "source": [
        "## Compute BLEU and chrF Scores\n",
        "\n",
        "This is the command to compute BLEU and chrF:\n",
        "\n",
        "sacrebleu reference-file -l language pair -i MT output -m metrics\n",
        "\n",
        "**NOTE**: the MT optput is the name of the vaccine file pre-translated with the opuscat finetune 700k.\n",
        "\n",
        "e.g. (commands in colab start with !)\n",
        "\n",
        "!sacrebleu en-de.vaccine.reference.de -l en-de -i en-de.opuscat.original.de -m bleu chrf"
      ],
      "metadata": {
        "id": "ANKFYtADCOxD"
      }
    },
    {
      "cell_type": "code",
      "source": [
        "#compute BLEU and chrF reference with system 1\n",
        "!sacrebleu fine-tuned-revised.txt -l en-de -i original_translation.txt  -m bleu chrf"
      ],
      "metadata": {
        "id": "EB2xGXQmCI3k",
        "colab": {
          "base_uri": "https://localhost:8080/"
        },
        "outputId": "6b6d5735-6cf2-493f-c77e-57059d1e6115"
      },
      "execution_count": null,
      "outputs": [
        {
          "output_type": "stream",
          "name": "stdout",
          "text": [
            "[\n",
            "{\n",
            " \"name\": \"BLEU\",\n",
            " \"score\": 55.0,\n",
            " \"signature\": \"nrefs:1|case:mixed|eff:no|tok:13a|smooth:exp|version:2.3.1\",\n",
            " \"verbose_score\": \"78.2/60.8/48.4/39.7 (BP = 1.000 ratio = 1.012 hyp_len = 527 ref_len = 521)\",\n",
            " \"nrefs\": \"1\",\n",
            " \"case\": \"mixed\",\n",
            " \"eff\": \"no\",\n",
            " \"tok\": \"13a\",\n",
            " \"smooth\": \"exp\",\n",
            " \"version\": \"2.3.1\"\n",
            "},\n",
            "{\n",
            " \"name\": \"chrF2\",\n",
            " \"score\": 77.2,\n",
            " \"signature\": \"nrefs:1|case:mixed|eff:yes|nc:6|nw:0|space:no|version:2.3.1\",\n",
            " \"nrefs\": \"1\",\n",
            " \"case\": \"mixed\",\n",
            " \"eff\": \"yes\",\n",
            " \"nc\": \"6\",\n",
            " \"nw\": \"0\",\n",
            " \"space\": \"no\",\n",
            " \"version\": \"2.3.1\"\n",
            "}\n",
            "]\n",
            "\u001b[0m"
          ]
        }
      ]
    },
    {
      "cell_type": "code",
      "source": [
        "#compute BLEU and chrF reference with system 2\n",
        "!sacrebleu fine-tuned-revised.txt -l en-de -i fine-tuned_translation.txt -m bleu chrf"
      ],
      "metadata": {
        "id": "CWtW7XaNDHAS",
        "colab": {
          "base_uri": "https://localhost:8080/"
        },
        "outputId": "e46ce606-b7d4-42c0-b01c-a23dbf5422e8"
      },
      "execution_count": null,
      "outputs": [
        {
          "output_type": "stream",
          "name": "stdout",
          "text": [
            "[\n",
            "{\n",
            " \"name\": \"BLEU\",\n",
            " \"score\": 60.2,\n",
            " \"signature\": \"nrefs:1|case:mixed|eff:no|tok:13a|smooth:exp|version:2.3.1\",\n",
            " \"verbose_score\": \"81.0/67.0/57.1/49.7 (BP = 0.961 ratio = 0.962 hyp_len = 501 ref_len = 521)\",\n",
            " \"nrefs\": \"1\",\n",
            " \"case\": \"mixed\",\n",
            " \"eff\": \"no\",\n",
            " \"tok\": \"13a\",\n",
            " \"smooth\": \"exp\",\n",
            " \"version\": \"2.3.1\"\n",
            "},\n",
            "{\n",
            " \"name\": \"chrF2\",\n",
            " \"score\": 77.7,\n",
            " \"signature\": \"nrefs:1|case:mixed|eff:yes|nc:6|nw:0|space:no|version:2.3.1\",\n",
            " \"nrefs\": \"1\",\n",
            " \"case\": \"mixed\",\n",
            " \"eff\": \"yes\",\n",
            " \"nc\": \"6\",\n",
            " \"nw\": \"0\",\n",
            " \"space\": \"no\",\n",
            " \"version\": \"2.3.1\"\n",
            "}\n",
            "]\n",
            "\u001b[0m"
          ]
        }
      ]
    },
    {
      "cell_type": "markdown",
      "source": [
        "# Compute COMET Scores\n",
        "\n",
        "Command for COMET score\n",
        "\n",
        "comet-score -s source-file  -t MT ouput -r reference-file\n",
        "\n",
        "e.g.\n",
        "\n",
        "!comet-score -s en-de.vaccine.source.en -t en-de.opuscat.original.de -r en-de.vaccine.reference.de\n",
        "\n",
        "\n"
      ],
      "metadata": {
        "id": "yug2ryzEEnB6"
      }
    },
    {
      "cell_type": "code",
      "source": [
        "# compute COMET  system 1\n",
        "#comet downloads a language model once per session\n",
        "!comet-score -s en-de.vaccine.source.en.txt -t original_translation.txt -r fine-tuned-revised.txt"
      ],
      "metadata": {
        "id": "mrapRBIJENjG",
        "colab": {
          "base_uri": "https://localhost:8080/"
        },
        "outputId": "eabe3029-fbf3-4a6a-cd0b-a81a67869077"
      },
      "execution_count": null,
      "outputs": [
        {
          "output_type": "stream",
          "name": "stdout",
          "text": [
            "2023-06-10 16:22:14.520108: W tensorflow/compiler/tf2tensorrt/utils/py_utils.cc:38] TF-TRT Warning: Could not find TensorRT\n",
            "Global seed set to 1\n",
            "Fetching 5 files: 100% 5/5 [00:00<00:00, 35848.75it/s]\n",
            "Lightning automatically upgraded your loaded checkpoint from v1.8.3.post1 to v1.9.5. To apply the upgrade to your files permanently, run `python -m pytorch_lightning.utilities.upgrade_checkpoint --file ../root/.cache/huggingface/hub/models--Unbabel--wmt22-comet-da/snapshots/371e9839ca4e213dde891b066cf3080f75ec7e72/checkpoints/model.ckpt`\n",
            "Encoder model frozen.\n",
            "GPU available: True (cuda), used: True\n",
            "TPU available: False, using: 0 TPU cores\n",
            "IPU available: False, using: 0 IPUs\n",
            "HPU available: False, using: 0 HPUs\n",
            "LOCAL_RANK: 0 - CUDA_VISIBLE_DEVICES: [0]\n",
            "Predicting DataLoader 0: 100% 2/2 [00:00<00:00,  2.35it/s]\n",
            "original_translation.txt\tSegment 0\tscore: 0.5972\n",
            "original_translation.txt\tSegment 1\tscore: 0.8674\n",
            "original_translation.txt\tSegment 2\tscore: 0.8337\n",
            "original_translation.txt\tSegment 3\tscore: 0.7616\n",
            "original_translation.txt\tSegment 4\tscore: 0.9307\n",
            "original_translation.txt\tSegment 5\tscore: 0.9057\n",
            "original_translation.txt\tSegment 6\tscore: 0.8681\n",
            "original_translation.txt\tSegment 7\tscore: 0.7371\n",
            "original_translation.txt\tSegment 8\tscore: 0.9600\n",
            "original_translation.txt\tSegment 9\tscore: 0.9234\n",
            "original_translation.txt\tSegment 10\tscore: 0.9165\n",
            "original_translation.txt\tSegment 11\tscore: 0.9562\n",
            "original_translation.txt\tSegment 12\tscore: 0.9434\n",
            "original_translation.txt\tSegment 13\tscore: 0.9155\n",
            "original_translation.txt\tSegment 14\tscore: 0.8839\n",
            "original_translation.txt\tSegment 15\tscore: 0.9102\n",
            "original_translation.txt\tSegment 16\tscore: 0.9471\n",
            "original_translation.txt\tSegment 17\tscore: 0.9055\n",
            "original_translation.txt\tSegment 18\tscore: 0.9640\n",
            "original_translation.txt\tSegment 19\tscore: 0.9289\n",
            "original_translation.txt\tSegment 20\tscore: 0.9501\n",
            "original_translation.txt\tSegment 21\tscore: 0.9866\n",
            "original_translation.txt\tscore: 0.8906\n"
          ]
        }
      ]
    },
    {
      "cell_type": "code",
      "source": [
        "!comet-score -s medline_en-de_source_en.txt -t medline_en-de_opuscat_finetune_de.txt -r medline_en-de_reference_de.txt"
      ],
      "metadata": {
        "id": "QRwLYOEqIP5N",
        "colab": {
          "base_uri": "https://localhost:8080/"
        },
        "outputId": "280ad1b6-584e-45f1-b6c1-1bc31d0b9ad9"
      },
      "execution_count": null,
      "outputs": [
        {
          "output_type": "stream",
          "name": "stdout",
          "text": [
            "2023-05-22 14:08:40.747045: W tensorflow/compiler/tf2tensorrt/utils/py_utils.cc:38] TF-TRT Warning: Could not find TensorRT\n",
            "Global seed set to 1\n",
            "Fetching 5 files: 100% 5/5 [00:00<00:00, 60787.01it/s]\n",
            "Lightning automatically upgraded your loaded checkpoint from v1.8.3.post1 to v1.9.5. To apply the upgrade to your files permanently, run `python -m pytorch_lightning.utilities.upgrade_checkpoint --file ../root/.cache/huggingface/hub/models--Unbabel--wmt22-comet-da/snapshots/371e9839ca4e213dde891b066cf3080f75ec7e72/checkpoints/model.ckpt`\n",
            "Encoder model frozen.\n",
            "GPU available: True (cuda), used: True\n",
            "TPU available: False, using: 0 TPU cores\n",
            "IPU available: False, using: 0 IPUs\n",
            "HPU available: False, using: 0 HPUs\n",
            "LOCAL_RANK: 0 - CUDA_VISIBLE_DEVICES: [0]\n",
            "Predicting DataLoader 0: 100% 4/4 [00:01<00:00,  2.01it/s]\n",
            "medline_en-de_opuscat_finetune_de.txt\tSegment 0\tscore: 0.7873\n",
            "medline_en-de_opuscat_finetune_de.txt\tSegment 1\tscore: 0.9056\n",
            "medline_en-de_opuscat_finetune_de.txt\tSegment 2\tscore: 0.8453\n",
            "medline_en-de_opuscat_finetune_de.txt\tSegment 3\tscore: 0.8326\n",
            "medline_en-de_opuscat_finetune_de.txt\tSegment 4\tscore: 0.9040\n",
            "medline_en-de_opuscat_finetune_de.txt\tSegment 5\tscore: 0.6642\n",
            "medline_en-de_opuscat_finetune_de.txt\tSegment 6\tscore: 0.7522\n",
            "medline_en-de_opuscat_finetune_de.txt\tSegment 7\tscore: 0.8759\n",
            "medline_en-de_opuscat_finetune_de.txt\tSegment 8\tscore: 0.7933\n",
            "medline_en-de_opuscat_finetune_de.txt\tSegment 9\tscore: 0.7906\n",
            "medline_en-de_opuscat_finetune_de.txt\tSegment 10\tscore: 0.7997\n",
            "medline_en-de_opuscat_finetune_de.txt\tSegment 11\tscore: 0.6731\n",
            "medline_en-de_opuscat_finetune_de.txt\tSegment 12\tscore: 0.8071\n",
            "medline_en-de_opuscat_finetune_de.txt\tSegment 13\tscore: 0.7093\n",
            "medline_en-de_opuscat_finetune_de.txt\tSegment 14\tscore: 0.6726\n",
            "medline_en-de_opuscat_finetune_de.txt\tSegment 15\tscore: 0.9465\n",
            "medline_en-de_opuscat_finetune_de.txt\tSegment 16\tscore: 0.9359\n",
            "medline_en-de_opuscat_finetune_de.txt\tSegment 17\tscore: 0.9170\n",
            "medline_en-de_opuscat_finetune_de.txt\tSegment 18\tscore: 0.7639\n",
            "medline_en-de_opuscat_finetune_de.txt\tSegment 19\tscore: 0.8428\n",
            "medline_en-de_opuscat_finetune_de.txt\tSegment 20\tscore: 0.8366\n",
            "medline_en-de_opuscat_finetune_de.txt\tSegment 21\tscore: 0.9460\n",
            "medline_en-de_opuscat_finetune_de.txt\tSegment 22\tscore: 0.9128\n",
            "medline_en-de_opuscat_finetune_de.txt\tSegment 23\tscore: 0.6974\n",
            "medline_en-de_opuscat_finetune_de.txt\tSegment 24\tscore: 0.5961\n",
            "medline_en-de_opuscat_finetune_de.txt\tSegment 25\tscore: 0.0792\n",
            "medline_en-de_opuscat_finetune_de.txt\tSegment 26\tscore: 0.5240\n",
            "medline_en-de_opuscat_finetune_de.txt\tSegment 27\tscore: 0.5110\n",
            "medline_en-de_opuscat_finetune_de.txt\tSegment 28\tscore: 0.6275\n",
            "medline_en-de_opuscat_finetune_de.txt\tSegment 29\tscore: 0.5970\n",
            "medline_en-de_opuscat_finetune_de.txt\tSegment 30\tscore: 0.6564\n",
            "medline_en-de_opuscat_finetune_de.txt\tSegment 31\tscore: 0.4652\n",
            "medline_en-de_opuscat_finetune_de.txt\tSegment 32\tscore: 0.5532\n",
            "medline_en-de_opuscat_finetune_de.txt\tSegment 33\tscore: 0.6822\n",
            "medline_en-de_opuscat_finetune_de.txt\tSegment 34\tscore: 0.4881\n",
            "medline_en-de_opuscat_finetune_de.txt\tSegment 35\tscore: 0.4907\n",
            "medline_en-de_opuscat_finetune_de.txt\tSegment 36\tscore: 0.4577\n",
            "medline_en-de_opuscat_finetune_de.txt\tSegment 37\tscore: 0.4371\n",
            "medline_en-de_opuscat_finetune_de.txt\tSegment 38\tscore: 0.5548\n",
            "medline_en-de_opuscat_finetune_de.txt\tSegment 39\tscore: 0.4419\n",
            "medline_en-de_opuscat_finetune_de.txt\tSegment 40\tscore: 0.9010\n",
            "medline_en-de_opuscat_finetune_de.txt\tSegment 41\tscore: 0.8494\n",
            "medline_en-de_opuscat_finetune_de.txt\tSegment 42\tscore: 0.8116\n",
            "medline_en-de_opuscat_finetune_de.txt\tSegment 43\tscore: 0.7669\n",
            "medline_en-de_opuscat_finetune_de.txt\tSegment 44\tscore: 0.8491\n",
            "medline_en-de_opuscat_finetune_de.txt\tSegment 45\tscore: 0.8860\n",
            "medline_en-de_opuscat_finetune_de.txt\tSegment 46\tscore: 0.9113\n",
            "medline_en-de_opuscat_finetune_de.txt\tSegment 47\tscore: 0.8234\n",
            "medline_en-de_opuscat_finetune_de.txt\tSegment 48\tscore: 0.9265\n",
            "medline_en-de_opuscat_finetune_de.txt\tSegment 49\tscore: 0.7955\n",
            "medline_en-de_opuscat_finetune_de.txt\tSegment 50\tscore: 0.9378\n",
            "medline_en-de_opuscat_finetune_de.txt\tscore: 0.7300\n"
          ]
        }
      ]
    },
    {
      "cell_type": "markdown",
      "source": [
        "## Homework\n",
        "\n",
        "download the notebook and submit\n",
        "\n",
        "For the final essay produce a table that looks like this:\n",
        "\n",
        "| Model      | BLEU | chrF | COMET |\n",
        "| ----------- | ----------- | ----------- | ----------- |\n",
        "| Original Opuscat     |  X  |  X | X |\n",
        "| fine-tune opuscat 700k   | X | X | X |\n",
        "\n",
        "\n"
      ],
      "metadata": {
        "id": "E-yoebHaolGz"
      }
    }
  ]
}